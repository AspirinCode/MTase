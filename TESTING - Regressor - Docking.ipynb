{
 "cells": [
  {
   "cell_type": "markdown",
   "metadata": {},
   "source": [
    "# Import modules"
   ]
  },
  {
   "cell_type": "code",
   "execution_count": 1,
   "metadata": {},
   "outputs": [],
   "source": [
    "%matplotlib inline\n",
    "#%matplotlib notebook\n",
    "\n",
    "#Basic stuff\n",
    "import pandas as pd\n",
    "import numpy as np\n",
    "import matplotlib.pyplot as plt\n",
    "import warnings\n",
    "\n",
    "# ML models\n",
    "from sklearn.model_selection import train_test_split, cross_val_score, cross_val_predict\n",
    "from sklearn.model_selection import GridSearchCV\n",
    "from sklearn.ensemble import RandomForestRegressor\n",
    "from sklearn.metrics import confusion_matrix, precision_score, recall_score, f1_score\n",
    "from sklearn.metrics import precision_recall_curve, roc_curve, roc_auc_score\n",
    "from sklearn.metrics import make_scorer\n",
    "\n",
    "# Regression metrics\n",
    "from sklearn.metrics import explained_variance_score, median_absolute_error\n",
    "from sklearn.metrics import mean_absolute_error, mean_squared_error, r2_score\n",
    "\n",
    "# Initialize tqdm progress bar\n",
    "from tqdm import tqdm, tnrange, tqdm_notebook\n",
    "from tqdm.auto import tqdm\n",
    "tqdm.pandas(tqdm_notebook)"
   ]
  },
  {
   "cell_type": "code",
   "execution_count": 2,
   "metadata": {},
   "outputs": [],
   "source": [
    "%reload_ext autoreload\n",
    "%autoreload 2\n",
    "# The averaged random forest model\n",
    "from MTase.AverageRandomForests import AverageRF\n",
    "from MTase.utils import train_test_split_data"
   ]
  },
  {
   "cell_type": "markdown",
   "metadata": {},
   "source": [
    "# Functions"
   ]
  },
  {
   "cell_type": "code",
   "execution_count": 20,
   "metadata": {
    "code_folding": []
   },
   "outputs": [],
   "source": [
    "def fit_and_test_model(df, sort_to, fit_to, indep):\n",
    "    \"\"\"\n",
    "    Creates and tests a regression model using data from `indep` as the\n",
    "    independent variable and `fit_to` as the target (dependent) variable.\n",
    "    Uses scikit-learn `train_test_split` to separate the data into train and \n",
    "    test groups, using 10% of the data for testing. Then fits the model to \n",
    "    the train group, and calculates statistics using the test group.\n",
    "    \n",
    "    Assumes the DataFrame has a column calld 'PUBCHEM_SID' with an identifier \n",
    "    unique for each molecule, but the same molecule may appear more than\n",
    "    once in the data, due to different protonation states, tautomerization, \n",
    "    etc. So, before trying to build the model, filters the data to \n",
    "    keep only the first appearance of this 'PUBCHEM_SID', as ordered by the\n",
    "    'sort_to' column.\n",
    "    \n",
    "    Parameters:\n",
    "    -----------\n",
    "    \n",
    "    df: Pandas DataFrame\n",
    "        The DataFrame with the data.\n",
    "    \n",
    "    sort_to: str\n",
    "        Column name with the values to sort the DataFrame by. \n",
    "        \n",
    "    fit_to: str\n",
    "        Column name to be used in the correlation.\n",
    "    \n",
    "    indep: str\n",
    "        Column name for the column with values for the independent variable\n",
    "        \n",
    "    Returns:\n",
    "    --------\n",
    "    A `dict` with statistics on the model. Keys:\n",
    "        - \"Explanined Variance Score\",\n",
    "        - \"Mean Absolute Error\",\n",
    "        - \"Mean SQUARED error\", \n",
    "        - \"MEDIAN absolute error\",\n",
    "        - \"R^2 Score\"\n",
    "        \n",
    "    TO-DO:\n",
    "    ------\n",
    "        - Use more than one column for indep, sort_to\n",
    "        - use a generic column to identify molecules\n",
    "    \"\"\"\n",
    "    \n",
    "    _data = None\n",
    "    columns = ['PUBCHEM_SID',sort_to, fit_to, indep]\n",
    "    \n",
    "    if sort_to == fit_to:\n",
    "        columns = ['PUBCHEM_SID',fit_to, indep]\n",
    "        \n",
    "    _data = df.filter(columns,axis=1)\n",
    "    \n",
    "    # Sort & select data\n",
    "    _data.sort_values(by=['PUBCHEM_SID',sort_to], inplace=True)\n",
    "    _data.reset_index(inplace=True)\n",
    "    _data.drop_duplicates(subset=['PUBCHEM_SID'], keep='first', inplace=True)\n",
    "    _data.reset_index(inplace=True)\n",
    "    \n",
    "    # Train-test split\n",
    "    # This split will return the indices for X, and the y values\n",
    "    X_data = _data.index\n",
    "    y_data = _data[fit_to].values\n",
    "    X_train_index, X_test_index, y_train, y_test = train_test_split(X_data, y_data, test_size=0.10, shuffle=True)\n",
    "\n",
    "    # Model\n",
    "    X_train = np.array(list(_data.iloc[X_train_index][indep])).astype(int)\n",
    "    X_test  = np.array(list(_data.iloc[X_test_index][indep])).astype(int)\n",
    "    model = RandomForestRegressor(n_estimators=250)\n",
    "    model.fit(X_train,y_train)\n",
    "    y_pred = model.predict(X_test)\n",
    "    \n",
    "    # Regression stats    \n",
    "    evs  = explained_variance_score(y_test,y_pred)\n",
    "    mae  = mean_absolute_error(y_test, y_pred)\n",
    "    mse  = mean_squared_error(y_test, y_pred)\n",
    "    mdae = median_absolute_error(y_test, y_pred)\n",
    "    r2   = r2_score(y_test, y_pred)\n",
    "    \n",
    "    print(\"\\t\\tExplained Variance Score =\",evs )\n",
    "    print(\"\\t\\tMean Absolute Error      =\",mae )\n",
    "    print(\"\\t\\tMean SQUARED error       =\",mse )\n",
    "    print(\"\\t\\tMEDIAN absolute error    =\",mdae)\n",
    "    print(\"\\t\\tR^2 Score                =\",r2  )\n",
    "    \n",
    "    res = { \"Explanined Variance Score\":evs,\n",
    "            \"Mean Absolute Error\":mae,\n",
    "            \"Mean SQUARED error\":mse, \n",
    "            \"MEDIAN absolute error\":mdae,\n",
    "            \"R^2 Score\":r2}\n",
    "    \n",
    "    return res"
   ]
  },
  {
   "cell_type": "code",
   "execution_count": 4,
   "metadata": {
    "code_folding": [
     0
    ]
   },
   "outputs": [],
   "source": [
    "def correlate_models(df, sort_to, fit_to, indep):\n",
    "    \"\"\"\n",
    "    Measures the correlation between two columns in a dataframe, after\n",
    "    filtering the data for repeating instances of the same molecule.\n",
    "    \n",
    "    Assumes the DataFrame has a column calld 'PUBCHEM_SID' with an identifier \n",
    "    unique for each molecule, but the same molecule may appear more than\n",
    "    once in the data, due to different protonation states, tautomerization, \n",
    "    etc. So, before trying to correlate the data, filters the data to \n",
    "    keep only the first appearance of this 'PUBCHEM_SID', as ordered by the\n",
    "    'sort_to' column.\n",
    "    \n",
    "    Parameters:\n",
    "    -----------\n",
    "    \n",
    "    df: Pandas DataFrame \n",
    "        Dataframe with the data to correlate\n",
    "                \n",
    "    sort_to: str\n",
    "        Column name with the values to sort the DataFrame by. \n",
    "        \n",
    "    fit_to: str\n",
    "        Column name to be used in the correlation.\n",
    "    \n",
    "    indep: str\n",
    "        Column name for the column with values for the independent variable\n",
    "        \n",
    "    Returns:\n",
    "    --------\n",
    "    The correlation coefficient obtained by Pandas `df.corr` method.\n",
    "    \n",
    "    TO-DO:\n",
    "    ------\n",
    "        - Use more than one column for indep, sort_to\n",
    "        - use a generic column to identify molecules\n",
    "\n",
    "    \"\"\"\n",
    "    _data = None\n",
    "    columns = ['PUBCHEM_SID',sort_to, fit_to, indep]\n",
    "    \n",
    "    if sort_to == fit_to:\n",
    "        columns = ['PUBCHEM_SID',fit_to, indep]\n",
    "        \n",
    "    _data = df.filter(columns,axis=1)\n",
    "    \n",
    "    # sort_to & select data\n",
    "    _data.sort_values(by=['PUBCHEM_SID',sort_to], inplace=True)\n",
    "    _data.reset_index(inplace=True)\n",
    "    _data.drop_duplicates(subset=['PUBCHEM_SID'], keep='first', inplace=True)\n",
    "    _data.reset_index(inplace=True)\n",
    "    \n",
    "    correlation = _data[fit_to].corr(_data[indep])\n",
    "    \n",
    "    print(f\"\\tCorrelation between {fit_to} and {indep} = {correlation:0.3f}\" )\n",
    "    \n",
    "    return correlation"
   ]
  },
  {
   "cell_type": "markdown",
   "metadata": {},
   "source": [
    "# Data"
   ]
  },
  {
   "cell_type": "code",
   "execution_count": 5,
   "metadata": {},
   "outputs": [],
   "source": [
    "active = pd.read_pickle(\"./data/active_df_fp.pkl.bz2\")"
   ]
  },
  {
   "cell_type": "code",
   "execution_count": 6,
   "metadata": {},
   "outputs": [],
   "source": [
    "sd_3evg_file  = \"./data/dock_minSD_3evg-gdp_noH2O.csv\"\n",
    "opt_3evg_file = \"./data/dock_minOpt_3evg-gdp_noH2O.csv\"\n",
    "columns = [\"docking score SP\",\"glide emodel SP\",\"glide energy\",\"PUBCHEM_SID\",\"Log IC50\",\"IC50\"]\n",
    "column_types = {'PUBCHEM_SID':np.int64,\n",
    "                'docking score SP':np.float64,'glide emodel SP':np.float64,'glide energy':np.float64,\n",
    "                'Log IC50':np.float64,'IC50':np.float64}"
   ]
  },
  {
   "cell_type": "code",
   "execution_count": 7,
   "metadata": {},
   "outputs": [],
   "source": [
    "docking = pd.read_csv(sd_3evg_file,usecols=columns,dtype=column_types)"
   ]
  },
  {
   "cell_type": "code",
   "execution_count": 8,
   "metadata": {},
   "outputs": [
    {
     "data": {
      "text/html": [
       "<style  type=\"text/css\" >\n",
       "    #T_6879a546_8226_11e9_823e_9828a60c1b76row0_col0 {\n",
       "            background-color:  #b40426;\n",
       "            color:  #f1f1f1;\n",
       "        }    #T_6879a546_8226_11e9_823e_9828a60c1b76row0_col1 {\n",
       "            background-color:  #c43032;\n",
       "            color:  #f1f1f1;\n",
       "        }    #T_6879a546_8226_11e9_823e_9828a60c1b76row0_col2 {\n",
       "            background-color:  #3b4cc0;\n",
       "            color:  #f1f1f1;\n",
       "        }    #T_6879a546_8226_11e9_823e_9828a60c1b76row0_col3 {\n",
       "            background-color:  #3b4cc0;\n",
       "            color:  #f1f1f1;\n",
       "        }    #T_6879a546_8226_11e9_823e_9828a60c1b76row0_col4 {\n",
       "            background-color:  #3b4cc0;\n",
       "            color:  #f1f1f1;\n",
       "        }    #T_6879a546_8226_11e9_823e_9828a60c1b76row1_col0 {\n",
       "            background-color:  #c43032;\n",
       "            color:  #f1f1f1;\n",
       "        }    #T_6879a546_8226_11e9_823e_9828a60c1b76row1_col1 {\n",
       "            background-color:  #b40426;\n",
       "            color:  #f1f1f1;\n",
       "        }    #T_6879a546_8226_11e9_823e_9828a60c1b76row1_col2 {\n",
       "            background-color:  #3c4ec2;\n",
       "            color:  #f1f1f1;\n",
       "        }    #T_6879a546_8226_11e9_823e_9828a60c1b76row1_col3 {\n",
       "            background-color:  #4055c8;\n",
       "            color:  #f1f1f1;\n",
       "        }    #T_6879a546_8226_11e9_823e_9828a60c1b76row1_col4 {\n",
       "            background-color:  #3f53c6;\n",
       "            color:  #f1f1f1;\n",
       "        }    #T_6879a546_8226_11e9_823e_9828a60c1b76row2_col0 {\n",
       "            background-color:  #6788ee;\n",
       "            color:  #000000;\n",
       "        }    #T_6879a546_8226_11e9_823e_9828a60c1b76row2_col1 {\n",
       "            background-color:  #6282ea;\n",
       "            color:  #000000;\n",
       "        }    #T_6879a546_8226_11e9_823e_9828a60c1b76row2_col2 {\n",
       "            background-color:  #b40426;\n",
       "            color:  #f1f1f1;\n",
       "        }    #T_6879a546_8226_11e9_823e_9828a60c1b76row2_col3 {\n",
       "            background-color:  #f3c8b2;\n",
       "            color:  #000000;\n",
       "        }    #T_6879a546_8226_11e9_823e_9828a60c1b76row2_col4 {\n",
       "            background-color:  #c6d6f1;\n",
       "            color:  #000000;\n",
       "        }    #T_6879a546_8226_11e9_823e_9828a60c1b76row3_col0 {\n",
       "            background-color:  #3b4cc0;\n",
       "            color:  #f1f1f1;\n",
       "        }    #T_6879a546_8226_11e9_823e_9828a60c1b76row3_col1 {\n",
       "            background-color:  #3b4cc0;\n",
       "            color:  #f1f1f1;\n",
       "        }    #T_6879a546_8226_11e9_823e_9828a60c1b76row3_col2 {\n",
       "            background-color:  #e9d5cb;\n",
       "            color:  #000000;\n",
       "        }    #T_6879a546_8226_11e9_823e_9828a60c1b76row3_col3 {\n",
       "            background-color:  #b40426;\n",
       "            color:  #f1f1f1;\n",
       "        }    #T_6879a546_8226_11e9_823e_9828a60c1b76row3_col4 {\n",
       "            background-color:  #e36c55;\n",
       "            color:  #000000;\n",
       "        }    #T_6879a546_8226_11e9_823e_9828a60c1b76row4_col0 {\n",
       "            background-color:  #3b4cc0;\n",
       "            color:  #f1f1f1;\n",
       "        }    #T_6879a546_8226_11e9_823e_9828a60c1b76row4_col1 {\n",
       "            background-color:  #3b4cc0;\n",
       "            color:  #f1f1f1;\n",
       "        }    #T_6879a546_8226_11e9_823e_9828a60c1b76row4_col2 {\n",
       "            background-color:  #a9c6fd;\n",
       "            color:  #000000;\n",
       "        }    #T_6879a546_8226_11e9_823e_9828a60c1b76row4_col3 {\n",
       "            background-color:  #e36c55;\n",
       "            color:  #000000;\n",
       "        }    #T_6879a546_8226_11e9_823e_9828a60c1b76row4_col4 {\n",
       "            background-color:  #b40426;\n",
       "            color:  #f1f1f1;\n",
       "        }</style><table id=\"T_6879a546_8226_11e9_823e_9828a60c1b76\" ><thead>    <tr>        <th class=\"blank level0\" ></th>        <th class=\"col_heading level0 col0\" >Log IC50</th>        <th class=\"col_heading level0 col1\" >IC50</th>        <th class=\"col_heading level0 col2\" >docking score SP</th>        <th class=\"col_heading level0 col3\" >glide emodel SP</th>        <th class=\"col_heading level0 col4\" >glide energy</th>    </tr></thead><tbody>\n",
       "                <tr>\n",
       "                        <th id=\"T_6879a546_8226_11e9_823e_9828a60c1b76level0_row0\" class=\"row_heading level0 row0\" >Log IC50</th>\n",
       "                        <td id=\"T_6879a546_8226_11e9_823e_9828a60c1b76row0_col0\" class=\"data row0 col0\" >1</td>\n",
       "                        <td id=\"T_6879a546_8226_11e9_823e_9828a60c1b76row0_col1\" class=\"data row0 col1\" >0.95</td>\n",
       "                        <td id=\"T_6879a546_8226_11e9_823e_9828a60c1b76row0_col2\" class=\"data row0 col2\" >0.02</td>\n",
       "                        <td id=\"T_6879a546_8226_11e9_823e_9828a60c1b76row0_col3\" class=\"data row0 col3\" >-0.14</td>\n",
       "                        <td id=\"T_6879a546_8226_11e9_823e_9828a60c1b76row0_col4\" class=\"data row0 col4\" >-0.14</td>\n",
       "            </tr>\n",
       "            <tr>\n",
       "                        <th id=\"T_6879a546_8226_11e9_823e_9828a60c1b76level0_row1\" class=\"row_heading level0 row1\" >IC50</th>\n",
       "                        <td id=\"T_6879a546_8226_11e9_823e_9828a60c1b76row1_col0\" class=\"data row1 col0\" >0.95</td>\n",
       "                        <td id=\"T_6879a546_8226_11e9_823e_9828a60c1b76row1_col1\" class=\"data row1 col1\" >1</td>\n",
       "                        <td id=\"T_6879a546_8226_11e9_823e_9828a60c1b76row1_col2\" class=\"data row1 col2\" >0.025</td>\n",
       "                        <td id=\"T_6879a546_8226_11e9_823e_9828a60c1b76row1_col3\" class=\"data row1 col3\" >-0.11</td>\n",
       "                        <td id=\"T_6879a546_8226_11e9_823e_9828a60c1b76row1_col4\" class=\"data row1 col4\" >-0.11</td>\n",
       "            </tr>\n",
       "            <tr>\n",
       "                        <th id=\"T_6879a546_8226_11e9_823e_9828a60c1b76level0_row2\" class=\"row_heading level0 row2\" >docking score SP</th>\n",
       "                        <td id=\"T_6879a546_8226_11e9_823e_9828a60c1b76row2_col0\" class=\"data row2 col0\" >0.02</td>\n",
       "                        <td id=\"T_6879a546_8226_11e9_823e_9828a60c1b76row2_col1\" class=\"data row2 col1\" >0.025</td>\n",
       "                        <td id=\"T_6879a546_8226_11e9_823e_9828a60c1b76row2_col2\" class=\"data row2 col2\" >1</td>\n",
       "                        <td id=\"T_6879a546_8226_11e9_823e_9828a60c1b76row2_col3\" class=\"data row2 col3\" >0.56</td>\n",
       "                        <td id=\"T_6879a546_8226_11e9_823e_9828a60c1b76row2_col4\" class=\"data row2 col4\" >0.34</td>\n",
       "            </tr>\n",
       "            <tr>\n",
       "                        <th id=\"T_6879a546_8226_11e9_823e_9828a60c1b76level0_row3\" class=\"row_heading level0 row3\" >glide emodel SP</th>\n",
       "                        <td id=\"T_6879a546_8226_11e9_823e_9828a60c1b76row3_col0\" class=\"data row3 col0\" >-0.14</td>\n",
       "                        <td id=\"T_6879a546_8226_11e9_823e_9828a60c1b76row3_col1\" class=\"data row3 col1\" >-0.11</td>\n",
       "                        <td id=\"T_6879a546_8226_11e9_823e_9828a60c1b76row3_col2\" class=\"data row3 col2\" >0.56</td>\n",
       "                        <td id=\"T_6879a546_8226_11e9_823e_9828a60c1b76row3_col3\" class=\"data row3 col3\" >1</td>\n",
       "                        <td id=\"T_6879a546_8226_11e9_823e_9828a60c1b76row3_col4\" class=\"data row3 col4\" >0.83</td>\n",
       "            </tr>\n",
       "            <tr>\n",
       "                        <th id=\"T_6879a546_8226_11e9_823e_9828a60c1b76level0_row4\" class=\"row_heading level0 row4\" >glide energy</th>\n",
       "                        <td id=\"T_6879a546_8226_11e9_823e_9828a60c1b76row4_col0\" class=\"data row4 col0\" >-0.14</td>\n",
       "                        <td id=\"T_6879a546_8226_11e9_823e_9828a60c1b76row4_col1\" class=\"data row4 col1\" >-0.11</td>\n",
       "                        <td id=\"T_6879a546_8226_11e9_823e_9828a60c1b76row4_col2\" class=\"data row4 col2\" >0.34</td>\n",
       "                        <td id=\"T_6879a546_8226_11e9_823e_9828a60c1b76row4_col3\" class=\"data row4 col3\" >0.83</td>\n",
       "                        <td id=\"T_6879a546_8226_11e9_823e_9828a60c1b76row4_col4\" class=\"data row4 col4\" >1</td>\n",
       "            </tr>\n",
       "    </tbody></table>"
      ],
      "text/plain": [
       "<pandas.io.formats.style.Styler at 0x21d2cb39160>"
      ]
     },
     "execution_count": 8,
     "metadata": {},
     "output_type": "execute_result"
    }
   ],
   "source": [
    "#active.corr()\n",
    "corr = docking[['Log IC50','IC50',\n",
    "              'docking score SP', 'glide emodel SP','glide energy']].corr()\n",
    "corr.style.background_gradient(cmap='coolwarm').set_precision(2)"
   ]
  },
  {
   "cell_type": "code",
   "execution_count": 19,
   "metadata": {},
   "outputs": [
    {
     "data": {
      "text/html": [
       "<div>\n",
       "<style scoped>\n",
       "    .dataframe tbody tr th:only-of-type {\n",
       "        vertical-align: middle;\n",
       "    }\n",
       "\n",
       "    .dataframe tbody tr th {\n",
       "        vertical-align: top;\n",
       "    }\n",
       "\n",
       "    .dataframe thead th {\n",
       "        text-align: right;\n",
       "    }\n",
       "</style>\n",
       "<table border=\"1\" class=\"dataframe\">\n",
       "  <thead>\n",
       "    <tr style=\"text-align: right;\">\n",
       "      <th></th>\n",
       "      <th>docking score SP</th>\n",
       "      <th>glide emodel SP</th>\n",
       "      <th>glide energy</th>\n",
       "      <th>PUBCHEM_SID</th>\n",
       "      <th>Log IC50</th>\n",
       "      <th>IC50</th>\n",
       "    </tr>\n",
       "  </thead>\n",
       "  <tbody>\n",
       "    <tr>\n",
       "      <th>0</th>\n",
       "      <td>-7.102</td>\n",
       "      <td>-74.883</td>\n",
       "      <td>-42.417</td>\n",
       "      <td>92764077</td>\n",
       "      <td>-4.40</td>\n",
       "      <td>39.811</td>\n",
       "    </tr>\n",
       "    <tr>\n",
       "      <th>1</th>\n",
       "      <td>-6.629</td>\n",
       "      <td>-76.028</td>\n",
       "      <td>-45.672</td>\n",
       "      <td>49679658</td>\n",
       "      <td>-4.70</td>\n",
       "      <td>19.953</td>\n",
       "    </tr>\n",
       "    <tr>\n",
       "      <th>2</th>\n",
       "      <td>-6.616</td>\n",
       "      <td>-101.751</td>\n",
       "      <td>-56.645</td>\n",
       "      <td>92763732</td>\n",
       "      <td>-5.05</td>\n",
       "      <td>8.913</td>\n",
       "    </tr>\n",
       "    <tr>\n",
       "      <th>3</th>\n",
       "      <td>-6.519</td>\n",
       "      <td>-91.731</td>\n",
       "      <td>-37.337</td>\n",
       "      <td>93576898</td>\n",
       "      <td>-4.65</td>\n",
       "      <td>22.387</td>\n",
       "    </tr>\n",
       "    <tr>\n",
       "      <th>4</th>\n",
       "      <td>-6.456</td>\n",
       "      <td>-68.044</td>\n",
       "      <td>-51.568</td>\n",
       "      <td>24782281</td>\n",
       "      <td>-4.95</td>\n",
       "      <td>11.220</td>\n",
       "    </tr>\n",
       "  </tbody>\n",
       "</table>\n",
       "</div>"
      ],
      "text/plain": [
       "   docking score SP  glide emodel SP  glide energy  PUBCHEM_SID  Log IC50  \\\n",
       "0            -7.102          -74.883       -42.417     92764077     -4.40   \n",
       "1            -6.629          -76.028       -45.672     49679658     -4.70   \n",
       "2            -6.616         -101.751       -56.645     92763732     -5.05   \n",
       "3            -6.519          -91.731       -37.337     93576898     -4.65   \n",
       "4            -6.456          -68.044       -51.568     24782281     -4.95   \n",
       "\n",
       "     IC50  \n",
       "0  39.811  \n",
       "1  19.953  \n",
       "2   8.913  \n",
       "3  22.387  \n",
       "4  11.220  "
      ]
     },
     "execution_count": 19,
     "metadata": {},
     "output_type": "execute_result"
    }
   ],
   "source": [
    "docking.head()"
   ]
  },
  {
   "cell_type": "markdown",
   "metadata": {},
   "source": [
    "# Test Dockings"
   ]
  },
  {
   "cell_type": "code",
   "execution_count": 16,
   "metadata": {},
   "outputs": [],
   "source": [
    "minimizations = [{'Algorithm':'SD', 'file':sd_3evg_file},\n",
    "                 {'Algorithm':'Optimal', 'file':sd_3evg_file}]"
   ]
  },
  {
   "cell_type": "code",
   "execution_count": 11,
   "metadata": {},
   "outputs": [],
   "source": [
    "descriptors = ['RDKit Fingerprints', 'Morgan Fingerprints']\n",
    "models = {'Dock_Sc//EModel  (SP)':{'sort':'glide emodel SP' , 'fit_to':'docking score SP'},\n",
    "          'GlideE//EModel   (SP)':{'sort':'glide emodel SP' , 'fit_to':'glide energy' },\n",
    "          'EModel//EModel   (SP)':{'sort':'glide emodel SP' , 'fit_to':'glide emodel SP' },\n",
    "          'Dock_Sc//Dock_Sc (SP)':{'sort':'docking score SP', 'fit_to':'docking score SP'},\n",
    "          'GlideE//GlideE   (SP)':{'sort':'glide energy'    , 'fit_to':'glide energy' },\n",
    "          }"
   ]
  },
  {
   "cell_type": "markdown",
   "metadata": {
    "heading_collapsed": true
   },
   "source": [
    "## Correlation to IC50"
   ]
  },
  {
   "cell_type": "code",
   "execution_count": 17,
   "metadata": {
    "hidden": true
   },
   "outputs": [
    {
     "data": {
      "application/vnd.jupyter.widget-view+json": {
       "model_id": "1612f333f1b0475c8cc9c5c42df1c9eb",
       "version_major": 2,
       "version_minor": 0
      },
      "text/plain": [
       "HBox(children=(IntProgress(value=0, max=2), HTML(value='')))"
      ]
     },
     "metadata": {},
     "output_type": "display_data"
    },
    {
     "name": "stdout",
     "output_type": "stream",
     "text": [
      "Using SD minimizations\n",
      "\n",
      "**************************************************\n"
     ]
    },
    {
     "data": {
      "application/vnd.jupyter.widget-view+json": {
       "model_id": "1cd3fd2021cb43ad96a37252d4812dcb",
       "version_major": 2,
       "version_minor": 0
      },
      "text/plain": [
       "HBox(children=(IntProgress(value=0, max=2), HTML(value='')))"
      ]
     },
     "metadata": {},
     "output_type": "display_data"
    },
    {
     "data": {
      "application/vnd.jupyter.widget-view+json": {
       "model_id": "9d590bdcb3b54050b55dfca3421e6931",
       "version_major": 2,
       "version_minor": 0
      },
      "text/plain": [
       "HBox(children=(IntProgress(value=0, max=5), HTML(value='')))"
      ]
     },
     "metadata": {},
     "output_type": "display_data"
    },
    {
     "name": "stdout",
     "output_type": "stream",
     "text": [
      "\n",
      " ------------------------------\n",
      "Log IC50            : Dock_Sc//EModel  (SP) : Sorted by glide emodel SP  : Scored by docking score SP\n",
      "\tCorrelation between docking score SP and Log IC50 = -0.002\n",
      "\n",
      " ------------------------------\n",
      "Log IC50            : GlideE//EModel   (SP) : Sorted by glide emodel SP  : Scored by glide energy   \n",
      "\tCorrelation between glide energy and Log IC50 = -0.170\n",
      "\n",
      " ------------------------------\n",
      "Log IC50            : EModel//EModel   (SP) : Sorted by glide emodel SP  : Scored by glide emodel SP\n",
      "\tCorrelation between glide emodel SP and Log IC50 = -0.164\n",
      "\n",
      " ------------------------------\n",
      "Log IC50            : Dock_Sc//Dock_Sc (SP) : Sorted by docking score SP : Scored by docking score SP\n",
      "\tCorrelation between docking score SP and Log IC50 = -0.010\n",
      "\n",
      " ------------------------------\n",
      "Log IC50            : GlideE//GlideE   (SP) : Sorted by glide energy     : Scored by glide energy   \n",
      "\tCorrelation between glide energy and Log IC50 = -0.172\n"
     ]
    },
    {
     "data": {
      "application/vnd.jupyter.widget-view+json": {
       "model_id": "989f9669de0e426f993cfa626c39af21",
       "version_major": 2,
       "version_minor": 0
      },
      "text/plain": [
       "HBox(children=(IntProgress(value=0, max=5), HTML(value='')))"
      ]
     },
     "metadata": {},
     "output_type": "display_data"
    },
    {
     "name": "stdout",
     "output_type": "stream",
     "text": [
      "\n",
      " ------------------------------\n",
      "IC50                : Dock_Sc//EModel  (SP) : Sorted by glide emodel SP  : Scored by docking score SP\n",
      "\tCorrelation between docking score SP and IC50 = 0.010\n",
      "\n",
      " ------------------------------\n",
      "IC50                : GlideE//EModel   (SP) : Sorted by glide emodel SP  : Scored by glide energy   \n",
      "\tCorrelation between glide energy and IC50 = -0.144\n",
      "\n",
      " ------------------------------\n",
      "IC50                : EModel//EModel   (SP) : Sorted by glide emodel SP  : Scored by glide emodel SP\n",
      "\tCorrelation between glide emodel SP and IC50 = -0.135\n",
      "\n",
      " ------------------------------\n",
      "IC50                : Dock_Sc//Dock_Sc (SP) : Sorted by docking score SP : Scored by docking score SP\n",
      "\tCorrelation between docking score SP and IC50 = 0.001\n",
      "\n",
      " ------------------------------\n",
      "IC50                : GlideE//GlideE   (SP) : Sorted by glide energy     : Scored by glide energy   \n",
      "\tCorrelation between glide energy and IC50 = -0.148\n",
      "Using Optimal minimizations\n",
      "\n",
      "**************************************************\n"
     ]
    },
    {
     "data": {
      "application/vnd.jupyter.widget-view+json": {
       "model_id": "9bc59b4b0ee7428c83df49bca5bc5ab9",
       "version_major": 2,
       "version_minor": 0
      },
      "text/plain": [
       "HBox(children=(IntProgress(value=0, max=2), HTML(value='')))"
      ]
     },
     "metadata": {},
     "output_type": "display_data"
    },
    {
     "data": {
      "application/vnd.jupyter.widget-view+json": {
       "model_id": "8950795c5343449ca6f8f8dac274a28c",
       "version_major": 2,
       "version_minor": 0
      },
      "text/plain": [
       "HBox(children=(IntProgress(value=0, max=5), HTML(value='')))"
      ]
     },
     "metadata": {},
     "output_type": "display_data"
    },
    {
     "name": "stdout",
     "output_type": "stream",
     "text": [
      "\n",
      " ------------------------------\n",
      "Log IC50            : Dock_Sc//EModel  (SP) : Sorted by glide emodel SP  : Scored by docking score SP\n",
      "\tCorrelation between docking score SP and Log IC50 = -0.002\n",
      "\n",
      " ------------------------------\n",
      "Log IC50            : GlideE//EModel   (SP) : Sorted by glide emodel SP  : Scored by glide energy   \n",
      "\tCorrelation between glide energy and Log IC50 = -0.170\n",
      "\n",
      " ------------------------------\n",
      "Log IC50            : EModel//EModel   (SP) : Sorted by glide emodel SP  : Scored by glide emodel SP\n",
      "\tCorrelation between glide emodel SP and Log IC50 = -0.164\n",
      "\n",
      " ------------------------------\n",
      "Log IC50            : Dock_Sc//Dock_Sc (SP) : Sorted by docking score SP : Scored by docking score SP\n",
      "\tCorrelation between docking score SP and Log IC50 = -0.010\n",
      "\n",
      " ------------------------------\n",
      "Log IC50            : GlideE//GlideE   (SP) : Sorted by glide energy     : Scored by glide energy   \n",
      "\tCorrelation between glide energy and Log IC50 = -0.172\n"
     ]
    },
    {
     "data": {
      "application/vnd.jupyter.widget-view+json": {
       "model_id": "bf66fdb7ab344ce4a420525a9f430681",
       "version_major": 2,
       "version_minor": 0
      },
      "text/plain": [
       "HBox(children=(IntProgress(value=0, max=5), HTML(value='')))"
      ]
     },
     "metadata": {},
     "output_type": "display_data"
    },
    {
     "name": "stdout",
     "output_type": "stream",
     "text": [
      "\n",
      " ------------------------------\n",
      "IC50                : Dock_Sc//EModel  (SP) : Sorted by glide emodel SP  : Scored by docking score SP\n",
      "\tCorrelation between docking score SP and IC50 = 0.010\n",
      "\n",
      " ------------------------------\n",
      "IC50                : GlideE//EModel   (SP) : Sorted by glide emodel SP  : Scored by glide energy   \n",
      "\tCorrelation between glide energy and IC50 = -0.144\n",
      "\n",
      " ------------------------------\n",
      "IC50                : EModel//EModel   (SP) : Sorted by glide emodel SP  : Scored by glide emodel SP\n",
      "\tCorrelation between glide emodel SP and IC50 = -0.135\n",
      "\n",
      " ------------------------------\n",
      "IC50                : Dock_Sc//Dock_Sc (SP) : Sorted by docking score SP : Scored by docking score SP\n",
      "\tCorrelation between docking score SP and IC50 = 0.001\n",
      "\n",
      " ------------------------------\n",
      "IC50                : GlideE//GlideE   (SP) : Sorted by glide energy     : Scored by glide energy   \n",
      "\tCorrelation between glide energy and IC50 = -0.148\n",
      "\n",
      "\n",
      " Done.\n"
     ]
    }
   ],
   "source": [
    "correlations = pd.DataFrame(columns=[\"Algorithm\",\"Name\", \"Target\",\"Correlation\"])\n",
    "for minim in tqdm(minimizations):\n",
    "    _file = minim['file']\n",
    "    _alg  = minim['Algorithm']\n",
    "    \n",
    "    active = pd.read_csv(_file,usecols=columns,dtype=column_types)\n",
    "    print(f\"Using {_alg} minimizations\\n\")\n",
    "    print(50*\"*\")\n",
    "    for indep in tqdm(['Log IC50','IC50']):\n",
    "        for model in tqdm(models):\n",
    "            m = models[model]\n",
    "            sort = m['sort']\n",
    "            fit_to = m['fit_to']\n",
    "            print(\"\\n\", 30*\"-\")\n",
    "            print(f\"{indep:19s} : {model:15} : Sorted by {sort:16} : Scored by {fit_to:15}\")\n",
    "            corr = correlate_models(active, sort, fit_to, indep)\n",
    "            \n",
    "            _res = {\"Algorithm\":_alg,\"Name\":model, \"Target\":indep,\"Correlation\":corr}\n",
    "            correlations = correlations.append(_res, ignore_index=True)\n",
    "\n",
    "print(\"\\n Done.\")"
   ]
  },
  {
   "cell_type": "code",
   "execution_count": 18,
   "metadata": {
    "hidden": true
   },
   "outputs": [
    {
     "data": {
      "image/png": "[encoded data removed]",
      "text/plain": [
       "<Figure size 720x432 with 2 Axes>"
      ]
     },
     "metadata": {
      "needs_background": "light"
     },
     "output_type": "display_data"
    }
   ],
   "source": [
    "fig, ax = plt.subplots(nrows=1, ncols=2, sharey=True, figsize=(10, 6))\n",
    "correlations[correlations['Target'] == 'IC50'].plot.bar(x='Name', y='Correlation', title=\"IC50\", ax=ax[0], rot=90)\n",
    "correlations[correlations['Target'] == 'Log IC50'].plot.bar(x='Name', y='Correlation', title=\"LogIC50\", ax=ax[1], rot=90)\n",
    "plt.tight_layout()\n",
    "fig.subplots_adjust(wspace=0)"
   ]
  },
  {
   "cell_type": "markdown",
   "metadata": {},
   "source": [
    "## Modeling the Docking Results"
   ]
  },
  {
   "cell_type": "code",
   "execution_count": 22,
   "metadata": {},
   "outputs": [],
   "source": [
    "# Read fingerprints\n",
    "fp_file = \"./data/active_df_fp.pkl.bz2\"\n",
    "fingerprints = pd.read_pickle(fp_file)\n",
    "fingerprints = fingerprints[['PUBCHEM_SID','RDKit Fingerprints', 'Morgan Fingerprints']]"
   ]
  },
  {
   "cell_type": "code",
   "execution_count": 33,
   "metadata": {},
   "outputs": [
    {
     "data": {
      "application/vnd.jupyter.widget-view+json": {
       "model_id": "6595a698e5f14fd99ba488a0f999f51f",
       "version_major": 2,
       "version_minor": 0
      },
      "text/plain": [
       "HBox(children=(IntProgress(value=0, max=2), HTML(value='')))"
      ]
     },
     "metadata": {},
     "output_type": "display_data"
    },
    {
     "name": "stdout",
     "output_type": "stream",
     "text": [
      "Using SD minimizations\n",
      "\n",
      "**************************************************\n"
     ]
    },
    {
     "data": {
      "application/vnd.jupyter.widget-view+json": {
       "model_id": "bf240a2859af494c9a79165068673a7a",
       "version_major": 2,
       "version_minor": 0
      },
      "text/plain": [
       "HBox(children=(IntProgress(value=0, max=2), HTML(value='')))"
      ]
     },
     "metadata": {},
     "output_type": "display_data"
    },
    {
     "data": {
      "application/vnd.jupyter.widget-view+json": {
       "model_id": "5731d4a8b37240d0a06b281703d96369",
       "version_major": 2,
       "version_minor": 0
      },
      "text/plain": [
       "HBox(children=(IntProgress(value=0, max=5), HTML(value='')))"
      ]
     },
     "metadata": {},
     "output_type": "display_data"
    },
    {
     "name": "stdout",
     "output_type": "stream",
     "text": [
      "\n",
      " ------------------------------\n",
      "RDKit Fingerprints  : Dock_Sc//EModel  (SP) : glide energy     : docking score SP\n",
      "\t\tExplained Variance Score = 0.12685630861090058\n",
      "\t\tMean Absolute Error      = 0.5393845227642273\n",
      "\t\tMean SQUARED error       = 0.648784260588225\n",
      "\t\tMEDIAN absolute error    = 0.3595766666666669\n",
      "\t\tR^2 Score                = 0.12321351444685014\n",
      "\n",
      " ------------------------------\n",
      "RDKit Fingerprints  : GlideE//EModel   (SP) : glide energy     : glide energy   \n",
      "\t\tExplained Variance Score = 0.4425176820909621\n",
      "\t\tMean Absolute Error      = 3.385083933797909\n",
      "\t\tMean SQUARED error       = 17.931476296849667\n",
      "\t\tMEDIAN absolute error    = 2.625526999999991\n",
      "\t\tR^2 Score                = 0.44178796617692095\n",
      "\n",
      " ------------------------------\n",
      "RDKit Fingerprints  : EModel//EModel   (SP) : glide energy     : glide emodel SP\n",
      "\t\tExplained Variance Score = 0.5271781367913235\n",
      "\t\tMean Absolute Error      = 5.428216242276415\n",
      "\t\tMean SQUARED error       = 47.42974688097595\n",
      "\t\tMEDIAN absolute error    = 4.310406000000011\n",
      "\t\tR^2 Score                = 0.5267987587349338\n",
      "\n",
      " ------------------------------\n",
      "RDKit Fingerprints  : Dock_Sc//Dock_Sc (SP) : glide energy     : docking score SP\n",
      "\t\tExplained Variance Score = 0.1977421165174671\n",
      "\t\tMean Absolute Error      = 0.5817490888501747\n",
      "\t\tMean SQUARED error       = 0.5232565441531288\n",
      "\t\tMEDIAN absolute error    = 0.5222685000000045\n",
      "\t\tR^2 Score                = 0.18771136967556357\n",
      "\n",
      " ------------------------------\n",
      "RDKit Fingerprints  : GlideE//GlideE   (SP) : glide energy     : glide energy   \n",
      "\t\tExplained Variance Score = 0.6724072141330628\n",
      "\t\tMean Absolute Error      = 2.6681669780487747\n",
      "\t\tMean SQUARED error       = 11.454391604244632\n",
      "\t\tMEDIAN absolute error    = 2.267484999999983\n",
      "\t\tR^2 Score                = 0.6721634657644361\n"
     ]
    },
    {
     "data": {
      "application/vnd.jupyter.widget-view+json": {
       "model_id": "bf562bd9f0b94ba0a66e7ce3e20283a0",
       "version_major": 2,
       "version_minor": 0
      },
      "text/plain": [
       "HBox(children=(IntProgress(value=0, max=5), HTML(value='')))"
      ]
     },
     "metadata": {},
     "output_type": "display_data"
    },
    {
     "name": "stdout",
     "output_type": "stream",
     "text": [
      "\n",
      " ------------------------------\n",
      "Morgan Fingerprints : Dock_Sc//EModel  (SP) : glide energy     : docking score SP\n",
      "\t\tExplained Variance Score = 0.2106286389238332\n",
      "\t\tMean Absolute Error      = 0.48921535853658477\n",
      "\t\tMean SQUARED error       = 0.5715093518605443\n",
      "\t\tMEDIAN absolute error    = 0.30943199999999904\n",
      "\t\tR^2 Score                = 0.20234835756116998\n",
      "\n",
      " ------------------------------\n",
      "Morgan Fingerprints : GlideE//EModel   (SP) : glide energy     : glide energy   \n",
      "\t\tExplained Variance Score = 0.5750700706139837\n",
      "\t\tMean Absolute Error      = 2.771020711382111\n",
      "\t\tMean SQUARED error       = 13.679189089613889\n",
      "\t\tMEDIAN absolute error    = 2.0344699999999882\n",
      "\t\tR^2 Score                = 0.5672432162095304\n",
      "\n",
      " ------------------------------\n",
      "Morgan Fingerprints : EModel//EModel   (SP) : glide energy     : glide emodel SP\n",
      "\t\tExplained Variance Score = 0.7426171152908098\n",
      "\t\tMean Absolute Error      = 4.063136893379786\n",
      "\t\tMean SQUARED error       = 27.76949243995879\n",
      "\t\tMEDIAN absolute error    = 3.1645739999999662\n",
      "\t\tR^2 Score                = 0.734483009418547\n",
      "\n",
      " ------------------------------\n",
      "Morgan Fingerprints : Dock_Sc//Dock_Sc (SP) : glide energy     : docking score SP\n",
      "\t\tExplained Variance Score = 0.23228548371893498\n",
      "\t\tMean Absolute Error      = 0.5096243422764225\n",
      "\t\tMean SQUARED error       = 0.430243627563365\n",
      "\t\tMEDIAN absolute error    = 0.39163400000000226\n",
      "\t\tR^2 Score                = 0.2318382475589691\n",
      "\n",
      " ------------------------------\n",
      "Morgan Fingerprints : GlideE//GlideE   (SP) : glide energy     : glide energy   \n",
      "\t\tExplained Variance Score = 0.43378260643547384\n",
      "\t\tMean Absolute Error      = 3.2698563721254383\n",
      "\t\tMean SQUARED error       = 20.43633975333326\n",
      "\t\tMEDIAN absolute error    = 2.1639598000000007\n",
      "\t\tR^2 Score                = 0.4229392208482875\n",
      "Using Optimal minimizations\n",
      "\n",
      "**************************************************\n"
     ]
    },
    {
     "data": {
      "application/vnd.jupyter.widget-view+json": {
       "model_id": "433b95ae4ebf4fd4999a60286aaf051e",
       "version_major": 2,
       "version_minor": 0
      },
      "text/plain": [
       "HBox(children=(IntProgress(value=0, max=2), HTML(value='')))"
      ]
     },
     "metadata": {},
     "output_type": "display_data"
    },
    {
     "data": {
      "application/vnd.jupyter.widget-view+json": {
       "model_id": "26fce0074c8149e1b91b649904faf370",
       "version_major": 2,
       "version_minor": 0
      },
      "text/plain": [
       "HBox(children=(IntProgress(value=0, max=5), HTML(value='')))"
      ]
     },
     "metadata": {},
     "output_type": "display_data"
    },
    {
     "name": "stdout",
     "output_type": "stream",
     "text": [
      "\n",
      " ------------------------------\n",
      "RDKit Fingerprints  : Dock_Sc//EModel  (SP) : glide energy     : docking score SP\n",
      "\t\tExplained Variance Score = 0.0819871004873084\n",
      "\t\tMean Absolute Error      = 0.4884703373983737\n",
      "\t\tMean SQUARED error       = 0.4028127165451097\n",
      "\t\tMEDIAN absolute error    = 0.4142300000000001\n",
      "\t\tR^2 Score                = 0.08176139459703013\n",
      "\n",
      " ------------------------------\n",
      "RDKit Fingerprints  : GlideE//EModel   (SP) : glide energy     : glide energy   \n",
      "\t\tExplained Variance Score = 0.4435274091970649\n",
      "\t\tMean Absolute Error      = 3.3719122869918676\n",
      "\t\tMean SQUARED error       = 21.855494069798706\n",
      "\t\tMEDIAN absolute error    = 2.1594655000000387\n",
      "\t\tR^2 Score                = 0.4171236281193438\n",
      "\n",
      " ------------------------------\n",
      "RDKit Fingerprints  : EModel//EModel   (SP) : glide energy     : glide emodel SP\n",
      "\t\tExplained Variance Score = 0.4661490991546553\n",
      "\t\tMean Absolute Error      = 5.584388432520318\n",
      "\t\tMean SQUARED error       = 52.75025774819724\n",
      "\t\tMEDIAN absolute error    = 4.648434133333289\n",
      "\t\tR^2 Score                = 0.43033281881583285\n",
      "\n",
      " ------------------------------\n",
      "RDKit Fingerprints  : Dock_Sc//Dock_Sc (SP) : glide energy     : docking score SP\n",
      "\t\tExplained Variance Score = 0.24526570703159667\n",
      "\t\tMean Absolute Error      = 0.4474747398373987\n",
      "\t\tMean SQUARED error       = 0.35255233066915953\n",
      "\t\tMEDIAN absolute error    = 0.3629853333333344\n",
      "\t\tR^2 Score                = 0.2430026625357382\n",
      "\n",
      " ------------------------------\n",
      "RDKit Fingerprints  : GlideE//GlideE   (SP) : glide energy     : glide energy   \n",
      "\t\tExplained Variance Score = 0.5692955206296293\n",
      "\t\tMean Absolute Error      = 3.0044909403019826\n",
      "\t\tMean SQUARED error       = 15.1966382283064\n",
      "\t\tMEDIAN absolute error    = 2.536802000000014\n",
      "\t\tR^2 Score                = 0.5688867002864219\n"
     ]
    },
    {
     "data": {
      "application/vnd.jupyter.widget-view+json": {
       "model_id": "a859e44d82904b6fa63b22f557bb05d1",
       "version_major": 2,
       "version_minor": 0
      },
      "text/plain": [
       "HBox(children=(IntProgress(value=0, max=5), HTML(value='')))"
      ]
     },
     "metadata": {},
     "output_type": "display_data"
    },
    {
     "name": "stdout",
     "output_type": "stream",
     "text": [
      "\n",
      " ------------------------------\n",
      "Morgan Fingerprints : Dock_Sc//EModel  (SP) : glide energy     : docking score SP\n",
      "\t\tExplained Variance Score = 0.21869465211735262\n",
      "\t\tMean Absolute Error      = 0.4389248540069686\n",
      "\t\tMean SQUARED error       = 0.3306816674082473\n",
      "\t\tMEDIAN absolute error    = 0.3444859999999985\n",
      "\t\tR^2 Score                = 0.21284874477746485\n",
      "\n",
      " ------------------------------\n",
      "Morgan Fingerprints : GlideE//EModel   (SP) : glide energy     : glide energy   \n",
      "\t\tExplained Variance Score = 0.5692542072768894\n",
      "\t\tMean Absolute Error      = 2.6350496276422715\n",
      "\t\tMean SQUARED error       = 12.013332933947678\n",
      "\t\tMEDIAN absolute error    = 1.7836200000000062\n",
      "\t\tR^2 Score                = 0.567962481212724\n",
      "\n",
      " ------------------------------\n",
      "Morgan Fingerprints : EModel//EModel   (SP) : glide energy     : glide emodel SP\n",
      "\t\tExplained Variance Score = 0.6405219371797175\n",
      "\t\tMean Absolute Error      = 4.780400420325196\n",
      "\t\tMean SQUARED error       = 37.06492498216525\n",
      "\t\tMEDIAN absolute error    = 3.662868000000003\n",
      "\t\tR^2 Score                = 0.6340792103061567\n",
      "\n",
      " ------------------------------\n",
      "Morgan Fingerprints : Dock_Sc//Dock_Sc (SP) : glide energy     : docking score SP\n",
      "\t\tExplained Variance Score = 0.3413640129163835\n",
      "\t\tMean Absolute Error      = 0.40294825203252055\n",
      "\t\tMean SQUARED error       = 0.2992075334373123\n",
      "\t\tMEDIAN absolute error    = 0.3113239999999977\n",
      "\t\tR^2 Score                = 0.3376380922621637\n",
      "\n",
      " ------------------------------\n",
      "Morgan Fingerprints : GlideE//GlideE   (SP) : glide energy     : glide energy   \n",
      "\t\tExplained Variance Score = 0.6125757039846778\n",
      "\t\tMean Absolute Error      = 3.0683131878048773\n",
      "\t\tMean SQUARED error       = 14.764529479510507\n",
      "\t\tMEDIAN absolute error    = 2.4970360000000227\n",
      "\t\tR^2 Score                = 0.6010265137710675\n",
      "\n",
      "\n",
      " Done.\n"
     ]
    }
   ],
   "source": [
    "results = pd.DataFrame(columns=[\"Descriptor\",\"Algorithm\",\"Model\",\"Explanined Variance Score\",\"Mean Absolute Error\",\n",
    "                                \"Mean SQUARED error\",\"MEDIAN absolute error\",\"R^2 Score\"])\n",
    "for minim in tqdm(minimizations):\n",
    "    _file = minim['file']\n",
    "    _alg  = minim['Algorithm']\n",
    "    active = pd.read_csv(_file,usecols=columns,dtype=column_types)\n",
    "    active = active.merge(fingerprints, how='left', on='PUBCHEM_SID')\n",
    "    print(f\"Using {_alg} minimizations\\n\")\n",
    "    print(50*\"*\")\n",
    "    \n",
    "    for desc in tqdm(descriptors):\n",
    "        for model in tqdm(models):\n",
    "            m = models[model]\n",
    "            sort_to = m['sort']\n",
    "            fit_to = m['fit_to']\n",
    "            print(\"\\n\", 30*\"-\")\n",
    "            print(f\"{desc:19s} : {model:15} : {sort:16} : {fit_to:15}\")\n",
    "            \n",
    "            _res = fit_and_test_model(active, sort_to, fit_to, desc)\n",
    "            _res[\"Algorithm\"]  = _alg\n",
    "            _res[\"Descriptor\"] = desc\n",
    "            _res[\"Model\"]      = model\n",
    "\n",
    "            results = results.append(_res, ignore_index=True)\n",
    "\n",
    "print(\"\\n Done.\")"
   ]
  },
  {
   "cell_type": "code",
   "execution_count": 34,
   "metadata": {},
   "outputs": [
    {
     "data": {
      "text/html": [
       "<div>\n",
       "<style scoped>\n",
       "    .dataframe tbody tr th:only-of-type {\n",
       "        vertical-align: middle;\n",
       "    }\n",
       "\n",
       "    .dataframe tbody tr th {\n",
       "        vertical-align: top;\n",
       "    }\n",
       "\n",
       "    .dataframe thead th {\n",
       "        text-align: right;\n",
       "    }\n",
       "</style>\n",
       "<table border=\"1\" class=\"dataframe\">\n",
       "  <thead>\n",
       "    <tr style=\"text-align: right;\">\n",
       "      <th></th>\n",
       "      <th>Descriptor</th>\n",
       "      <th>Algorithm</th>\n",
       "      <th>Model</th>\n",
       "      <th>Explanined Variance Score</th>\n",
       "      <th>Mean Absolute Error</th>\n",
       "      <th>Mean SQUARED error</th>\n",
       "      <th>MEDIAN absolute error</th>\n",
       "      <th>R^2 Score</th>\n",
       "    </tr>\n",
       "  </thead>\n",
       "  <tbody>\n",
       "    <tr>\n",
       "      <th>0</th>\n",
       "      <td>RDKit Fingerprints</td>\n",
       "      <td>SD</td>\n",
       "      <td>Dock_Sc//EModel  (SP)</td>\n",
       "      <td>0.126856</td>\n",
       "      <td>0.539385</td>\n",
       "      <td>0.648784</td>\n",
       "      <td>0.359577</td>\n",
       "      <td>0.123214</td>\n",
       "    </tr>\n",
       "    <tr>\n",
       "      <th>1</th>\n",
       "      <td>RDKit Fingerprints</td>\n",
       "      <td>SD</td>\n",
       "      <td>GlideE//EModel   (SP)</td>\n",
       "      <td>0.442518</td>\n",
       "      <td>3.385084</td>\n",
       "      <td>17.931476</td>\n",
       "      <td>2.625527</td>\n",
       "      <td>0.441788</td>\n",
       "    </tr>\n",
       "    <tr>\n",
       "      <th>2</th>\n",
       "      <td>RDKit Fingerprints</td>\n",
       "      <td>SD</td>\n",
       "      <td>EModel//EModel   (SP)</td>\n",
       "      <td>0.527178</td>\n",
       "      <td>5.428216</td>\n",
       "      <td>47.429747</td>\n",
       "      <td>4.310406</td>\n",
       "      <td>0.526799</td>\n",
       "    </tr>\n",
       "    <tr>\n",
       "      <th>3</th>\n",
       "      <td>RDKit Fingerprints</td>\n",
       "      <td>SD</td>\n",
       "      <td>Dock_Sc//Dock_Sc (SP)</td>\n",
       "      <td>0.197742</td>\n",
       "      <td>0.581749</td>\n",
       "      <td>0.523257</td>\n",
       "      <td>0.522269</td>\n",
       "      <td>0.187711</td>\n",
       "    </tr>\n",
       "    <tr>\n",
       "      <th>4</th>\n",
       "      <td>RDKit Fingerprints</td>\n",
       "      <td>SD</td>\n",
       "      <td>GlideE//GlideE   (SP)</td>\n",
       "      <td>0.672407</td>\n",
       "      <td>2.668167</td>\n",
       "      <td>11.454392</td>\n",
       "      <td>2.267485</td>\n",
       "      <td>0.672163</td>\n",
       "    </tr>\n",
       "    <tr>\n",
       "      <th>5</th>\n",
       "      <td>Morgan Fingerprints</td>\n",
       "      <td>SD</td>\n",
       "      <td>Dock_Sc//EModel  (SP)</td>\n",
       "      <td>0.210629</td>\n",
       "      <td>0.489215</td>\n",
       "      <td>0.571509</td>\n",
       "      <td>0.309432</td>\n",
       "      <td>0.202348</td>\n",
       "    </tr>\n",
       "    <tr>\n",
       "      <th>6</th>\n",
       "      <td>Morgan Fingerprints</td>\n",
       "      <td>SD</td>\n",
       "      <td>GlideE//EModel   (SP)</td>\n",
       "      <td>0.575070</td>\n",
       "      <td>2.771021</td>\n",
       "      <td>13.679189</td>\n",
       "      <td>2.034470</td>\n",
       "      <td>0.567243</td>\n",
       "    </tr>\n",
       "    <tr>\n",
       "      <th>7</th>\n",
       "      <td>Morgan Fingerprints</td>\n",
       "      <td>SD</td>\n",
       "      <td>EModel//EModel   (SP)</td>\n",
       "      <td>0.742617</td>\n",
       "      <td>4.063137</td>\n",
       "      <td>27.769492</td>\n",
       "      <td>3.164574</td>\n",
       "      <td>0.734483</td>\n",
       "    </tr>\n",
       "    <tr>\n",
       "      <th>8</th>\n",
       "      <td>Morgan Fingerprints</td>\n",
       "      <td>SD</td>\n",
       "      <td>Dock_Sc//Dock_Sc (SP)</td>\n",
       "      <td>0.232285</td>\n",
       "      <td>0.509624</td>\n",
       "      <td>0.430244</td>\n",
       "      <td>0.391634</td>\n",
       "      <td>0.231838</td>\n",
       "    </tr>\n",
       "    <tr>\n",
       "      <th>9</th>\n",
       "      <td>Morgan Fingerprints</td>\n",
       "      <td>SD</td>\n",
       "      <td>GlideE//GlideE   (SP)</td>\n",
       "      <td>0.433783</td>\n",
       "      <td>3.269856</td>\n",
       "      <td>20.436340</td>\n",
       "      <td>2.163960</td>\n",
       "      <td>0.422939</td>\n",
       "    </tr>\n",
       "    <tr>\n",
       "      <th>10</th>\n",
       "      <td>RDKit Fingerprints</td>\n",
       "      <td>Optimal</td>\n",
       "      <td>Dock_Sc//EModel  (SP)</td>\n",
       "      <td>0.081987</td>\n",
       "      <td>0.488470</td>\n",
       "      <td>0.402813</td>\n",
       "      <td>0.414230</td>\n",
       "      <td>0.081761</td>\n",
       "    </tr>\n",
       "    <tr>\n",
       "      <th>11</th>\n",
       "      <td>RDKit Fingerprints</td>\n",
       "      <td>Optimal</td>\n",
       "      <td>GlideE//EModel   (SP)</td>\n",
       "      <td>0.443527</td>\n",
       "      <td>3.371912</td>\n",
       "      <td>21.855494</td>\n",
       "      <td>2.159466</td>\n",
       "      <td>0.417124</td>\n",
       "    </tr>\n",
       "    <tr>\n",
       "      <th>12</th>\n",
       "      <td>RDKit Fingerprints</td>\n",
       "      <td>Optimal</td>\n",
       "      <td>EModel//EModel   (SP)</td>\n",
       "      <td>0.466149</td>\n",
       "      <td>5.584388</td>\n",
       "      <td>52.750258</td>\n",
       "      <td>4.648434</td>\n",
       "      <td>0.430333</td>\n",
       "    </tr>\n",
       "    <tr>\n",
       "      <th>13</th>\n",
       "      <td>RDKit Fingerprints</td>\n",
       "      <td>Optimal</td>\n",
       "      <td>Dock_Sc//Dock_Sc (SP)</td>\n",
       "      <td>0.245266</td>\n",
       "      <td>0.447475</td>\n",
       "      <td>0.352552</td>\n",
       "      <td>0.362985</td>\n",
       "      <td>0.243003</td>\n",
       "    </tr>\n",
       "    <tr>\n",
       "      <th>14</th>\n",
       "      <td>RDKit Fingerprints</td>\n",
       "      <td>Optimal</td>\n",
       "      <td>GlideE//GlideE   (SP)</td>\n",
       "      <td>0.569296</td>\n",
       "      <td>3.004491</td>\n",
       "      <td>15.196638</td>\n",
       "      <td>2.536802</td>\n",
       "      <td>0.568887</td>\n",
       "    </tr>\n",
       "    <tr>\n",
       "      <th>15</th>\n",
       "      <td>Morgan Fingerprints</td>\n",
       "      <td>Optimal</td>\n",
       "      <td>Dock_Sc//EModel  (SP)</td>\n",
       "      <td>0.218695</td>\n",
       "      <td>0.438925</td>\n",
       "      <td>0.330682</td>\n",
       "      <td>0.344486</td>\n",
       "      <td>0.212849</td>\n",
       "    </tr>\n",
       "    <tr>\n",
       "      <th>16</th>\n",
       "      <td>Morgan Fingerprints</td>\n",
       "      <td>Optimal</td>\n",
       "      <td>GlideE//EModel   (SP)</td>\n",
       "      <td>0.569254</td>\n",
       "      <td>2.635050</td>\n",
       "      <td>12.013333</td>\n",
       "      <td>1.783620</td>\n",
       "      <td>0.567962</td>\n",
       "    </tr>\n",
       "    <tr>\n",
       "      <th>17</th>\n",
       "      <td>Morgan Fingerprints</td>\n",
       "      <td>Optimal</td>\n",
       "      <td>EModel//EModel   (SP)</td>\n",
       "      <td>0.640522</td>\n",
       "      <td>4.780400</td>\n",
       "      <td>37.064925</td>\n",
       "      <td>3.662868</td>\n",
       "      <td>0.634079</td>\n",
       "    </tr>\n",
       "    <tr>\n",
       "      <th>18</th>\n",
       "      <td>Morgan Fingerprints</td>\n",
       "      <td>Optimal</td>\n",
       "      <td>Dock_Sc//Dock_Sc (SP)</td>\n",
       "      <td>0.341364</td>\n",
       "      <td>0.402948</td>\n",
       "      <td>0.299208</td>\n",
       "      <td>0.311324</td>\n",
       "      <td>0.337638</td>\n",
       "    </tr>\n",
       "    <tr>\n",
       "      <th>19</th>\n",
       "      <td>Morgan Fingerprints</td>\n",
       "      <td>Optimal</td>\n",
       "      <td>GlideE//GlideE   (SP)</td>\n",
       "      <td>0.612576</td>\n",
       "      <td>3.068313</td>\n",
       "      <td>14.764529</td>\n",
       "      <td>2.497036</td>\n",
       "      <td>0.601027</td>\n",
       "    </tr>\n",
       "  </tbody>\n",
       "</table>\n",
       "</div>"
      ],
      "text/plain": [
       "             Descriptor Algorithm                  Model  \\\n",
       "0    RDKit Fingerprints        SD  Dock_Sc//EModel  (SP)   \n",
       "1    RDKit Fingerprints        SD  GlideE//EModel   (SP)   \n",
       "2    RDKit Fingerprints        SD  EModel//EModel   (SP)   \n",
       "3    RDKit Fingerprints        SD  Dock_Sc//Dock_Sc (SP)   \n",
       "4    RDKit Fingerprints        SD  GlideE//GlideE   (SP)   \n",
       "5   Morgan Fingerprints        SD  Dock_Sc//EModel  (SP)   \n",
       "6   Morgan Fingerprints        SD  GlideE//EModel   (SP)   \n",
       "7   Morgan Fingerprints        SD  EModel//EModel   (SP)   \n",
       "8   Morgan Fingerprints        SD  Dock_Sc//Dock_Sc (SP)   \n",
       "9   Morgan Fingerprints        SD  GlideE//GlideE   (SP)   \n",
       "10   RDKit Fingerprints   Optimal  Dock_Sc//EModel  (SP)   \n",
       "11   RDKit Fingerprints   Optimal  GlideE//EModel   (SP)   \n",
       "12   RDKit Fingerprints   Optimal  EModel//EModel   (SP)   \n",
       "13   RDKit Fingerprints   Optimal  Dock_Sc//Dock_Sc (SP)   \n",
       "14   RDKit Fingerprints   Optimal  GlideE//GlideE   (SP)   \n",
       "15  Morgan Fingerprints   Optimal  Dock_Sc//EModel  (SP)   \n",
       "16  Morgan Fingerprints   Optimal  GlideE//EModel   (SP)   \n",
       "17  Morgan Fingerprints   Optimal  EModel//EModel   (SP)   \n",
       "18  Morgan Fingerprints   Optimal  Dock_Sc//Dock_Sc (SP)   \n",
       "19  Morgan Fingerprints   Optimal  GlideE//GlideE   (SP)   \n",
       "\n",
       "    Explanined Variance Score  Mean Absolute Error  Mean SQUARED error  \\\n",
       "0                    0.126856             0.539385            0.648784   \n",
       "1                    0.442518             3.385084           17.931476   \n",
       "2                    0.527178             5.428216           47.429747   \n",
       "3                    0.197742             0.581749            0.523257   \n",
       "4                    0.672407             2.668167           11.454392   \n",
       "5                    0.210629             0.489215            0.571509   \n",
       "6                    0.575070             2.771021           13.679189   \n",
       "7                    0.742617             4.063137           27.769492   \n",
       "8                    0.232285             0.509624            0.430244   \n",
       "9                    0.433783             3.269856           20.436340   \n",
       "10                   0.081987             0.488470            0.402813   \n",
       "11                   0.443527             3.371912           21.855494   \n",
       "12                   0.466149             5.584388           52.750258   \n",
       "13                   0.245266             0.447475            0.352552   \n",
       "14                   0.569296             3.004491           15.196638   \n",
       "15                   0.218695             0.438925            0.330682   \n",
       "16                   0.569254             2.635050           12.013333   \n",
       "17                   0.640522             4.780400           37.064925   \n",
       "18                   0.341364             0.402948            0.299208   \n",
       "19                   0.612576             3.068313           14.764529   \n",
       "\n",
       "    MEDIAN absolute error  R^2 Score  \n",
       "0                0.359577   0.123214  \n",
       "1                2.625527   0.441788  \n",
       "2                4.310406   0.526799  \n",
       "3                0.522269   0.187711  \n",
       "4                2.267485   0.672163  \n",
       "5                0.309432   0.202348  \n",
       "6                2.034470   0.567243  \n",
       "7                3.164574   0.734483  \n",
       "8                0.391634   0.231838  \n",
       "9                2.163960   0.422939  \n",
       "10               0.414230   0.081761  \n",
       "11               2.159466   0.417124  \n",
       "12               4.648434   0.430333  \n",
       "13               0.362985   0.243003  \n",
       "14               2.536802   0.568887  \n",
       "15               0.344486   0.212849  \n",
       "16               1.783620   0.567962  \n",
       "17               3.662868   0.634079  \n",
       "18               0.311324   0.337638  \n",
       "19               2.497036   0.601027  "
      ]
     },
     "execution_count": 34,
     "metadata": {},
     "output_type": "execute_result"
    }
   ],
   "source": [
    "results"
   ]
  },
  {
   "cell_type": "code",
   "execution_count": 36,
   "metadata": {},
   "outputs": [
    {
     "data": {
      "image/png": "[encoded data removed]",
      "text/plain": [
       "<Figure size 720x432 with 2 Axes>"
      ]
     },
     "metadata": {
      "needs_background": "light"
     },
     "output_type": "display_data"
    }
   ],
   "source": [
    "fig, ax = plt.subplots(nrows=1, ncols=2, sharey=True, figsize=(10, 6))\n",
    "results[results['Descriptor'] == 'RDKit Fingerprints'].plot.bar(x='Model', y='R^2 Score', title=\"RDKit\", ax=ax[0], rot=90)\n",
    "results[results['Descriptor'] == 'Morgan Fingerprints'].plot.bar(x='Model', y='R^2 Score', title=\"Morgan\", ax=ax[1], rot=90)\n",
    "plt.tight_layout()\n",
    "fig.subplots_adjust(wspace=0)"
   ]
  },
  {
   "cell_type": "code",
   "execution_count": null,
   "metadata": {},
   "outputs": [],
   "source": []
  },
  {
   "cell_type": "code",
   "execution_count": null,
   "metadata": {},
   "outputs": [],
   "source": []
  },
  {
   "cell_type": "code",
   "execution_count": null,
   "metadata": {},
   "outputs": [],
   "source": []
  },
  {
   "cell_type": "code",
   "execution_count": null,
   "metadata": {},
   "outputs": [],
   "source": []
  },
  {
   "cell_type": "code",
   "execution_count": null,
   "metadata": {},
   "outputs": [],
   "source": []
  },
  {
   "cell_type": "code",
   "execution_count": null,
   "metadata": {},
   "outputs": [],
   "source": []
  },
  {
   "cell_type": "code",
   "execution_count": null,
   "metadata": {},
   "outputs": [],
   "source": []
  },
  {
   "cell_type": "code",
   "execution_count": null,
   "metadata": {},
   "outputs": [],
   "source": []
  },
  {
   "cell_type": "markdown",
   "metadata": {},
   "source": [
    "# Other tests"
   ]
  },
  {
   "cell_type": "code",
   "execution_count": null,
   "metadata": {},
   "outputs": [],
   "source": [
    "avgRF_test = AverageRF(model_type=\"regressor\",n_forests=5,n_estimators=100, verbosity=1)\n",
    "avgRF_test.fit(X_train_rdkit,y_train)"
   ]
  },
  {
   "cell_type": "code",
   "execution_count": null,
   "metadata": {},
   "outputs": [],
   "source": [
    "avgRF_test_df = pd.DataFrame(avgRF_test.stats)\n",
    "avgRF_test_df"
   ]
  },
  {
   "cell_type": "code",
   "execution_count": null,
   "metadata": {},
   "outputs": [],
   "source": [
    "y_pred_avgRF = avgRF_test.predict(X_test_rdkit)"
   ]
  },
  {
   "cell_type": "code",
   "execution_count": null,
   "metadata": {},
   "outputs": [],
   "source": [
    "# Regression stats\n",
    "print(f\"Explained Variance Score = {explained_variance_score(y_test,y_pred_avgRF):.2f}\")\n",
    "print(f\"Mean Absolute Error      = {mean_absolute_error(y_test, y_pred_avgRF):.2f}\")\n",
    "print(f\"Mean SQUARED error       = {mean_squared_error(y_test, y_pred_avgRF):.2f}\")\n",
    "print(f\"MEDIAN ansolute error    = {median_absolute_error(y_test, y_pred_avgRF):.2f}\")\n",
    "print(f\"R^2 Score                = {r2_score(y_test, y_pred_avgRF):.2f}\")"
   ]
  },
  {
   "cell_type": "code",
   "execution_count": null,
   "metadata": {},
   "outputs": [],
   "source": [
    "# Regression stats\n",
    "print(f\"Explained Variance Score = {explained_variance_score(y_test,y_rdkit):.2f}\")\n",
    "print(f\"Mean Absolute Error      = {mean_absolute_error(y_test, y_rdkit):.2f}\")\n",
    "print(f\"Mean SQUARED error       = {mean_squared_error(y_test, y_rdkit):.2f}\")\n",
    "print(f\"MEDIAN ansolute error    = {median_absolute_error(y_test, y_rdkit):.2f}\")\n",
    "print(f\"R^2 Score                = {r2_score(y_test, y_rdkit):.2f}\")"
   ]
  },
  {
   "cell_type": "code",
   "execution_count": null,
   "metadata": {},
   "outputs": [],
   "source": [
    "y_rdkit"
   ]
  },
  {
   "cell_type": "code",
   "execution_count": null,
   "metadata": {},
   "outputs": [],
   "source": [
    "from sklearn.ensemble import GradientBoostingRegressor\n",
    "gboos_reg = GradientBoostingRegressor(n_estimators=250, max_features='sqrt')\n",
    "test_model(gboos_reg, X_train_rdkit, y_train, X_test_rdkit, y_test)"
   ]
  },
  {
   "cell_type": "code",
   "execution_count": null,
   "metadata": {},
   "outputs": [],
   "source": [
    "from sklearn.linear_model import SGDRegressor\n",
    "dgr_reg = SGDRegressor(max_iter=1000, tol=1e-3)\n",
    "test_model(dgr_reg, X_train_rdkit, y_train, X_test_rdkit, y_test)"
   ]
  },
  {
   "cell_type": "code",
   "execution_count": null,
   "metadata": {},
   "outputs": [],
   "source": [
    "from sklearn.linear_model import BayesianRidge\n",
    "bay_reg = BayesianRidge(n_iter=1000, normalize=True)\n",
    "test_model(bay_reg, X_train_rdkit, y_train, X_test_rdkit, y_test)"
   ]
  },
  {
   "cell_type": "code",
   "execution_count": null,
   "metadata": {},
   "outputs": [],
   "source": [
    "from sklearn.linear_model import ARDRegression\n",
    "ard_reg = ARDRegression(n_iter=2000)\n",
    "test_model(ard_reg, X_train_rdkit, y_train, X_test_rdkit, y_test)"
   ]
  },
  {
   "cell_type": "code",
   "execution_count": null,
   "metadata": {},
   "outputs": [],
   "source": [
    "from sklearn.svm import SVR\n",
    "svr_reg = SVR(kernel=\"rbf\",gamma=\"scale\", epsilon=0.05)\n",
    "test_model(svr_reg, X_train_rdkit, y_train, X_test_rdkit, y_test)"
   ]
  },
  {
   "cell_type": "code",
   "execution_count": null,
   "metadata": {},
   "outputs": [],
   "source": [
    "svr_reg.fit(X_train_rdkit, y_train)\n",
    "y_svr = svr_reg.predict(X_test_rdkit)\n",
    "fit_fn = np.poly1d(np.polyfit(y_test,rf_pred,1))\n",
    "fit_lim = [min(y_test),max(y_test)]\n",
    "plt.plot(y_test,y_svr, \"b.\",fit_lim,fit_fn(fit_lim),\"r\")\n",
    "plt.xlabel(\"Exp. pIC50\")\n",
    "plt.ylabel(\"Calc. pIC50\")\n",
    "plt.title(\"Support Vector Regressor\")"
   ]
  },
  {
   "cell_type": "code",
   "execution_count": null,
   "metadata": {},
   "outputs": [],
   "source": [
    "from sklearn.ensemble import RandomForestRegressor\n",
    "rf_reg = RandomForestRegressor(bootstrap=False, criterion='mse',\n",
    "           max_features=\"sqrt\", n_estimators=1000, n_jobs=4, warm_start=False, \n",
    "           random_state=42)\n",
    "test_model(rf_reg, X_train_rdkit, y_train, X_test_rdkit, y_test)"
   ]
  },
  {
   "cell_type": "code",
   "execution_count": null,
   "metadata": {},
   "outputs": [],
   "source": [
    "rf_reg.fit(X_train_rdkit, y_train)\n",
    "rf_pred = rf_reg.predict(X_test_rdkit)"
   ]
  },
  {
   "cell_type": "code",
   "execution_count": null,
   "metadata": {},
   "outputs": [],
   "source": [
    "fit_fn = np.poly1d(np.polyfit(y_test,rf_pred,1))\n",
    "fit_lim = [min(y_test),max(y_test)]\n",
    "plt.plot(y_test,rf_pred, \"b.\",fit_lim,fit_fn(fit_lim),\"r\")\n",
    "plt.xlabel(\"Exp. pIC50\")\n",
    "plt.ylabel(\"Calc. pIC50\")\n",
    "plt.title(\"Random Forest\")"
   ]
  },
  {
   "cell_type": "code",
   "execution_count": null,
   "metadata": {},
   "outputs": [],
   "source": []
  },
  {
   "cell_type": "code",
   "execution_count": null,
   "metadata": {},
   "outputs": [],
   "source": [
    "from sklearn.ensemble import AdaBoostRegressor\n",
    "adab_reg = AdaBoostRegressor(base_estimator=svr_reg, n_estimators=50, loss=\"linear\")\n",
    "test_model(adab_reg, X_train_rdkit, y_train, X_test_rdkit, y_test)"
   ]
  },
  {
   "cell_type": "code",
   "execution_count": null,
   "metadata": {},
   "outputs": [],
   "source": [
    "from sklearn.ensemble import AdaBoostRegressor\n",
    "adab_reg = AdaBoostRegressor(base_estimator=svr_reg, n_estimators=50, loss=\"exponential\")\n",
    "test_model(adab_reg, X_train_rdkit, y_train, X_test_rdkit, y_test)"
   ]
  },
  {
   "cell_type": "code",
   "execution_count": null,
   "metadata": {},
   "outputs": [],
   "source": [
    "from sklearn.ensemble import AdaBoostRegressor\n",
    "adab_reg = AdaBoostRegressor(base_estimator=rf_reg, n_estimators=50, loss=\"exponential\")\n",
    "test_model(adab_reg, X_train_rdkit, y_train, X_test_rdkit, y_test)"
   ]
  },
  {
   "cell_type": "code",
   "execution_count": null,
   "metadata": {},
   "outputs": [],
   "source": [
    "from sklearn.ensemble import AdaBoostRegressor\n",
    "adab_reg = AdaBoostRegressor(base_estimator=bay_reg, n_estimators=50, loss=\"linear\", random_state=42)\n",
    "test_model(adab_reg, X_train_rdkit, y_train, X_test_rdkit, y_test)"
   ]
  },
  {
   "cell_type": "code",
   "execution_count": null,
   "metadata": {},
   "outputs": [],
   "source": []
  }
 ],
 "metadata": {
  "kernelspec": {
   "display_name": "UNC-ML (Python 3.7.1)",
   "language": "python",
   "name": "unc"
  },
  "language_info": {
   "codemirror_mode": {
    "name": "ipython",
    "version": 3
   },
   "file_extension": ".py",
   "mimetype": "text/x-python",
   "name": "python",
   "nbconvert_exporter": "python",
   "pygments_lexer": "ipython3",
   "version": "3.7.3"
  },
  "toc": {
   "base_numbering": 1,
   "nav_menu": {},
   "number_sections": true,
   "sideBar": true,
   "skip_h1_title": false,
   "title_cell": "Table of Contents",
   "title_sidebar": "Contents",
   "toc_cell": false,
   "toc_position": {
    "height": "calc(100% - 180px)",
    "left": "10px",
    "top": "150px",
    "width": "300px"
   },
   "toc_section_display": true,
   "toc_window_display": true
  }
 },
 "nbformat": 4,
 "nbformat_minor": 2
}
