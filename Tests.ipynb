{
 "cells": [
  {
   "cell_type": "code",
   "execution_count": 25,
   "metadata": {
    "code_folding": []
   },
   "outputs": [],
   "source": [
    "%load_ext autoreload\n",
    "%autoreload 2"
   ]
  },
  {
   "cell_type": "code",
   "execution_count": 1,
   "metadata": {},
   "outputs": [],
   "source": [
    "#Basic stuff\n",
    "import pandas as pd\n",
    "import numpy as np\n",
    "import matplotlib.pyplot as plt\n",
    "import warnings"
   ]
  },
  {
   "cell_type": "code",
   "execution_count": 29,
   "metadata": {},
   "outputs": [],
   "source": [
    "from MTase.ActivityClassifier import ActivityClassifier, AverageRF\n",
    "from MTase.utils import train_test_split_data, evaluate_classifier_model"
   ]
  },
  {
   "cell_type": "code",
   "execution_count": 17,
   "metadata": {},
   "outputs": [],
   "source": [
    "from tqdm import tqdm_notebook, tqdm_pandas\n",
    "from tqdm.auto import tqdm\n",
    "tqdm.pandas(tqdm_notebook)"
   ]
  },
  {
   "cell_type": "code",
   "execution_count": 102,
   "metadata": {},
   "outputs": [],
   "source": [
    "from rdkit import Chem\n",
    "from rdkit.Chem import Draw\n",
    "from rdkit.Chem import PandasTools\n",
    "from rdkit.Chem.rdmolops import RDKFingerprint"
   ]
  },
  {
   "cell_type": "code",
   "execution_count": 7,
   "metadata": {},
   "outputs": [],
   "source": [
    "my_model = AverageRF(model_type='classifier', n_forests=5)"
   ]
  },
  {
   "cell_type": "code",
   "execution_count": 100,
   "metadata": {},
   "outputs": [],
   "source": [
    "#active = pd.read_pickle(\"./active.pkl.bz2\")\n",
    "#inactive = pd.read_pickle(\"./inactive.pkl.bz2\")\n",
    "inconclusive = pd.read_pickle(\"./inconclusive.pkl.bz2\")\n",
    "#active['ActiveBit']   = True\n",
    "#inactive['ActiveBit'] = False\n",
    "#columns = ['PUBCHEM_SID', 'RDKit Fingerprints', 'ActiveBit']\n",
    "#data = pd.concat([active.filter(columns,axis=1),inactive],\n",
    "#                 axis=0,join='inner', ignore_index=True)\n",
    "#X_data  = np.array(list(data['RDKit Fingerprints'])).astype(int)\n",
    "#y_data = data['ActiveBit'].values\n",
    "#X_train, X_test, y_train, y_test = train_test_split_data(X_data, y_data, rate_inactives=0.90)"
   ]
  },
  {
   "cell_type": "code",
   "execution_count": 9,
   "metadata": {},
   "outputs": [
    {
     "name": "stderr",
     "output_type": "stream",
     "text": [
      "C:\\Users\\gmseabra\\Miniconda3\\envs\\unc\\lib\\site-packages\\sklearn\\ensemble\\forest.py:246: FutureWarning: The default value of n_estimators will change from 10 in version 0.20 to 100 in 0.22.\n",
      "  \"10 in version 0.20 to 100 in 0.22.\", FutureWarning)\n",
      "C:\\Users\\gmseabra\\Miniconda3\\envs\\unc\\lib\\site-packages\\sklearn\\ensemble\\forest.py:246: FutureWarning: The default value of n_estimators will change from 10 in version 0.20 to 100 in 0.22.\n",
      "  \"10 in version 0.20 to 100 in 0.22.\", FutureWarning)\n",
      "C:\\Users\\gmseabra\\Miniconda3\\envs\\unc\\lib\\site-packages\\sklearn\\ensemble\\forest.py:246: FutureWarning: The default value of n_estimators will change from 10 in version 0.20 to 100 in 0.22.\n",
      "  \"10 in version 0.20 to 100 in 0.22.\", FutureWarning)\n",
      "C:\\Users\\gmseabra\\Miniconda3\\envs\\unc\\lib\\site-packages\\sklearn\\ensemble\\forest.py:246: FutureWarning: The default value of n_estimators will change from 10 in version 0.20 to 100 in 0.22.\n",
      "  \"10 in version 0.20 to 100 in 0.22.\", FutureWarning)\n",
      "C:\\Users\\gmseabra\\Miniconda3\\envs\\unc\\lib\\site-packages\\sklearn\\ensemble\\forest.py:246: FutureWarning: The default value of n_estimators will change from 10 in version 0.20 to 100 in 0.22.\n",
      "  \"10 in version 0.20 to 100 in 0.22.\", FutureWarning)\n"
     ]
    },
    {
     "data": {
      "text/plain": [
       "<MTase.ActivityClassifier.AverageRF at 0x168d257ca90>"
      ]
     },
     "execution_count": 9,
     "metadata": {},
     "output_type": "execute_result"
    }
   ],
   "source": [
    "my_model.fit(X_train,y_train)"
   ]
  },
  {
   "cell_type": "code",
   "execution_count": 153,
   "metadata": {},
   "outputs": [],
   "source": []
  },
  {
   "cell_type": "code",
   "execution_count": 183,
   "metadata": {},
   "outputs": [
    {
     "data": {
      "application/vnd.jupyter.widget-view+json": {
       "model_id": "803efa3d429840a3b13b25633d7c532a",
       "version_major": 2,
       "version_minor": 0
      },
      "text/plain": [
       "HBox(children=(IntProgress(value=0, max=10), HTML(value='')))"
      ]
     },
     "metadata": {},
     "output_type": "display_data"
    },
    {
     "name": "stderr",
     "output_type": "stream",
     "text": [
      "C:\\Users\\gmseabra\\Miniconda3\\envs\\unc\\lib\\site-packages\\ipykernel_launcher.py:3: SettingWithCopyWarning: \n",
      "A value is trying to be set on a copy of a slice from a DataFrame.\n",
      "Try using .loc[row_indexer,col_indexer] = value instead\n",
      "\n",
      "See the caveats in the documentation: http://pandas.pydata.org/pandas-docs/stable/indexing.html#indexing-view-versus-copy\n",
      "  This is separate from the ipykernel package so we can avoid doing imports until\n"
     ]
    }
   ],
   "source": [
    "predictor = ActivityClassifier(my_model,'rdkit')\n",
    "test = inconclusive[:10]\n",
    "test[\"ActiveBit\"] = test[\"SMILES\"].progress_apply(predictor.predict)"
   ]
  },
  {
   "cell_type": "code",
   "execution_count": 184,
   "metadata": {},
   "outputs": [
    {
     "data": {
      "text/plain": [
       "1510    0.26\n",
       "1763    0.14\n",
       "2164    0.60\n",
       "3318    0.22\n",
       "3418    0.14\n",
       "3444    0.30\n",
       "3599    0.20\n",
       "3600    0.28\n",
       "3710    0.18\n",
       "3853    0.10\n",
       "Name: ActiveBit, dtype: float64"
      ]
     },
     "execution_count": 184,
     "metadata": {},
     "output_type": "execute_result"
    }
   ],
   "source": [
    "test.ActiveBit"
   ]
  },
  {
   "cell_type": "code",
   "execution_count": 185,
   "metadata": {},
   "outputs": [
    {
     "data": {
      "application/vnd.jupyter.widget-view+json": {
       "model_id": "a4d9e70e73ac4635b4884eff566d9c01",
       "version_major": 2,
       "version_minor": 0
      },
      "text/plain": [
       "HBox(children=(IntProgress(value=0, description='Generating predictions:', max=10, style=ProgressStyle(descrip…"
      ]
     },
     "metadata": {},
     "output_type": "display_data"
    }
   ],
   "source": [
    "test = predictor.predict(test.SMILES.values)"
   ]
  },
  {
   "cell_type": "code",
   "execution_count": 151,
   "metadata": {},
   "outputs": [
    {
     "name": "stdout",
     "output_type": "stream",
     "text": [
      "Mol is None!!\n"
     ]
    },
    {
     "ename": "ArgumentError",
     "evalue": "Python argument types in\n    rdkit.Chem.rdmolops.RDKFingerprint(NoneType)\ndid not match C++ signature:\n    RDKFingerprint(class RDKit::ROMol mol, unsigned int minPath=1, unsigned int maxPath=7, unsigned int fpSize=2048, unsigned int nBitsPerHash=2, bool useHs=True, double tgtDensity=0.0, unsigned int minSize=128, bool branchedPaths=True, bool useBondOrder=True, class boost::python::api::object atomInvariants=0, class boost::python::api::object fromAtoms=0, class boost::python::api::object atomBits=None, class boost::python::api::object bitInfo=None)",
     "output_type": "error",
     "traceback": [
      "\u001b[1;31m---------------------------------------------------------------------------\u001b[0m",
      "\u001b[1;31mArgumentError\u001b[0m                             Traceback (most recent call last)",
      "\u001b[1;32m<ipython-input-151-9908f7776b85>\u001b[0m in \u001b[0;36m<module>\u001b[1;34m\u001b[0m\n\u001b[0;32m      3\u001b[0m \u001b[1;32mif\u001b[0m \u001b[0mmol\u001b[0m \u001b[1;32mis\u001b[0m \u001b[1;32mNone\u001b[0m\u001b[1;33m:\u001b[0m\u001b[1;33m\u001b[0m\u001b[1;33m\u001b[0m\u001b[0m\n\u001b[0;32m      4\u001b[0m     \u001b[0mprint\u001b[0m\u001b[1;33m(\u001b[0m\u001b[1;34m\"Mol is None!!\"\u001b[0m\u001b[1;33m)\u001b[0m\u001b[1;33m\u001b[0m\u001b[1;33m\u001b[0m\u001b[0m\n\u001b[1;32m----> 5\u001b[1;33m \u001b[0mfp\u001b[0m \u001b[1;33m=\u001b[0m \u001b[0mRDKFingerprint\u001b[0m\u001b[1;33m(\u001b[0m\u001b[0mmol\u001b[0m\u001b[1;33m)\u001b[0m\u001b[1;33m\u001b[0m\u001b[1;33m\u001b[0m\u001b[0m\n\u001b[0m\u001b[0;32m      6\u001b[0m \u001b[0mfp\u001b[0m \u001b[1;33m=\u001b[0m \u001b[0mnp\u001b[0m\u001b[1;33m.\u001b[0m\u001b[0marray\u001b[0m\u001b[1;33m(\u001b[0m\u001b[0mlist\u001b[0m\u001b[1;33m(\u001b[0m\u001b[0mmap\u001b[0m\u001b[1;33m(\u001b[0m\u001b[0mint\u001b[0m\u001b[1;33m,\u001b[0m\u001b[0mfp\u001b[0m\u001b[1;33m.\u001b[0m\u001b[0mToBitString\u001b[0m\u001b[1;33m(\u001b[0m\u001b[1;33m)\u001b[0m\u001b[1;33m)\u001b[0m\u001b[1;33m)\u001b[0m\u001b[1;33m)\u001b[0m\u001b[1;33m\u001b[0m\u001b[1;33m\u001b[0m\u001b[0m\n\u001b[0;32m      7\u001b[0m \u001b[0mfp\u001b[0m\u001b[1;33m\u001b[0m\u001b[1;33m\u001b[0m\u001b[0m\n",
      "\u001b[1;31mArgumentError\u001b[0m: Python argument types in\n    rdkit.Chem.rdmolops.RDKFingerprint(NoneType)\ndid not match C++ signature:\n    RDKFingerprint(class RDKit::ROMol mol, unsigned int minPath=1, unsigned int maxPath=7, unsigned int fpSize=2048, unsigned int nBitsPerHash=2, bool useHs=True, double tgtDensity=0.0, unsigned int minSize=128, bool branchedPaths=True, bool useBondOrder=True, class boost::python::api::object atomInvariants=0, class boost::python::api::object fromAtoms=0, class boost::python::api::object atomBits=None, class boost::python::api::object bitInfo=None)"
     ]
    }
   ],
   "source": [
    "test_smiles = \"CC1=C(SC=C1)/C=C\\2/C(=O)C3=C(O2)C=C(C=C3)O\"\n",
    "mol = Chem.MolFromSmiles(test_smiles)\n",
    "if mol is None:\n",
    "    print(\"Mol is None!!\")\n",
    "fp = RDKFingerprint(mol)\n",
    "fp = np.array(list(map(int,fp.ToBitString())))\n",
    "fp"
   ]
  },
  {
   "cell_type": "code",
   "execution_count": 136,
   "metadata": {},
   "outputs": [
    {
     "data": {
      "text/plain": [
       "array([[0.86, 0.14]])"
      ]
     },
     "execution_count": 136,
     "metadata": {},
     "output_type": "execute_result"
    }
   ],
   "source": [
    "my_model.predict_proba([fp])"
   ]
  },
  {
   "cell_type": "code",
   "execution_count": 179,
   "metadata": {},
   "outputs": [],
   "source": [
    "test = predictor.classify_one(test_smiles)"
   ]
  },
  {
   "cell_type": "code",
   "execution_count": 113,
   "metadata": {},
   "outputs": [
    {
     "data": {
      "text/plain": [
       "1510                                        CC1=C(SC=C1)/C=C\\2/C(=O)C3=C(O2)C=C(C=C3)O\n",
       "1763    CC(C)OC1=CC=CC=C1/C=C\\2/C(=O)N(/C(=C(/C#N)\\C(=O)NC3=CC=C(C=C3)C(=O)O)/S2)CCCOC\n",
       "2164                C1OC2=C(O1)C=C(C=C2)/C=C\\3/C(=O)N(C(=S)S3)CCC(=O)N(CCO)C4=CC=CC=C4\n",
       "3318    CCN\\1C2=CC=CC=C2C(/C1=C\\C=C\\C3=[N+](C4=CC=CC=C4C3(C)C)CC)(C)C.[O-]Cl(=O)(=O)=O\n",
       "3418                                     C1=CSC(=C1)C=C(C#N)C2=NC(=CS2)C3=CC=C(C=C3)Cl\n",
       "Name: SMILES, dtype: object"
      ]
     },
     "execution_count": 113,
     "metadata": {},
     "output_type": "execute_result"
    }
   ],
   "source": [
    "test.SMILES.head()"
   ]
  },
  {
   "cell_type": "code",
   "execution_count": 118,
   "metadata": {},
   "outputs": [
    {
     "data": {
      "image/png": "[encoded data removed]",
      "text/plain": [
       "<PIL.Image.Image image mode=RGBA size=300x300 at 0x1695700E4E0>"
      ]
     },
     "execution_count": 118,
     "metadata": {},
     "output_type": "execute_result"
    }
   ],
   "source": [
    "Draw.MolToImage(Chem.MolFromSmiles(\"C1=CSC(=C1)C=C(C#N)C2=NC(=CS2)C3=CC=C(C=C3)Cl\"))"
   ]
  },
  {
   "cell_type": "code",
   "execution_count": 104,
   "metadata": {},
   "outputs": [
    {
     "data": {
      "text/plain": [
       "0    COC1=CC(=O)C(=C(C1=O)CCCCCCC/C=C/CCCCCCCC2=C(C(=O)C=C(C2=O)OC)O)O\n",
       "1                    C1=CC2=C(C=C1[O-])OC3=CC(=O)C=CC3=[N+]2[O-].[Na+]\n",
       "2        CC1=CC=C(O1)C(=O)C2=C(C(=O)N(C2C3=CC(=CC=C3)OCC=C)C4=NC=CS4)O\n",
       "3                                  CC1=NC2=C(C=C1)C(=O)C(=C(C2=O)Br)OC\n",
       "4                                     COC1=C(C(=O)C2=C(C1=O)C=CC=N2)Br\n",
       "Name: SMILES, dtype: object"
      ]
     },
     "execution_count": 104,
     "metadata": {},
     "output_type": "execute_result"
    }
   ],
   "source": [
    "active.SMILES.head()"
   ]
  },
  {
   "cell_type": "code",
   "execution_count": 220,
   "metadata": {},
   "outputs": [
    {
     "data": {
      "text/plain": [
       "array([ True, False,  True,  True, False,  True, False,  True, False,\n",
       "       False])"
      ]
     },
     "execution_count": 220,
     "metadata": {},
     "output_type": "execute_result"
    }
   ],
   "source": [
    "np.array(test) > 0.2"
   ]
  },
  {
   "cell_type": "code",
   "execution_count": 190,
   "metadata": {},
   "outputs": [],
   "source": [
    "x = np.array(test)"
   ]
  },
  {
   "cell_type": "code",
   "execution_count": 219,
   "metadata": {},
   "outputs": [
    {
     "data": {
      "text/plain": [
       "array([0.26, 0.6 , 0.22, 0.3 , 0.28])"
      ]
     },
     "execution_count": 219,
     "metadata": {},
     "output_type": "execute_result"
    }
   ],
   "source": [
    "x[x>=0.2]"
   ]
  },
  {
   "cell_type": "code",
   "execution_count": 192,
   "metadata": {},
   "outputs": [],
   "source": [
    "y = 10*x"
   ]
  },
  {
   "cell_type": "code",
   "execution_count": 203,
   "metadata": {},
   "outputs": [
    {
     "data": {
      "text/plain": [
       "array([], dtype=float64)"
      ]
     },
     "execution_count": 203,
     "metadata": {},
     "output_type": "execute_result"
    }
   ],
   "source": [
    "y[x>=0.9]"
   ]
  },
  {
   "cell_type": "code",
   "execution_count": 197,
   "metadata": {},
   "outputs": [
    {
     "ename": "TypeError",
     "evalue": "'>' not supported between instances of 'list' and 'float'",
     "output_type": "error",
     "traceback": [
      "\u001b[1;31m---------------------------------------------------------------------------\u001b[0m",
      "\u001b[1;31mTypeError\u001b[0m                                 Traceback (most recent call last)",
      "\u001b[1;32m<ipython-input-197-705f90575d45>\u001b[0m in \u001b[0;36m<module>\u001b[1;34m\u001b[0m\n\u001b[1;32m----> 1\u001b[1;33m \u001b[0mnp\u001b[0m\u001b[1;33m.\u001b[0m\u001b[0marray\u001b[0m\u001b[1;33m(\u001b[0m\u001b[0mtest\u001b[0m\u001b[1;33m)\u001b[0m\u001b[1;33m[\u001b[0m\u001b[0mtest\u001b[0m \u001b[1;33m>\u001b[0m \u001b[1;36m0.2\u001b[0m\u001b[1;33m]\u001b[0m\u001b[1;33m\u001b[0m\u001b[1;33m\u001b[0m\u001b[0m\n\u001b[0m",
      "\u001b[1;31mTypeError\u001b[0m: '>' not supported between instances of 'list' and 'float'"
     ]
    }
   ],
   "source": [
    "np.array(test)[test > 0.2]"
   ]
  },
  {
   "cell_type": "code",
   "execution_count": 200,
   "metadata": {},
   "outputs": [
    {
     "data": {
      "text/plain": [
       "5"
      ]
     },
     "execution_count": 200,
     "metadata": {},
     "output_type": "execute_result"
    }
   ],
   "source": [
    "len(x[x>=0.2])"
   ]
  },
  {
   "cell_type": "code",
   "execution_count": 211,
   "metadata": {},
   "outputs": [],
   "source": [
    "smi = active.SMILES.head(10).values.tolist()"
   ]
  },
  {
   "cell_type": "code",
   "execution_count": 212,
   "metadata": {},
   "outputs": [
    {
     "data": {
      "text/plain": [
       "['COC1=CC(=O)C(=C(C1=O)CCCCCCC/C=C/CCCCCCCC2=C(C(=O)C=C(C2=O)OC)O)O',\n",
       " 'C1=CC2=C(C=C1[O-])OC3=CC(=O)C=CC3=[N+]2[O-].[Na+]',\n",
       " 'CC1=CC=C(O1)C(=O)C2=C(C(=O)N(C2C3=CC(=CC=C3)OCC=C)C4=NC=CS4)O',\n",
       " 'CC1=NC2=C(C=C1)C(=O)C(=C(C2=O)Br)OC',\n",
       " 'COC1=C(C(=O)C2=C(C1=O)C=CC=N2)Br',\n",
       " 'C1=CC=C(C=C1)C(=O)NC2=C(C(=O)C(=C(C2=O)Cl)NC(=O)C3=CC=CC=C3)Cl',\n",
       " 'CCC(=O)NC1=C(C(=O)C(=C(C1=O)Cl)NC(=O)CC)Cl',\n",
       " 'COC1=C2C(=C(C=C1)OC)C(=O)C(=C(C2=O)Cl)Cl',\n",
       " 'C1=CC=C(C=C1)OC2=C(C(=O)C3=CC=CC=C3C2=O)Cl',\n",
       " 'C1=CC=C(C(=C1)C2=C3C=CC(=O)C(=C3OC4=C2C=CC(=C4O)O)O)S(=O)(=O)O']"
      ]
     },
     "execution_count": 212,
     "metadata": {},
     "output_type": "execute_result"
    }
   ],
   "source": [
    "smi"
   ]
  },
  {
   "cell_type": "code",
   "execution_count": 214,
   "metadata": {},
   "outputs": [],
   "source": [
    "smi = np.array(smi)"
   ]
  },
  {
   "cell_type": "code",
   "execution_count": 217,
   "metadata": {},
   "outputs": [],
   "source": [
    "sel = smi[x>=.2].tolist()"
   ]
  },
  {
   "cell_type": "code",
   "execution_count": 240,
   "metadata": {},
   "outputs": [
    {
     "ename": "AttributeError",
     "evalue": "'numpy.ndarray' object has no attribute 'values'",
     "output_type": "error",
     "traceback": [
      "\u001b[1;31m---------------------------------------------------------------------------\u001b[0m",
      "\u001b[1;31mAttributeError\u001b[0m                            Traceback (most recent call last)",
      "\u001b[1;32m<ipython-input-240-600abc2c5249>\u001b[0m in \u001b[0;36m<module>\u001b[1;34m\u001b[0m\n\u001b[1;32m----> 1\u001b[1;33m \u001b[0mx\u001b[0m\u001b[1;33m.\u001b[0m\u001b[0mvalues\u001b[0m\u001b[1;33m\u001b[0m\u001b[1;33m\u001b[0m\u001b[0m\n\u001b[0m",
      "\u001b[1;31mAttributeError\u001b[0m: 'numpy.ndarray' object has no attribute 'values'"
     ]
    }
   ],
   "source": [
    "x.values"
   ]
  },
  {
   "cell_type": "code",
   "execution_count": 249,
   "metadata": {},
   "outputs": [
    {
     "data": {
      "text/plain": [
       "['<COC1=CC(=O)C(=C(C1=O)CCCCCCC/C=C/CCCCCCCC2=C(C(=O)C=C(C2=O)OC)O)O>',\n",
       " '<CC1=CC=C(O1)C(=O)C2=C(C(=O)N(C2C3=CC(=CC=C3)OCC=C)C4=NC=CS4)O>',\n",
       " '<CC1=NC2=C(C=C1)C(=O)C(=C(C2=O)Br)OC>',\n",
       " '<C1=CC=C(C=C1)C(=O)NC2=C(C(=O)C(=C(C2=O)Cl)NC(=O)C3=CC=CC=C3)Cl>',\n",
       " '<COC1=C2C(=C(C=C1)OC)C(=O)C(=C(C2=O)Cl)Cl>']"
      ]
     },
     "execution_count": 249,
     "metadata": {},
     "output_type": "execute_result"
    }
   ],
   "source": [
    "sel = []\n",
    "[sel.append('<'+s+'>') for s in smi[x>=.2]]\n",
    "#for s in smi[x>=.2]:\n",
    "#    s = '<'+s+'>'\n",
    "#    sel.append(s)\n",
    "sel"
   ]
  },
  {
   "cell_type": "code",
   "execution_count": 230,
   "metadata": {},
   "outputs": [
    {
     "name": "stdout",
     "output_type": "stream",
     "text": [
      "<generator object <genexpr> at 0x0000016957B3E8B8>\n"
     ]
    }
   ],
   "source": [
    "for s in sel:\n",
    "    print(s)"
   ]
  },
  {
   "cell_type": "code",
   "execution_count": 250,
   "metadata": {},
   "outputs": [
    {
     "data": {
      "text/plain": [
       "['<COC1=CC(=O)C(=C(C1=O)CCCCCCC/C=C/CCCCCCCC2=C(C(=O)C=C(C2=O)OC)O)O>',\n",
       " '<CC1=CC=C(O1)C(=O)C2=C(C(=O)N(C2C3=CC(=CC=C3)OCC=C)C4=NC=CS4)O>',\n",
       " '<CC1=NC2=C(C=C1)C(=O)C(=C(C2=O)Br)OC>',\n",
       " '<C1=CC=C(C=C1)C(=O)NC2=C(C(=O)C(=C(C2=O)Cl)NC(=O)C3=CC=CC=C3)Cl>',\n",
       " '<COC1=C2C(=C(C=C1)OC)C(=O)C(=C(C2=O)Cl)Cl>']"
      ]
     },
     "execution_count": 250,
     "metadata": {},
     "output_type": "execute_result"
    }
   ],
   "source": [
    "sel"
   ]
  },
  {
   "cell_type": "code",
   "execution_count": 253,
   "metadata": {},
   "outputs": [
    {
     "name": "stdout",
     "output_type": "stream",
     "text": [
      "<COC1=CC(=O)C(=C(C1=O)CCCCCCC/C=C/CCCCCCCC2=C(C(=O)C=C(C2=O)OC)O)O>\n",
      "<CC1=CC=C(O1)C(=O)C2=C(C(=O)N(C2C3=CC(=CC=C3)OCC=C)C4=NC=CS4)O>\n",
      "<CC1=NC2=C(C=C1)C(=O)C(=C(C2=O)Br)OC>\n",
      "<C1=CC=C(C=C1)C(=O)NC2=C(C(=O)C(=C(C2=O)Cl)NC(=O)C3=CC=CC=C3)Cl>\n",
      "<COC1=C2C(=C(C=C1)OC)C(=O)C(=C(C2=O)Cl)Cl>\n"
     ]
    }
   ],
   "source": [
    "for s,smi in enumerate(sel):\n",
    "    print(sel[s])"
   ]
  },
  {
   "cell_type": "code",
   "execution_count": 254,
   "metadata": {},
   "outputs": [],
   "source": [
    "tuple_list = []\n",
    "for i in range(10):\n",
    "    tuple_list.append((i, 10*i))"
   ]
  },
  {
   "cell_type": "code",
   "execution_count": 298,
   "metadata": {},
   "outputs": [
    {
     "data": {
      "image/png": "[encoded data removed]",
      "text/plain": [
       "<Figure size 432x288 with 1 Axes>"
      ]
     },
     "metadata": {
      "needs_background": "light"
     },
     "output_type": "display_data"
    }
   ],
   "source": [
    "x,y = zip(*tuple_list)\n",
    "plt.plot(x,y)\n",
    "lines = []\n",
    "for line in lines:\n",
    "    plt.axvline(x=line)"
   ]
  },
  {
   "cell_type": "code",
   "execution_count": 261,
   "metadata": {},
   "outputs": [
    {
     "data": {
      "text/plain": [
       "[(7, 70), (8, 80), (9, 90)]"
      ]
     },
     "execution_count": 261,
     "metadata": {},
     "output_type": "execute_result"
    }
   ],
   "source": [
    "tuple_list[-3:]"
   ]
  },
  {
   "cell_type": "code",
   "execution_count": 262,
   "metadata": {},
   "outputs": [
    {
     "data": {
      "text/plain": [
       "[(7, 70), (8, 80), (9, 90)]"
      ]
     },
     "execution_count": 262,
     "metadata": {},
     "output_type": "execute_result"
    }
   ],
   "source": [
    "tuple_list = tuple_list[-3:]\n",
    "tuple_list"
   ]
  },
  {
   "cell_type": "code",
   "execution_count": 263,
   "metadata": {},
   "outputs": [
    {
     "data": {
      "text/plain": [
       "3"
      ]
     },
     "execution_count": 263,
     "metadata": {},
     "output_type": "execute_result"
    }
   ],
   "source": [
    "len(tuple_list)"
   ]
  },
  {
   "cell_type": "code",
   "execution_count": 272,
   "metadata": {},
   "outputs": [
    {
     "name": "stdout",
     "output_type": "stream",
     "text": [
      "Threshold = 12.58884%\n"
     ]
    }
   ],
   "source": [
    "t = 0.12588840000000004\n",
    "print(f\"Threshold = {t:.5%}\")"
   ]
  },
  {
   "cell_type": "code",
   "execution_count": 278,
   "metadata": {},
   "outputs": [],
   "source": [
    "x = np.array([1,2,3,-1,3,4,-1,43,524355,-1])"
   ]
  },
  {
   "cell_type": "code",
   "execution_count": 284,
   "metadata": {},
   "outputs": [
    {
     "data": {
      "text/plain": [
       "[3]"
      ]
     },
     "execution_count": 284,
     "metadata": {},
     "output_type": "execute_result"
    }
   ],
   "source": [
    "l = []\n",
    "l.append(sum (x == -1))\n",
    "l"
   ]
  },
  {
   "cell_type": "code",
   "execution_count": 283,
   "metadata": {},
   "outputs": [
    {
     "ename": "AttributeError",
     "evalue": "'numpy.ndarray' object has no attribute 'len'",
     "output_type": "error",
     "traceback": [
      "\u001b[1;31m---------------------------------------------------------------------------\u001b[0m",
      "\u001b[1;31mAttributeError\u001b[0m                            Traceback (most recent call last)",
      "\u001b[1;32m<ipython-input-283-c1edb20bc1af>\u001b[0m in \u001b[0;36m<module>\u001b[1;34m\u001b[0m\n\u001b[1;32m----> 1\u001b[1;33m \u001b[0mx\u001b[0m\u001b[1;33m.\u001b[0m\u001b[0mlen\u001b[0m\u001b[1;33m(\u001b[0m\u001b[1;33m)\u001b[0m\u001b[1;33m\u001b[0m\u001b[1;33m\u001b[0m\u001b[0m\n\u001b[0m",
      "\u001b[1;31mAttributeError\u001b[0m: 'numpy.ndarray' object has no attribute 'len'"
     ]
    }
   ],
   "source": [
    "x.len()"
   ]
  },
  {
   "cell_type": "code",
   "execution_count": 285,
   "metadata": {},
   "outputs": [
    {
     "data": {
      "text/plain": [
       "0.5"
      ]
     },
     "execution_count": 285,
     "metadata": {},
     "output_type": "execute_result"
    }
   ],
   "source": [
    "min(1.0,0.5)"
   ]
  },
  {
   "cell_type": "code",
   "execution_count": 293,
   "metadata": {},
   "outputs": [
    {
     "data": {
      "text/plain": [
       "52.4355"
      ]
     },
     "execution_count": 293,
     "metadata": {},
     "output_type": "execute_result"
    }
   ],
   "source": [
    "min(x[8]/10000, 3435)"
   ]
  },
  {
   "cell_type": "code",
   "execution_count": 300,
   "metadata": {},
   "outputs": [],
   "source": [
    "x = 4"
   ]
  },
  {
   "cell_type": "code",
   "execution_count": 307,
   "metadata": {},
   "outputs": [
    {
     "name": "stdout",
     "output_type": "stream",
     "text": [
      "YESY\n"
     ]
    }
   ],
   "source": [
    "if (2 < x < 8 ):\n",
    "    print(\"YESY\")"
   ]
  },
  {
   "cell_type": "code",
   "execution_count": null,
   "metadata": {},
   "outputs": [],
   "source": []
  }
 ],
 "metadata": {
  "kernelspec": {
   "display_name": "UNC-ML (Python 3.7.1)",
   "language": "python",
   "name": "unc"
  },
  "language_info": {
   "codemirror_mode": {
    "name": "ipython",
    "version": 3
   },
   "file_extension": ".py",
   "mimetype": "text/x-python",
   "name": "python",
   "nbconvert_exporter": "python",
   "pygments_lexer": "ipython3",
   "version": "3.7.3"
  },
  "toc": {
   "base_numbering": 1,
   "nav_menu": {},
   "number_sections": true,
   "sideBar": true,
   "skip_h1_title": false,
   "title_cell": "Table of Contents",
   "title_sidebar": "Contents",
   "toc_cell": false,
   "toc_position": {},
   "toc_section_display": true,
   "toc_window_display": false
  }
 },
 "nbformat": 4,
 "nbformat_minor": 2
}
