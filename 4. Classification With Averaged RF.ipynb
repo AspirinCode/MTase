{
 "cells": [
  {
   "cell_type": "markdown",
   "metadata": {},
   "source": [
    "# Import Modules"
   ]
  },
  {
   "cell_type": "markdown",
   "metadata": {},
   "source": [
    "**General Modules:**\n",
    "- [Pandas](https://pandas.pydata.org/): Library for Python data analysis\n",
    "- [NumPy](http://www.numpy.org/): The fundamental package for scientific computing with Python\n",
    "- [MatplotLib](https://matplotlib.org/): plotting library which produces publication quality figures\n",
    "- [scikit-learn](https://scikit-learn.org/): Machine Learning in Python\n",
    "\n",
    "**Chemistry specific:**\n",
    "- [RDkit](https://www.rdkit.org/): An Open Source library for cheminformatics and machine learning\n",
    "- [MolVS](https://github.com/mcs07/MolVS): Molecular Validation and Standardization\n",
    "\n",
    "**Cosmetic**\n",
    "- [TQDM](https://github.com/tqdm/): For progress bars"
   ]
  },
  {
   "cell_type": "code",
   "execution_count": 1,
   "metadata": {},
   "outputs": [],
   "source": [
    "%matplotlib inline\n",
    "#%matplotlib notebook\n",
    "\n",
    "#Basic stuff\n",
    "import pandas as pd\n",
    "import numpy as np\n",
    "import matplotlib.pyplot as plt\n",
    "import warnings\n",
    "\n",
    "# ML models\n",
    "from sklearn.model_selection import train_test_split, cross_val_score, cross_val_predict\n",
    "from sklearn.metrics import confusion_matrix, precision_score, recall_score, f1_score\n",
    "from sklearn.metrics import precision_recall_curve, roc_curve, roc_auc_score\n",
    "\n",
    "# Initialize tqdm progress bar\n",
    "from tqdm import tqdm, tnrange, tqdm_notebook\n",
    "from tqdm import tqdm, tqdm_notebook\n",
    "tqdm.pandas(tqdm_notebook)"
   ]
  },
  {
   "cell_type": "code",
   "execution_count": 68,
   "metadata": {},
   "outputs": [],
   "source": [
    "# The averaged random forest model\n",
    "%reload_ext autoreload\n",
    "%autoreload 2\n",
    "from AverageRF import AverageRF\n",
    "from utils import train_test_split_data"
   ]
  },
  {
   "cell_type": "markdown",
   "metadata": {},
   "source": [
    "# Functions"
   ]
  },
  {
   "cell_type": "code",
   "execution_count": 3,
   "metadata": {
    "code_folding": [
     0,
     7,
     21,
     50
    ]
   },
   "outputs": [],
   "source": [
    "def plot_precision_recall_vs_thresholds(precisions, recalls, thresholds, ax=plt):      \n",
    "    ax.plot(thresholds, precisions[:-1], linestyle=\"-\", color=\"b\", label='Precision')\n",
    "    ax.plot(thresholds, recalls[:-1], linestyle=\"-\", color=\"g\", label='Recall')\n",
    "    ax.set_xlabel(\"Threshold\")\n",
    "    ax.legend(loc='center left')\n",
    "    ax.set_ylim([0,1])\n",
    "\n",
    "def plot_precision_recall(precisions, recalls, ax=plt):\n",
    "    ax.plot(recalls, precisions, linestyle=\"-\")\n",
    "    ax.plot([0,1], [1,0], 'k--')\n",
    "    ax.set_xlabel(\"Recall\")\n",
    "    ax.set_ylabel(\"Precision\")\n",
    "    ax.axis([0,1,0,1])\n",
    "\n",
    "def plot_roc_curve(fpr,tpr,ax=plt):\n",
    "    ax.set_xlabel('False Positive Rate')\n",
    "    ax.set_ylabel('True Positive Rate')\n",
    "    ax.plot(fpr, tpr, linewidth=1, linestyle=\"-\")\n",
    "    ax.plot([0,1], [0,1], 'k--')\n",
    "    ax.axis([0,1,0,1])\n",
    "\n",
    "def plot_roc_curves(fpr, tpr, aucs, label=None, step=10, ax=plt):\n",
    "    \n",
    "    legends = []\n",
    "   \n",
    "    fig, axs = plt.subplots(nrows=1, ncols=2, constrained_layout=True, figsize=(15,5))\n",
    "    \n",
    "    fig.suptitle(label)\n",
    "    \n",
    "    # Receiver Operating Curves\n",
    "    ax = axs[0]\n",
    "    n_models = len(fpr)\n",
    "    for rate in range(0,n_models,5):\n",
    "        ax.plot(fpr[rate], tpr[rate], linewidth=1, linestyle=\"-\")\n",
    "        legends.append(str(rate+1))\n",
    "    ax.legend(legends)\n",
    "    ax.plot([0,1], [0,1], 'k--')\n",
    "    ax.axis([0,1,0,1])\n",
    "    ax.set_xlabel('False Positive Rate')\n",
    "    ax.set_ylabel('True Positive Rate')\n",
    "    #im1 = ax.imshow(n_models, interpolation='nearest', cmap='viridis')\n",
    "    #fig.colorbar(im1, ax)\n",
    "    \n",
    "    # Area under curves\n",
    "    ax = axs[1]\n",
    "    y_labels = np.arange(len(prec))*step\n",
    "    ax.plot(y_labels, aucs, 'bo-')\n",
    "    ax.set_ylabel('AUC')\n",
    "    ax.set_xlabel('Inactive size (x n_actives)')\n",
    "\n",
    "def plot_grid(precisions, recalls, thresh_pr, fpr, tpr, thresh_roc):\n",
    "    \"\"\"\n",
    "    Plots in a grid\n",
    "    \"\"\"\n",
    "    fig, axes = plt.subplots(nrows=2,ncols=2, constrained_layout=True)\n",
    "    \n",
    "    # 1. Precision and Recal x Thresholds\n",
    "    plot_precision_recall_vs_thresholds(precisions, recalls, thresh_pr, ax=axes[0,0])\n",
    "    \n",
    "    # 2. Precision x Recall\n",
    "    plot_precision_recall(precisions, recalls, ax=axes[0,1])\n",
    "    \n",
    "    # 3.Receiver Operating Characteristic (ROC) Curve\n",
    "    plot_roc_curve(fpr,tpr,label='CGD', ax=axes[1,0])\n",
    "\n",
    "    plt.show()"
   ]
  },
  {
   "cell_type": "code",
   "execution_count": 5,
   "metadata": {
    "code_folding": [
     0
    ]
   },
   "outputs": [],
   "source": [
    "def evaluate_model(model, X_test, y_test):\n",
    "    # Evaluate metrics from test set\n",
    "    # Gather model predictions for test set\n",
    "    y_proba = model.predict_proba(X_test)[:,1]\n",
    "    y_pred = model.predict(X_test)\n",
    "\n",
    "    # Calculate perfomance measures\n",
    "    # ROC\n",
    "    fpr, tpr, thr_roc = roc_curve(y_test, y_proba)\n",
    "    auc = roc_auc_score(y_test,y_proba)\n",
    "\n",
    "    # Precision x Recall\n",
    "    f1 = f1_score(y_test, y_pred)\n",
    "    precision = precision_score(y_test, y_pred)\n",
    "    recall = recall_score(y_test, y_pred)\n",
    "    score = model.score(X_test, y_pred)\n",
    "\n",
    "    # Precision x Recll curves\n",
    "    precisions, recalls, pr_thr = precision_recall_curve(y_test,y_pred)\n",
    "\n",
    "    #import matplotlib.pyplot as plt\n",
    "    fig, ax = plt.subplots(nrows=2, ncols=2, figsize=(15,9))\n",
    "    plot_precision_recall_vs_thresholds(precisions, recalls, pr_thr, ax[0,0])\n",
    "    plot_precision_recall(precisions,recalls,ax[0,1])\n",
    "    plot_roc_curve(fpr,tpr,ax[1,0])\n",
    "\n",
    "    res = ax[1,1]\n",
    "    res.set_axis_off()\n",
    "    res.annotate(f\"Precision = {precision}\",(0.2,0.44), size='large')\n",
    "    res.annotate(f\"Recall    = {recall}\",(0.2,0.36), size='large')\n",
    "    res.annotate(f\"F1-score  = {f1}\",(0.2,0.28), size='large')\n",
    "    res.annotate(f\"Score     = {score}\",(0.2,0.2), size='large')\n",
    "    res.annotate(f\"ROC AUC   = {auc}\",(0.2,0.12), size='large')"
   ]
  },
  {
   "cell_type": "markdown",
   "metadata": {
    "heading_collapsed": true
   },
   "source": [
    "# Load Data"
   ]
  },
  {
   "cell_type": "code",
   "execution_count": 6,
   "metadata": {
    "hidden": true
   },
   "outputs": [],
   "source": [
    "active = pd.read_pickle(\"./active.pkl.bz2\")\n",
    "inactive = pd.read_pickle(\"./inactive.pkl.bz2\")\n",
    "inconclusive = pd.read_pickle(\"./inconclusive.pkl.bz2\")"
   ]
  },
  {
   "cell_type": "code",
   "execution_count": 7,
   "metadata": {
    "hidden": true
   },
   "outputs": [
    {
     "name": "stdout",
     "output_type": "stream",
     "text": [
      "active       =  (829, 10)\n",
      "inactive     =  (50000, 7)\n",
      "Inconclusive =  (1526, 6)\n"
     ]
    }
   ],
   "source": [
    "# Results *should* be:\n",
    "# active       =  (829, 10)\n",
    "# inactive     =  (50000, 7)\n",
    "# Inconclusive =  (1526, 6)\n",
    "\n",
    "print(\"active       = \", active.shape)\n",
    "print(\"inactive     = \", inactive.shape)\n",
    "print(\"Inconclusive = \", inconclusive.shape)"
   ]
  },
  {
   "cell_type": "code",
   "execution_count": 8,
   "metadata": {
    "hidden": true
   },
   "outputs": [],
   "source": [
    "# Add active bit for classification tasks\n",
    "active['ActiveBit']   = True\n",
    "inactive['ActiveBit'] = False"
   ]
  },
  {
   "cell_type": "code",
   "execution_count": 9,
   "metadata": {
    "hidden": true
   },
   "outputs": [],
   "source": [
    "# Prepare a DataFrame with only the data we need\n",
    "columns = ['PUBCHEM_SID', 'RDKit Fingerprints', 'Morgan Fingerprints','ActiveBit']\n",
    "data = pd.concat([active.filter(columns,axis=1),inactive],\n",
    "                 axis=0,join='inner', ignore_index=True)"
   ]
  },
  {
   "cell_type": "code",
   "execution_count": 10,
   "metadata": {
    "hidden": true
   },
   "outputs": [
    {
     "data": {
      "text/plain": [
       "Index(['PUBCHEM_SID', 'RDKit Fingerprints', 'Morgan Fingerprints',\n",
       "       'ActiveBit'],\n",
       "      dtype='object')"
      ]
     },
     "execution_count": 10,
     "metadata": {},
     "output_type": "execute_result"
    }
   ],
   "source": [
    "data.columns"
   ]
  },
  {
   "cell_type": "markdown",
   "metadata": {},
   "source": [
    "# Testing the Classifier\n",
    "\n",
    "## Morgan Fingerprints"
   ]
  },
  {
   "cell_type": "code",
   "execution_count": 11,
   "metadata": {},
   "outputs": [],
   "source": [
    "X = np.array(list(data['Morgan Fingerprints'])).astype(int)\n",
    "y = data['ActiveBit'].values"
   ]
  },
  {
   "cell_type": "code",
   "execution_count": 12,
   "metadata": {},
   "outputs": [
    {
     "data": {
      "text/plain": [
       "((50829, 2048), (50829,))"
      ]
     },
     "execution_count": 12,
     "metadata": {},
     "output_type": "execute_result"
    }
   ],
   "source": [
    "X.shape, y.shape"
   ]
  },
  {
   "cell_type": "markdown",
   "metadata": {},
   "source": [
    "### Train & Test"
   ]
  },
  {
   "cell_type": "code",
   "execution_count": 13,
   "metadata": {},
   "outputs": [
    {
     "name": "stdout",
     "output_type": "stream",
     "text": [
      "X_train:  8207 \ty_train:  8207 \t( 746 actives and 7461 inactives)\n",
      "X_test:   912  \ty_test:   912  \t( 83 actives and 829 inactives)\n"
     ]
    }
   ],
   "source": [
    "# Split the data into train & test sets\n",
    "X_train, X_test, y_train, y_test = train_test_split_data(X, y, rate_inactives=10)"
   ]
  },
  {
   "cell_type": "code",
   "execution_count": 73,
   "metadata": {},
   "outputs": [
    {
     "name": "stdout",
     "output_type": "stream",
     "text": [
      "Model type =  classifier\n"
     ]
    }
   ],
   "source": [
    "model_morgan = AverageRF(n_forests=5, model_type='classifier', verbosity=1,\n",
    "                         n_estimators=250,\n",
    "                         max_features='sqrt',\n",
    "                         class_weight='balanced_subsample',\n",
    "                         n_jobs=4)\n",
    "print(\"Model type = \", model_morgan.model_type)"
   ]
  },
  {
   "cell_type": "code",
   "execution_count": 74,
   "metadata": {},
   "outputs": [
    {
     "name": "stdout",
     "output_type": "stream",
     "text": [
      "SPLIT: 0 [TRAIN: 6564 ,\tTEST: 1643 ] \tTime: 8.733282327651978  seconds.\n",
      "Confusion Matrix = \n",
      " [[1476   17]\n",
      " [  82   68]]\n",
      "\t  Precision =  0.8\n",
      "\t  Recall    =  0.4533333333333333\n",
      "\t  F1-score  =  0.5787234042553192\n",
      "\t  R2-score  =  0.9397443700547778\n",
      "\t  ROC AUC   =  0.9452511721366377 \n",
      "\n",
      "SPLIT: 1 [TRAIN: 6566 ,\tTEST: 1641 ] \tTime: 8.80662226676941  seconds.\n",
      "Confusion Matrix = \n",
      " [[1478   14]\n",
      " [  72   77]]\n",
      "\t  Precision =  0.8461538461538461\n",
      "\t  Recall    =  0.5167785234899329\n",
      "\t  F1-score  =  0.6416666666666667\n",
      "\t  R2-score  =  0.947592931139549\n",
      "\t  ROC AUC   =  0.9539850117854508 \n",
      "\n",
      "SPLIT: 2 [TRAIN: 6566 ,\tTEST: 1641 ] \tTime: 8.932959079742432  seconds.\n",
      "Confusion Matrix = \n",
      " [[1470   22]\n",
      " [  81   68]]\n",
      "\t  Precision =  0.7555555555555555\n",
      "\t  Recall    =  0.4563758389261745\n",
      "\t  F1-score  =  0.5690376569037656\n",
      "\t  R2-score  =  0.9372333942717855\n",
      "\t  ROC AUC   =  0.9542189214963024 \n",
      "\n",
      "SPLIT: 3 [TRAIN: 6566 ,\tTEST: 1641 ] \tTime: 9.685747146606445  seconds.\n",
      "Confusion Matrix = \n",
      " [[1477   15]\n",
      " [  91   58]]\n",
      "\t  Precision =  0.7945205479452054\n",
      "\t  Recall    =  0.38926174496644295\n",
      "\t  F1-score  =  0.5225225225225225\n",
      "\t  R2-score  =  0.935405240706886\n",
      "\t  ROC AUC   =  0.9557348363531676 \n",
      "\n",
      "SPLIT: 4 [TRAIN: 6566 ,\tTEST: 1641 ] \tTime: 9.67585301399231  seconds.\n",
      "Confusion Matrix = \n",
      " [[1473   19]\n",
      " [  76   73]]\n",
      "\t  Precision =  0.7934782608695652\n",
      "\t  Recall    =  0.4899328859060403\n",
      "\t  F1-score  =  0.6058091286307054\n",
      "\t  R2-score  =  0.9421084704448507\n",
      "\t  ROC AUC   =  0.9367071810281232 \n",
      "\n"
     ]
    },
    {
     "data": {
      "text/plain": [
       "<AverageRF.AverageRF at 0x24589508a90>"
      ]
     },
     "execution_count": 74,
     "metadata": {},
     "output_type": "execute_result"
    }
   ],
   "source": [
    "# Train with X_train,t_train\n",
    "model_morgan.fit(X_train,y_train)"
   ]
  },
  {
   "cell_type": "code",
   "execution_count": 76,
   "metadata": {},
   "outputs": [],
   "source": [
    "morgan_model_stats = pd.DataFrame(model_morgan.stats)"
   ]
  },
  {
   "cell_type": "code",
   "execution_count": 78,
   "metadata": {},
   "outputs": [
    {
     "data": {
      "text/html": [
       "<div>\n",
       "<style scoped>\n",
       "    .dataframe tbody tr th:only-of-type {\n",
       "        vertical-align: middle;\n",
       "    }\n",
       "\n",
       "    .dataframe tbody tr th {\n",
       "        vertical-align: top;\n",
       "    }\n",
       "\n",
       "    .dataframe thead th {\n",
       "        text-align: right;\n",
       "    }\n",
       "</style>\n",
       "<table border=\"1\" class=\"dataframe\">\n",
       "  <thead>\n",
       "    <tr style=\"text-align: right;\">\n",
       "      <th></th>\n",
       "      <th>Training Times</th>\n",
       "      <th>Precision Scores</th>\n",
       "      <th>Recall Scores</th>\n",
       "      <th>F1 Scores</th>\n",
       "      <th>Predictions R2 Scores</th>\n",
       "      <th>ROC AUC</th>\n",
       "    </tr>\n",
       "  </thead>\n",
       "  <tbody>\n",
       "    <tr>\n",
       "      <th>count</th>\n",
       "      <td>5.000000</td>\n",
       "      <td>5.000000</td>\n",
       "      <td>5.000000</td>\n",
       "      <td>5.000000</td>\n",
       "      <td>5.000000</td>\n",
       "      <td>5.000000</td>\n",
       "    </tr>\n",
       "    <tr>\n",
       "      <th>mean</th>\n",
       "      <td>9.166893</td>\n",
       "      <td>0.797942</td>\n",
       "      <td>0.461136</td>\n",
       "      <td>0.583552</td>\n",
       "      <td>0.940417</td>\n",
       "      <td>0.949179</td>\n",
       "    </tr>\n",
       "    <tr>\n",
       "      <th>std</th>\n",
       "      <td>0.474549</td>\n",
       "      <td>0.032237</td>\n",
       "      <td>0.047893</td>\n",
       "      <td>0.044247</td>\n",
       "      <td>0.004745</td>\n",
       "      <td>0.008100</td>\n",
       "    </tr>\n",
       "    <tr>\n",
       "      <th>min</th>\n",
       "      <td>8.733282</td>\n",
       "      <td>0.755556</td>\n",
       "      <td>0.389262</td>\n",
       "      <td>0.522523</td>\n",
       "      <td>0.935405</td>\n",
       "      <td>0.936707</td>\n",
       "    </tr>\n",
       "    <tr>\n",
       "      <th>25%</th>\n",
       "      <td>8.806622</td>\n",
       "      <td>0.793478</td>\n",
       "      <td>0.453333</td>\n",
       "      <td>0.569038</td>\n",
       "      <td>0.937233</td>\n",
       "      <td>0.945251</td>\n",
       "    </tr>\n",
       "    <tr>\n",
       "      <th>50%</th>\n",
       "      <td>8.932959</td>\n",
       "      <td>0.794521</td>\n",
       "      <td>0.456376</td>\n",
       "      <td>0.578723</td>\n",
       "      <td>0.939744</td>\n",
       "      <td>0.953985</td>\n",
       "    </tr>\n",
       "    <tr>\n",
       "      <th>75%</th>\n",
       "      <td>9.675853</td>\n",
       "      <td>0.800000</td>\n",
       "      <td>0.489933</td>\n",
       "      <td>0.605809</td>\n",
       "      <td>0.942108</td>\n",
       "      <td>0.954219</td>\n",
       "    </tr>\n",
       "    <tr>\n",
       "      <th>max</th>\n",
       "      <td>9.685747</td>\n",
       "      <td>0.846154</td>\n",
       "      <td>0.516779</td>\n",
       "      <td>0.641667</td>\n",
       "      <td>0.947593</td>\n",
       "      <td>0.955735</td>\n",
       "    </tr>\n",
       "  </tbody>\n",
       "</table>\n",
       "</div>"
      ],
      "text/plain": [
       "       Training Times  Precision Scores  Recall Scores  F1 Scores  \\\n",
       "count        5.000000          5.000000       5.000000   5.000000   \n",
       "mean         9.166893          0.797942       0.461136   0.583552   \n",
       "std          0.474549          0.032237       0.047893   0.044247   \n",
       "min          8.733282          0.755556       0.389262   0.522523   \n",
       "25%          8.806622          0.793478       0.453333   0.569038   \n",
       "50%          8.932959          0.794521       0.456376   0.578723   \n",
       "75%          9.675853          0.800000       0.489933   0.605809   \n",
       "max          9.685747          0.846154       0.516779   0.641667   \n",
       "\n",
       "       Predictions R2 Scores   ROC AUC  \n",
       "count               5.000000  5.000000  \n",
       "mean                0.940417  0.949179  \n",
       "std                 0.004745  0.008100  \n",
       "min                 0.935405  0.936707  \n",
       "25%                 0.937233  0.945251  \n",
       "50%                 0.939744  0.953985  \n",
       "75%                 0.942108  0.954219  \n",
       "max                 0.947593  0.955735  "
      ]
     },
     "execution_count": 78,
     "metadata": {},
     "output_type": "execute_result"
    }
   ],
   "source": [
    "morgan_model_stats.describe()"
   ]
  },
  {
   "cell_type": "code",
   "execution_count": 64,
   "metadata": {},
   "outputs": [],
   "source": [
    "import pickle\n",
    "with open('morgan_cls.pkl','wb') as handle:\n",
    "    pickle.dump(model_morgan,handle)"
   ]
  },
  {
   "cell_type": "code",
   "execution_count": 79,
   "metadata": {},
   "outputs": [
    {
     "data": {
      "image/png": "[encoded data removed]",
      "text/plain": [
       "<Figure size 1080x648 with 4 Axes>"
      ]
     },
     "metadata": {
      "needs_background": "light"
     },
     "output_type": "display_data"
    }
   ],
   "source": [
    "evaluate_model(model_morgan,X_test,y_test)"
   ]
  },
  {
   "cell_type": "markdown",
   "metadata": {},
   "source": [
    "## RDKit Fingerprints"
   ]
  },
  {
   "cell_type": "code",
   "execution_count": 60,
   "metadata": {},
   "outputs": [
    {
     "data": {
      "text/plain": [
       "((50829, 2048), (50829,))"
      ]
     },
     "execution_count": 60,
     "metadata": {},
     "output_type": "execute_result"
    }
   ],
   "source": [
    "X = np.array(list(data['RDKit Fingerprints'])).astype(int)\n",
    "y = data['ActiveBit'].values\n",
    "\n",
    "X.shape, y.shape"
   ]
  },
  {
   "cell_type": "markdown",
   "metadata": {},
   "source": [
    "### Train & Test"
   ]
  },
  {
   "cell_type": "code",
   "execution_count": 61,
   "metadata": {},
   "outputs": [
    {
     "name": "stdout",
     "output_type": "stream",
     "text": [
      "X_train:  8207 \ty_train:  8207 \t( 746 actives and 7461 inactives)\n",
      "X_test:   912  \ty_test:   912  \t( 83 actives and 829 inactives)\n"
     ]
    }
   ],
   "source": [
    "# Split the data into train & test sets\n",
    "X_train, X_test, y_train, y_test = train_test_split_data(X, y, rate_inactives=10)"
   ]
  },
  {
   "cell_type": "code",
   "execution_count": 62,
   "metadata": {},
   "outputs": [],
   "source": [
    "model_rdkit = AverageRandomForestClassifier(n_forests=5, \n",
    "                                            n_estimators=250,\n",
    "                                            max_features=None,\n",
    "                                            class_weight='balanced_subsample',\n",
    "                                            verbose=0, n_jobs=4)"
   ]
  },
  {
   "cell_type": "code",
   "execution_count": 63,
   "metadata": {},
   "outputs": [
    {
     "name": "stdout",
     "output_type": "stream",
     "text": [
      "SPLIT: 0 [TRAIN: 6564 ,\tTEST: 1643 ] \tTime: 71.0960681438446  seconds.\n",
      "Confusion Matrix = \n",
      " [[1481   12]\n",
      " [  97   53]]\n",
      "\t  Precision =  0.8153846153846154\n",
      "\t  Recall    =  0.35333333333333333\n",
      "\t  F1-score  =  0.49302325581395345\n",
      "\t  Score     =  0.9336579427875837\n",
      "\t  ROC AUC   =  0.9207032819825853 \n",
      "\n",
      "SPLIT: 1 [TRAIN: 6566 ,\tTEST: 1641 ] \tTime: 70.87603735923767  seconds.\n",
      "Confusion Matrix = \n",
      " [[1480   12]\n",
      " [  97   52]]\n",
      "\t  Precision =  0.8125\n",
      "\t  Recall    =  0.348993288590604\n",
      "\t  F1-score  =  0.4882629107981221\n",
      "\t  Score     =  0.9335770871419866\n",
      "\t  ROC AUC   =  0.9132442377242385 \n",
      "\n",
      "SPLIT: 2 [TRAIN: 6566 ,\tTEST: 1641 ] \tTime: 73.13820123672485  seconds.\n",
      "Confusion Matrix = \n",
      " [[1481   11]\n",
      " [  90   59]]\n",
      "\t  Precision =  0.8428571428571429\n",
      "\t  Recall    =  0.3959731543624161\n",
      "\t  F1-score  =  0.5388127853881278\n",
      "\t  Score     =  0.9384521633150518\n",
      "\t  ROC AUC   =  0.9276949097648307 \n",
      "\n",
      "SPLIT: 3 [TRAIN: 6566 ,\tTEST: 1641 ] \tTime: 71.5938868522644  seconds.\n",
      "Confusion Matrix = \n",
      " [[1476   16]\n",
      " [  93   56]]\n",
      "\t  Precision =  0.7777777777777778\n",
      "\t  Recall    =  0.37583892617449666\n",
      "\t  F1-score  =  0.5067873303167421\n",
      "\t  Score     =  0.9335770871419866\n",
      "\t  ROC AUC   =  0.9393544091980496 \n",
      "\n",
      "SPLIT: 4 [TRAIN: 6566 ,\tTEST: 1641 ] \tTime: 69.66681218147278  seconds.\n",
      "Confusion Matrix = \n",
      " [[1477   15]\n",
      " [  92   57]]\n",
      "\t  Precision =  0.7916666666666666\n",
      "\t  Recall    =  0.3825503355704698\n",
      "\t  F1-score  =  0.5158371040723982\n",
      "\t  Score     =  0.9347958561852528\n",
      "\t  ROC AUC   =  0.8937712542958418 \n",
      "\n"
     ]
    }
   ],
   "source": [
    "# Train with X_train,t_train\n",
    "model_rdkit.fit(X_train,y_train)"
   ]
  },
  {
   "cell_type": "code",
   "execution_count": 64,
   "metadata": {},
   "outputs": [
    {
     "data": {
      "image/png": "[encoded data removed]",
      "text/plain": [
       "<Figure size 1080x648 with 4 Axes>"
      ]
     },
     "metadata": {
      "needs_background": "light"
     },
     "output_type": "display_data"
    }
   ],
   "source": [
    "evaluate_model(model_rdkit,X_test,y_test)"
   ]
  },
  {
   "cell_type": "markdown",
   "metadata": {},
   "source": [
    "# Conclusion"
   ]
  },
  {
   "cell_type": "markdown",
   "metadata": {},
   "source": [
    "RDKit fingerprints have similar AUC, but less recall and precision. As both recall and precision fall together, the F1-score is basically the same as for Morgan fingerprints.\n",
    "\n",
    "However, the F1, recall and precision using Morgan fingerprints is slightly better, so **we should use Morgan fingerprints** from now on."
   ]
  },
  {
   "cell_type": "code",
   "execution_count": 66,
   "metadata": {},
   "outputs": [
    {
     "ename": "PicklingError",
     "evalue": "Can't pickle <class 'AverageRandomForests.AverageRandomForestClassifier'>: it's not the same object as AverageRandomForests.AverageRandomForestClassifier",
     "output_type": "error",
     "traceback": [
      "\u001b[1;31m---------------------------------------------------------------------------\u001b[0m",
      "\u001b[1;31mPicklingError\u001b[0m                             Traceback (most recent call last)",
      "\u001b[1;32m<ipython-input-66-5c9a14d19de6>\u001b[0m in \u001b[0;36m<module>\u001b[1;34m\u001b[0m\n\u001b[0;32m      1\u001b[0m \u001b[1;32mimport\u001b[0m \u001b[0mpickle\u001b[0m\u001b[1;33m\u001b[0m\u001b[1;33m\u001b[0m\u001b[0m\n\u001b[0;32m      2\u001b[0m \u001b[1;32mwith\u001b[0m \u001b[0mopen\u001b[0m\u001b[1;33m(\u001b[0m\u001b[1;34m'train_test_RDKit.pkl'\u001b[0m\u001b[1;33m,\u001b[0m\u001b[1;34m'wb'\u001b[0m\u001b[1;33m)\u001b[0m \u001b[1;32mas\u001b[0m \u001b[0mhandle\u001b[0m\u001b[1;33m:\u001b[0m\u001b[1;33m\u001b[0m\u001b[1;33m\u001b[0m\u001b[0m\n\u001b[1;32m----> 3\u001b[1;33m     \u001b[0mpickle\u001b[0m\u001b[1;33m.\u001b[0m\u001b[0mdump\u001b[0m\u001b[1;33m(\u001b[0m\u001b[0mmodel_rdkit\u001b[0m\u001b[1;33m,\u001b[0m\u001b[0mhandle\u001b[0m\u001b[1;33m)\u001b[0m\u001b[1;33m\u001b[0m\u001b[1;33m\u001b[0m\u001b[0m\n\u001b[0m",
      "\u001b[1;31mPicklingError\u001b[0m: Can't pickle <class 'AverageRandomForests.AverageRandomForestClassifier'>: it's not the same object as AverageRandomForests.AverageRandomForestClassifier"
     ]
    }
   ],
   "source": [
    "import pickle\n",
    "with open('train_test_RDKit.pkl','wb') as handle:\n",
    "    pickle.dump(model_rdkit,handle)"
   ]
  },
  {
   "cell_type": "code",
   "execution_count": null,
   "metadata": {},
   "outputs": [],
   "source": []
  }
 ],
 "metadata": {
  "kernelspec": {
   "display_name": "UNC-ML (Python 3.7.1)",
   "language": "python",
   "name": "unc"
  },
  "language_info": {
   "codemirror_mode": {
    "name": "ipython",
    "version": 3
   },
   "file_extension": ".py",
   "mimetype": "text/x-python",
   "name": "python",
   "nbconvert_exporter": "python",
   "pygments_lexer": "ipython3",
   "version": "3.7.3"
  },
  "toc": {
   "base_numbering": 1,
   "nav_menu": {},
   "number_sections": true,
   "sideBar": true,
   "skip_h1_title": false,
   "title_cell": "Table of Contents",
   "title_sidebar": "Contents",
   "toc_cell": false,
   "toc_position": {
    "height": "calc(100% - 180px)",
    "left": "10px",
    "top": "150px",
    "width": "168px"
   },
   "toc_section_display": true,
   "toc_window_display": false
  }
 },
 "nbformat": 4,
 "nbformat_minor": 2
}
