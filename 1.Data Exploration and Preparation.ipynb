{
 "cells": [
  {
   "cell_type": "markdown",
   "metadata": {},
   "source": [
    "# Using Machine Learning to Develop New Inhibitors for the Dengue Virus Enzyme NS5 Methyltransferase"
   ]
  },
  {
   "cell_type": "markdown",
   "metadata": {},
   "source": [
    "Using data from PUBCHEM BioAssay Record for AID [588689](https://pubchem.ncbi.nlm.nih.gov/bioassay/588689): \n",
    "\n",
    "**Primary Screen**\n",
    "- Compounds with % inhibition > 28.49% are labeled *active* (mean inhibition of the compound population plus three standard deviations)\n",
    "- Subsequently, compounds exhibiting autofluorescent characteristics were excluded\n",
    "- Available compounds from the remaining list were screened in the confirmatory assay\n",
    "- Compounds that showed activity in the primary screen, but were not available for further study are labeled as *inconclusive*\n",
    "  \n",
    "**Confirmatory Assay**\n",
    "- Only compounds labeled as active in the primary screen were rescreened in the confirmatory assay\n",
    "- Compound activity is defined as 30% or greater inhibition at any tested concentration\n",
    "- IC50 was measured only for the compounds labeled as \"active\"\n",
    "- IC50s are in micromolar units\n"
   ]
  },
  {
   "cell_type": "markdown",
   "metadata": {},
   "source": [
    "## The General Procedure Used"
   ]
  },
  {
   "cell_type": "markdown",
   "metadata": {},
   "source": [
    "1. Examine the available data\n",
    "1. Remove salts\n",
    "1. Remove charges\n",
    "1. Standardize the molecules\n",
    "1. Generate [InChi](https://en.wikipedia.org/wiki/International_Chemical_Identifier) Keys \n",
    "1. Remove duplicates based on the InChi keys\n",
    "1. Use the full set to train a classifier\n",
    "1. Prepare a set with actives + 10x inactives\n",
    "   1. Clustering?\n",
    "   1. Random?\n",
    "1. Use this dataset for training a predictor\n",
    "   1. Predictors (ensemble)?\n",
    "1. Use the models create to reproduce the experimental setup\n",
    "   1. Classify active / inactive\n",
    "   1. With the \"actives\", predict IC50"
   ]
  },
  {
   "cell_type": "markdown",
   "metadata": {},
   "source": [
    "## Modules used in this Notebook"
   ]
  },
  {
   "cell_type": "markdown",
   "metadata": {},
   "source": [
    "**General Modules:**\n",
    "- [Pandas](https://pandas.pydata.org/): Library for Python data analysis\n",
    "- [NumPy](http://www.numpy.org/): The fundamental package for scientific computing with Python\n",
    "- [MatplotLib](https://matplotlib.org/): plotting library which produces publication quality figures\n",
    "- [scikit-learn](https://scikit-learn.org/): Machine Learning in Python\n",
    "\n",
    "**Chemistry specific:**\n",
    "- [RDkit](https://www.rdkit.org/): An Open Source library for cheminformatics and machine learning\n",
    "- [MolVS](https://github.com/mcs07/MolVS): Molecular Validation and Standardization\n",
    "\n",
    "**Cosmetic**\n",
    "- [TQDM](https://github.com/tqdm/): For progress bars"
   ]
  },
  {
   "cell_type": "code",
   "execution_count": 1,
   "metadata": {},
   "outputs": [],
   "source": [
    "%matplotlib inline\n",
    "#%matplotlib notebook\n",
    "\n",
    "# The basic stuff\n",
    "import pandas as pd\n",
    "import numpy as np\n",
    "import matplotlib.pyplot as plt\n",
    "import time\n",
    "\n",
    "# Chemistry-related\n",
    "import molvs\n",
    "from rdkit import Chem\n",
    "from rdkit.Chem import SaltRemover\n",
    "from rdkit.Chem import Draw\n",
    "from rdkit.Chem import PandasTools\n",
    "from rdkit.Chem.rdmolops import RDKFingerprint\n",
    "from rdkit.Chem.AllChem import GetMorganFingerprintAsBitVect\n",
    "\n",
    "# Cosmetic: progress bars\n",
    "from tqdm import trange, tnrange, tqdm_notebook\n",
    "from tqdm.auto import tqdm\n",
    "\n",
    "# Initialize tqdm progress bar\n",
    "tqdm.pandas(tqdm_notebook)"
   ]
  },
  {
   "cell_type": "markdown",
   "metadata": {},
   "source": [
    "## Preparing the data"
   ]
  },
  {
   "cell_type": "markdown",
   "metadata": {},
   "source": [
    "The columns in the csv file from the assays have the following structure:\n",
    "1.  PUBCHEM_RESULT_TAG\n",
    "1.  PUBCHEM_SID\n",
    "1.  PUBCHEM_CID\n",
    "1.  PUBCHEM_ACTIVITY_OUTCOME: ==> Inactive / Inconclusive / Active\n",
    "1.  PUBCHEM_ACTIVITY_SCORE\n",
    "1.  PUBCHEM_ACTIVITY_URL\n",
    "1.  PUBCHEM_ASSAYDATA_COMMENT\n",
    "1.  IC50 Modifier\n",
    "1.  IC50\n",
    "1.  IC50 Std Dev Modifier\n",
    "1.  IC50 Std Dev\n",
    "1.  IC50 Hill Slope\n",
    "1.  IC50 NormChi2\n",
    "1.  % Inhibition @ 100 uM\n",
    "1.  % Inhibition @ 50 uM\n",
    "1.  % Inhibition @ 25 uM\n",
    "1.  % Inhibition @ 12.5 uM\n",
    "1.  % Inhibition @ 6.25 uM\n",
    "1.  % Inhibition @ 3.13 uM\n",
    "1.  % Inhibition @ 1.56 uM\n",
    "1.  % Inhibition @ 0.78 uM\n",
    "1.  % Inhibition @ 0.39 uM\n",
    "1.  % Inhibition @ 0.19 uM\n",
    "1.  Primary Outcome: ==> Inactive / Active\n",
    "1.  Primary Screen % Inhibition @ 25 uM\n",
    "1.  Pilot 10K Screen % Inhibition @ 25 uM Rep 1\n",
    "1.  Pilot 10K Screen % Inhibition @ 25 uM Rep 2\n",
    "1.  Verification\n"
   ]
  },
  {
   "cell_type": "code",
   "execution_count": 2,
   "metadata": {},
   "outputs": [],
   "source": [
    "# Read the assays results. We are only interested in these 3 columns.\n",
    "# Row 0 (in the file) has the column labels\n",
    "# Rows 1-4 are information labels, and can be skipped\n",
    "# Finally, we also hint at the type already here.\n",
    "\n",
    "assays = pd.read_csv(\"./data/AID_588689_datatable_all.csv\",\n",
    "                     usecols=[\"PUBCHEM_SID\",\n",
    "                              \"PUBCHEM_ACTIVITY_OUTCOME\", \n",
    "                              \"IC50 Modifier\",\n",
    "                              \"IC50\",\n",
    "                              \"IC50 Std Dev\",\n",
    "                              \"IC50 Hill Slope\",\n",
    "                              \"IC50 NormChi2\",\n",
    "                              \"Primary Screen % Inhibition @ 25 uM\",\n",
    "                              \"Primary Outcome\",\n",
    "                              \"% Inhibition @ 100 uM\",\n",
    "                              \"% Inhibition @ 50 uM\",\n",
    "                              \"% Inhibition @ 25 uM\",\n",
    "                              \"% Inhibition @ 12.5 uM\",\n",
    "                              \"% Inhibition @ 6.25 uM\",\n",
    "                              \"% Inhibition @ 3.13 uM\",\n",
    "                              \"% Inhibition @ 1.56 uM\",\n",
    "                              \"% Inhibition @ 0.78 uM\",\n",
    "                              \"% Inhibition @ 0.39 uM\",\n",
    "                              \"% Inhibition @ 0.19 uM\",\n",
    "                              \"Verification\"], \n",
    "                     skiprows=[1,2,3,4],\n",
    "                     dtype={\"PUBCHEM_SID\":np.int64,\n",
    "                            \"PUBCHEM_ACTIVITY_OUTCOME\":str, \n",
    "                            \"IC50 Modifier\":str,\n",
    "                            \"IC50\":np.float64,\n",
    "                            \"IC50 Std Dev\":np.float64,\n",
    "                            \"IC50 Hill Slope\":np.float64,\n",
    "                            \"IC50 NormChi2\":np.float64,\n",
    "                            \"Primary Screen % Inhibition @ 25 uM\":np.float64,\n",
    "                            \"Primary Outcome\":str,\n",
    "                            \"% Inhibition @ 100 uM\":np.float64,\n",
    "                            \"% Inhibition @ 50 uM\":np.float64,\n",
    "                            \"% Inhibition @ 25 uM\":np.float64,\n",
    "                            \"% Inhibition @ 12.5 uM\":np.float64,\n",
    "                            \"% Inhibition @ 6.25 uM\":np.float64,\n",
    "                            \"% Inhibition @ 3.13 uM\":np.float64,\n",
    "                            \"% Inhibition @ 1.56 uM\":np.float64,\n",
    "                            \"% Inhibition @ 0.78 uM\":np.float64,\n",
    "                            \"% Inhibition @ 0.39 uM\":np.float64,\n",
    "                            \"% Inhibition @ 0.19 uM\":np.float64,\n",
    "                            \"Verification\":str})"
   ]
  },
  {
   "cell_type": "code",
   "execution_count": 3,
   "metadata": {},
   "outputs": [
    {
     "name": "stdout",
     "output_type": "stream",
     "text": [
      "<class 'pandas.core.frame.DataFrame'>\n",
      "RangeIndex: 338853 entries, 0 to 338852\n",
      "Data columns (total 20 columns):\n",
      "PUBCHEM_SID                            338853 non-null int64\n",
      "PUBCHEM_ACTIVITY_OUTCOME               338853 non-null object\n",
      "IC50 Modifier                          168 non-null object\n",
      "IC50                                   1013 non-null float64\n",
      "IC50 Std Dev                           1013 non-null float64\n",
      "IC50 Hill Slope                        1013 non-null float64\n",
      "IC50 NormChi2                          1013 non-null float64\n",
      "% Inhibition @ 100 uM                  1716 non-null float64\n",
      "% Inhibition @ 50 uM                   1735 non-null float64\n",
      "% Inhibition @ 25 uM                   1737 non-null float64\n",
      "% Inhibition @ 12.5 uM                 1745 non-null float64\n",
      "% Inhibition @ 6.25 uM                 1750 non-null float64\n",
      "% Inhibition @ 3.13 uM                 1748 non-null float64\n",
      "% Inhibition @ 1.56 uM                 1749 non-null float64\n",
      "% Inhibition @ 0.78 uM                 1750 non-null float64\n",
      "% Inhibition @ 0.39 uM                 1750 non-null float64\n",
      "% Inhibition @ 0.19 uM                 1749 non-null float64\n",
      "Primary Outcome                        338853 non-null object\n",
      "Primary Screen % Inhibition @ 25 uM    338853 non-null float64\n",
      "Verification                           338853 non-null object\n",
      "dtypes: float64(15), int64(1), object(4)\n",
      "memory usage: 51.7+ MB\n"
     ]
    }
   ],
   "source": [
    "assays.info()"
   ]
  },
  {
   "cell_type": "code",
   "execution_count": 4,
   "metadata": {},
   "outputs": [
    {
     "data": {
      "text/plain": [
       "338853"
      ]
     },
     "execution_count": 4,
     "metadata": {},
     "output_type": "execute_result"
    }
   ],
   "source": [
    "len(assays[\"PUBCHEM_SID\"].unique())"
   ]
  },
  {
   "cell_type": "code",
   "execution_count": 6,
   "metadata": {},
   "outputs": [],
   "source": [
    "# Read the SMILES data for the molecules\n",
    "smiles = pd.read_csv(\"./data/3246857343446501288.txt\", sep=\"\\t\", header=None, names=[\"PUBCHEM_SID\", \"SMILES\"])"
   ]
  },
  {
   "cell_type": "code",
   "execution_count": 7,
   "metadata": {},
   "outputs": [],
   "source": [
    "# Now we add the smiles column to the assays DataFrame\n",
    "assays = smiles.merge(assays,how='inner',on=\"PUBCHEM_SID\")"
   ]
  },
  {
   "cell_type": "code",
   "execution_count": 8,
   "metadata": {},
   "outputs": [
    {
     "data": {
      "text/plain": [
       "Inactive        336307\n",
       "Inconclusive      1533\n",
       "Active            1013\n",
       "Name: PUBCHEM_ACTIVITY_OUTCOME, dtype: int64"
      ]
     },
     "execution_count": 8,
     "metadata": {},
     "output_type": "execute_result"
    }
   ],
   "source": [
    "assays[\"PUBCHEM_ACTIVITY_OUTCOME\"].value_counts()"
   ]
  },
  {
   "cell_type": "markdown",
   "metadata": {},
   "source": [
    "**Some comments on the data**\n",
    "\n",
    "- There are a total of 338,853 tested compounds. \n",
    "- From those, there are 338,622 unique SMILES meaning that there are 231 repetitions.\n",
    "- IC50 was calculated for only 1,013 of those molecules.\n",
    "- For those that had IC50 calculated, 168 had a value as '> 100'. However, the standard deviations on IC50 reach 9999!! (Clearly some error there)\n",
    "- Some molecules have Hill Slope up to 23.5. This is really too large!"
   ]
  },
  {
   "cell_type": "markdown",
   "metadata": {},
   "source": [
    "### Taking a look into the data"
   ]
  },
  {
   "cell_type": "code",
   "execution_count": 9,
   "metadata": {},
   "outputs": [
    {
     "data": {
      "text/plain": [
       "array([<matplotlib.axes._subplots.AxesSubplot object at 0x00000263397B1EF0>,\n",
       "       <matplotlib.axes._subplots.AxesSubplot object at 0x0000026339DC2518>],\n",
       "      dtype=object)"
      ]
     },
     "execution_count": 9,
     "metadata": {},
     "output_type": "execute_result"
    },
    {
     "data": {
      "image/png": "[encoded data removed]",
      "text/plain": [
       "<Figure size 1080x504 with 2 Axes>"
      ]
     },
     "metadata": {
      "needs_background": "light"
     },
     "output_type": "display_data"
    }
   ],
   "source": [
    "assays.plot(y=[\"IC50 Hill Slope\", \"IC50\"],style=\"bo\", subplots=True, figsize=(15,7))"
   ]
  },
  {
   "cell_type": "code",
   "execution_count": 10,
   "metadata": {},
   "outputs": [
    {
     "data": {
      "text/plain": [
       "array([[<matplotlib.axes._subplots.AxesSubplot object at 0x0000026339A2A668>,\n",
       "        <matplotlib.axes._subplots.AxesSubplot object at 0x000002633A1B1EF0>]],\n",
       "      dtype=object)"
      ]
     },
     "execution_count": 10,
     "metadata": {},
     "output_type": "execute_result"
    },
    {
     "data": {
      "image/png": "[encoded data removed]",
      "text/plain": [
       "<Figure size 1080x360 with 2 Axes>"
      ]
     },
     "metadata": {
      "needs_background": "light"
     },
     "output_type": "display_data"
    }
   ],
   "source": [
    "assays.hist([\"IC50\",\"IC50 Hill Slope\"], figsize=(15,5))"
   ]
  },
  {
   "cell_type": "code",
   "execution_count": 11,
   "metadata": {},
   "outputs": [
    {
     "data": {
      "text/plain": [
       "PUBCHEM_SID                            168\n",
       "SMILES                                 168\n",
       "PUBCHEM_ACTIVITY_OUTCOME               168\n",
       "IC50 Modifier                          168\n",
       "IC50                                   168\n",
       "IC50 Std Dev                           168\n",
       "IC50 Hill Slope                        168\n",
       "IC50 NormChi2                          168\n",
       "% Inhibition @ 100 uM                  168\n",
       "% Inhibition @ 50 uM                   167\n",
       "% Inhibition @ 25 uM                   167\n",
       "% Inhibition @ 12.5 uM                 168\n",
       "% Inhibition @ 6.25 uM                 168\n",
       "% Inhibition @ 3.13 uM                 167\n",
       "% Inhibition @ 1.56 uM                 168\n",
       "% Inhibition @ 0.78 uM                 168\n",
       "% Inhibition @ 0.39 uM                 168\n",
       "% Inhibition @ 0.19 uM                 168\n",
       "Primary Outcome                        168\n",
       "Primary Screen % Inhibition @ 25 uM    168\n",
       "Verification                           168\n",
       "dtype: int64"
      ]
     },
     "execution_count": 11,
     "metadata": {},
     "output_type": "execute_result"
    }
   ],
   "source": [
    "assays[(assays[\"IC50\"] >= 100)].count()"
   ]
  },
  {
   "cell_type": "code",
   "execution_count": 12,
   "metadata": {},
   "outputs": [
    {
     "data": {
      "text/plain": [
       "PUBCHEM_SID                            386\n",
       "SMILES                                 386\n",
       "PUBCHEM_ACTIVITY_OUTCOME               386\n",
       "IC50 Modifier                           15\n",
       "IC50                                   386\n",
       "IC50 Std Dev                           386\n",
       "IC50 Hill Slope                        386\n",
       "IC50 NormChi2                          386\n",
       "% Inhibition @ 100 uM                  384\n",
       "% Inhibition @ 50 uM                   384\n",
       "% Inhibition @ 25 uM                   385\n",
       "% Inhibition @ 12.5 uM                 386\n",
       "% Inhibition @ 6.25 uM                 386\n",
       "% Inhibition @ 3.13 uM                 386\n",
       "% Inhibition @ 1.56 uM                 386\n",
       "% Inhibition @ 0.78 uM                 386\n",
       "% Inhibition @ 0.39 uM                 386\n",
       "% Inhibition @ 0.19 uM                 385\n",
       "Primary Outcome                        386\n",
       "Primary Screen % Inhibition @ 25 uM    386\n",
       "Verification                           386\n",
       "dtype: int64"
      ]
     },
     "execution_count": 12,
     "metadata": {},
     "output_type": "execute_result"
    }
   ],
   "source": [
    "assays[(assays[\"IC50 Hill Slope\"] > 2.0)].count()"
   ]
  },
  {
   "cell_type": "code",
   "execution_count": 13,
   "metadata": {},
   "outputs": [
    {
     "data": {
      "text/plain": [
       "PUBCHEM_SID                            831\n",
       "SMILES                                 831\n",
       "PUBCHEM_ACTIVITY_OUTCOME               831\n",
       "IC50 Modifier                            0\n",
       "IC50                                   831\n",
       "IC50 Std Dev                           831\n",
       "IC50 Hill Slope                        831\n",
       "IC50 NormChi2                          831\n",
       "% Inhibition @ 100 uM                  818\n",
       "% Inhibition @ 50 uM                   825\n",
       "% Inhibition @ 25 uM                   829\n",
       "% Inhibition @ 12.5 uM                 831\n",
       "% Inhibition @ 6.25 uM                 831\n",
       "% Inhibition @ 3.13 uM                 830\n",
       "% Inhibition @ 1.56 uM                 830\n",
       "% Inhibition @ 0.78 uM                 831\n",
       "% Inhibition @ 0.39 uM                 831\n",
       "% Inhibition @ 0.19 uM                 830\n",
       "Primary Outcome                        831\n",
       "Primary Screen % Inhibition @ 25 uM    831\n",
       "Verification                           831\n",
       "dtype: int64"
      ]
     },
     "execution_count": 13,
     "metadata": {},
     "output_type": "execute_result"
    }
   ],
   "source": [
    "assays[((assays[\"IC50\"] < 100) & (assays[\"IC50 Hill Slope\"] <=6))].count()"
   ]
  },
  {
   "cell_type": "markdown",
   "metadata": {},
   "source": [
    "### Primary Screen\n",
    "From the primary screen, the criteria to define active compounds is % inhibition > 28.49 (the mean inhibition of the compound population plus three standard deviations), totaling **3,281 *active* compounds**. Those were used in the next \"*confirmatory*\" screens, which used different concentrations."
   ]
  },
  {
   "cell_type": "code",
   "execution_count": 14,
   "metadata": {},
   "outputs": [
    {
     "data": {
      "text/plain": [
       "PUBCHEM_SID                            3281\n",
       "SMILES                                 3281\n",
       "PUBCHEM_ACTIVITY_OUTCOME               3281\n",
       "IC50 Modifier                           168\n",
       "IC50                                   1012\n",
       "IC50 Std Dev                           1012\n",
       "IC50 Hill Slope                        1012\n",
       "IC50 NormChi2                          1012\n",
       "% Inhibition @ 100 uM                  1714\n",
       "% Inhibition @ 50 uM                   1733\n",
       "% Inhibition @ 25 uM                   1735\n",
       "% Inhibition @ 12.5 uM                 1743\n",
       "% Inhibition @ 6.25 uM                 1748\n",
       "% Inhibition @ 3.13 uM                 1746\n",
       "% Inhibition @ 1.56 uM                 1747\n",
       "% Inhibition @ 0.78 uM                 1748\n",
       "% Inhibition @ 0.39 uM                 1748\n",
       "% Inhibition @ 0.19 uM                 1747\n",
       "Primary Outcome                        3281\n",
       "Primary Screen % Inhibition @ 25 uM    3281\n",
       "Verification                           3281\n",
       "dtype: int64"
      ]
     },
     "execution_count": 14,
     "metadata": {},
     "output_type": "execute_result"
    }
   ],
   "source": [
    "assays[(assays[\"Primary Outcome\"] == \"Active\")].count()"
   ]
  },
  {
   "cell_type": "code",
   "execution_count": 15,
   "metadata": {},
   "outputs": [
    {
     "data": {
      "text/plain": [
       "Inactive    335572\n",
       "Active        3281\n",
       "Name: Primary Outcome, dtype: int64"
      ]
     },
     "execution_count": 15,
     "metadata": {},
     "output_type": "execute_result"
    }
   ],
   "source": [
    "assays[\"Primary Outcome\"].value_counts()"
   ]
  },
  {
   "cell_type": "code",
   "execution_count": 16,
   "metadata": {},
   "outputs": [
    {
     "data": {
      "text/plain": [
       "PUBCHEM_SID                            3281\n",
       "SMILES                                 3281\n",
       "PUBCHEM_ACTIVITY_OUTCOME               3281\n",
       "IC50 Modifier                           168\n",
       "IC50                                   1012\n",
       "IC50 Std Dev                           1012\n",
       "IC50 Hill Slope                        1012\n",
       "IC50 NormChi2                          1012\n",
       "% Inhibition @ 100 uM                  1714\n",
       "% Inhibition @ 50 uM                   1733\n",
       "% Inhibition @ 25 uM                   1735\n",
       "% Inhibition @ 12.5 uM                 1743\n",
       "% Inhibition @ 6.25 uM                 1748\n",
       "% Inhibition @ 3.13 uM                 1746\n",
       "% Inhibition @ 1.56 uM                 1747\n",
       "% Inhibition @ 0.78 uM                 1748\n",
       "% Inhibition @ 0.39 uM                 1748\n",
       "% Inhibition @ 0.19 uM                 1747\n",
       "Primary Outcome                        3281\n",
       "Primary Screen % Inhibition @ 25 uM    3281\n",
       "Verification                           3281\n",
       "dtype: int64"
      ]
     },
     "execution_count": 16,
     "metadata": {},
     "output_type": "execute_result"
    }
   ],
   "source": [
    "assays[(assays[\"Primary Screen % Inhibition @ 25 uM\"] > 28.49)].count()"
   ]
  },
  {
   "cell_type": "code",
   "execution_count": 17,
   "metadata": {},
   "outputs": [
    {
     "data": {
      "text/html": [
       "<div>\n",
       "<style scoped>\n",
       "    .dataframe tbody tr th:only-of-type {\n",
       "        vertical-align: middle;\n",
       "    }\n",
       "\n",
       "    .dataframe tbody tr th {\n",
       "        vertical-align: top;\n",
       "    }\n",
       "\n",
       "    .dataframe thead th {\n",
       "        text-align: right;\n",
       "    }\n",
       "</style>\n",
       "<table border=\"1\" class=\"dataframe\">\n",
       "  <thead>\n",
       "    <tr style=\"text-align: right;\">\n",
       "      <th></th>\n",
       "      <th>PUBCHEM_SID</th>\n",
       "      <th>SMILES</th>\n",
       "      <th>PUBCHEM_ACTIVITY_OUTCOME</th>\n",
       "      <th>IC50 Modifier</th>\n",
       "      <th>IC50</th>\n",
       "      <th>IC50 Std Dev</th>\n",
       "      <th>IC50 Hill Slope</th>\n",
       "      <th>IC50 NormChi2</th>\n",
       "      <th>% Inhibition @ 100 uM</th>\n",
       "      <th>% Inhibition @ 50 uM</th>\n",
       "      <th>...</th>\n",
       "      <th>% Inhibition @ 12.5 uM</th>\n",
       "      <th>% Inhibition @ 6.25 uM</th>\n",
       "      <th>% Inhibition @ 3.13 uM</th>\n",
       "      <th>% Inhibition @ 1.56 uM</th>\n",
       "      <th>% Inhibition @ 0.78 uM</th>\n",
       "      <th>% Inhibition @ 0.39 uM</th>\n",
       "      <th>% Inhibition @ 0.19 uM</th>\n",
       "      <th>Primary Outcome</th>\n",
       "      <th>Primary Screen % Inhibition @ 25 uM</th>\n",
       "      <th>Verification</th>\n",
       "    </tr>\n",
       "  </thead>\n",
       "  <tbody>\n",
       "    <tr>\n",
       "      <th>253427</th>\n",
       "      <td>17401238</td>\n",
       "      <td>CC1=C(C(=C(S1)NC(=O)C2CCCCC2C(=O)O)C(=O)N)C3=CC=C(C=C3)C(C)C</td>\n",
       "      <td>Active</td>\n",
       "      <td>NaN</td>\n",
       "      <td>62.68</td>\n",
       "      <td>5.74</td>\n",
       "      <td>1.94</td>\n",
       "      <td>5.96</td>\n",
       "      <td>73.85</td>\n",
       "      <td>36.24</td>\n",
       "      <td>...</td>\n",
       "      <td>6.31</td>\n",
       "      <td>9.67</td>\n",
       "      <td>8.45</td>\n",
       "      <td>4.99</td>\n",
       "      <td>0.0</td>\n",
       "      <td>8.79</td>\n",
       "      <td>4.8</td>\n",
       "      <td>Inactive</td>\n",
       "      <td>28.49</td>\n",
       "      <td>verified</td>\n",
       "    </tr>\n",
       "    <tr>\n",
       "      <th>338054</th>\n",
       "      <td>843097</td>\n",
       "      <td>CCC(C)(C)N1C(=NN=N1)CN(CC2=CC=CO2)CC3=CC4=CC5=C(C=C4NC3=O)OCO5</td>\n",
       "      <td>Inactive</td>\n",
       "      <td>NaN</td>\n",
       "      <td>NaN</td>\n",
       "      <td>NaN</td>\n",
       "      <td>NaN</td>\n",
       "      <td>NaN</td>\n",
       "      <td>0.00</td>\n",
       "      <td>0.00</td>\n",
       "      <td>...</td>\n",
       "      <td>0.00</td>\n",
       "      <td>0.00</td>\n",
       "      <td>0.00</td>\n",
       "      <td>0.00</td>\n",
       "      <td>0.0</td>\n",
       "      <td>0.00</td>\n",
       "      <td>0.0</td>\n",
       "      <td>Inactive</td>\n",
       "      <td>28.49</td>\n",
       "      <td>verified</td>\n",
       "    </tr>\n",
       "  </tbody>\n",
       "</table>\n",
       "<p>2 rows × 21 columns</p>\n",
       "</div>"
      ],
      "text/plain": [
       "        PUBCHEM_SID                                                          SMILES PUBCHEM_ACTIVITY_OUTCOME IC50 Modifier   IC50  IC50 Std Dev  IC50 Hill Slope  IC50 NormChi2  % Inhibition @ 100 uM  % Inhibition @ 50 uM  ...  % Inhibition @ 12.5 uM  % Inhibition @ 6.25 uM  % Inhibition @ 3.13 uM  % Inhibition @ 1.56 uM  % Inhibition @ 0.78 uM  % Inhibition @ 0.39 uM  % Inhibition @ 0.19 uM  Primary Outcome Primary Screen % Inhibition @ 25 uM  Verification\n",
       "253427     17401238    CC1=C(C(=C(S1)NC(=O)C2CCCCC2C(=O)O)C(=O)N)C3=CC=C(C=C3)C(C)C                   Active           NaN  62.68          5.74             1.94           5.96                  73.85                 36.24  ...                    6.31                    9.67                    8.45                    4.99                     0.0                    8.79                     4.8         Inactive                               28.49      verified\n",
       "338054       843097  CCC(C)(C)N1C(=NN=N1)CN(CC2=CC=CO2)CC3=CC4=CC5=C(C=C4NC3=O)OCO5                 Inactive           NaN    NaN           NaN              NaN            NaN                   0.00                  0.00  ...                    0.00                    0.00                    0.00                    0.00                     0.0                    0.00                     0.0         Inactive                               28.49      verified\n",
       "\n",
       "[2 rows x 21 columns]"
      ]
     },
     "execution_count": 17,
     "metadata": {},
     "output_type": "execute_result"
    }
   ],
   "source": [
    "assays[(assays[\"Primary Screen % Inhibition @ 25 uM\"] == 28.49)]"
   ]
  },
  {
   "cell_type": "markdown",
   "metadata": {},
   "source": [
    "After the \"Primary Screen\" compounds were tagged with \"Primary Outcome\" as *Active* or *Inactive*, accordiing to the following criterion:\n",
    "- Inhibition @ 25 uM >  28.49% == Active\n",
    "- Inhibition @ 25 uM <= 28.49% == Inactive\n",
    "\n",
    "Only 2 compounds fall into the Inhibition == 28.49%, and were tagged with \"Primary Outcome == Inactive\". However, when deciding which coumpounds to use in the next steps, both were included together with all *Actives*. Inclusive, it is worth mentioning that one of them (PUBCHEM_SID==17401238) later turned out to be *Active* in the confirmatory assays.\n",
    "\n",
    "We want to separate the data set in the same groups as the original, so we will include those two in the *Active* group here."
   ]
  },
  {
   "cell_type": "code",
   "execution_count": 18,
   "metadata": {},
   "outputs": [],
   "source": [
    "primary_active   = assays[(assays[\"Primary Screen % Inhibition @ 25 uM\"] >= 28.49)]\n",
    "primary_inactive = assays[(assays[\"Primary Screen % Inhibition @ 25 uM\"] <  28.49)]"
   ]
  },
  {
   "cell_type": "code",
   "execution_count": 19,
   "metadata": {},
   "outputs": [
    {
     "data": {
      "text/plain": [
       "(array(['Active', 'Inactive'], dtype=object),\n",
       " array(['Inactive'], dtype=object))"
      ]
     },
     "execution_count": 19,
     "metadata": {},
     "output_type": "execute_result"
    }
   ],
   "source": [
    "primary_active[\"Primary Outcome\"].unique(), primary_inactive[\"Primary Outcome\"].unique()"
   ]
  },
  {
   "cell_type": "code",
   "execution_count": 20,
   "metadata": {},
   "outputs": [
    {
     "data": {
      "text/plain": [
       "((3283, 21), (335570, 21))"
      ]
     },
     "execution_count": 20,
     "metadata": {},
     "output_type": "execute_result"
    }
   ],
   "source": [
    "primary_active.shape, primary_inactive.shape"
   ]
  },
  {
   "cell_type": "markdown",
   "metadata": {},
   "source": [
    "Only the 3,281 compounds deemed *\"active\"* in the primary screen, plus the 2 *inactive* with I==28.49%, were used in the subsequent steps, totaling **3,283** compounds."
   ]
  },
  {
   "cell_type": "markdown",
   "metadata": {},
   "source": [
    "### Confirmatory Assay\n",
    "From the 3,281 compounds deemed *active* (+ 2 borderline *inactive*) in the primary screen:\n",
    "- Compounds exhibiting autofluorescent characteristics were excluded.\n",
    "- Available compounds from the remaining list were screened in the confirmatory assay. \n",
    "- Compounds that showed activity in the primary screen, but were not available for further study are labeled as inconclusive.\n",
    "- **Compound activity is defined as 30% or greater inhibition at _<u>any</u>_ tested concentration.**\n",
    "- IC50 values were calculated for these compounds"
   ]
  },
  {
   "cell_type": "code",
   "execution_count": 21,
   "metadata": {},
   "outputs": [
    {
     "name": "stdout",
     "output_type": "stream",
     "text": [
      "<class 'pandas.core.frame.DataFrame'>\n",
      "Int64Index: 3283 entries, 5 to 338820\n",
      "Data columns (total 10 columns):\n",
      "% Inhibition @ 100 uM     1716 non-null float64\n",
      "% Inhibition @ 50 uM      1735 non-null float64\n",
      "% Inhibition @ 25 uM      1737 non-null float64\n",
      "% Inhibition @ 12.5 uM    1745 non-null float64\n",
      "% Inhibition @ 6.25 uM    1750 non-null float64\n",
      "% Inhibition @ 3.13 uM    1748 non-null float64\n",
      "% Inhibition @ 1.56 uM    1749 non-null float64\n",
      "% Inhibition @ 0.78 uM    1750 non-null float64\n",
      "% Inhibition @ 0.39 uM    1750 non-null float64\n",
      "% Inhibition @ 0.19 uM    1749 non-null float64\n",
      "dtypes: float64(10)\n",
      "memory usage: 282.1 KB\n"
     ]
    }
   ],
   "source": [
    "confirmatory_assays = [\"% Inhibition @ 100 uM\" ,\n",
    "                       \"% Inhibition @ 50 uM\"  ,\n",
    "                       \"% Inhibition @ 25 uM\"  ,\n",
    "                       \"% Inhibition @ 12.5 uM\",\n",
    "                       \"% Inhibition @ 6.25 uM\",\n",
    "                       \"% Inhibition @ 3.13 uM\",\n",
    "                       \"% Inhibition @ 1.56 uM\",\n",
    "                       \"% Inhibition @ 0.78 uM\",\n",
    "                       \"% Inhibition @ 0.39 uM\",\n",
    "                       \"% Inhibition @ 0.19 uM\"]\n",
    "\n",
    "confirmatory = primary_active[confirmatory_assays]\n",
    "confirmatory.info()"
   ]
  },
  {
   "cell_type": "code",
   "execution_count": 22,
   "metadata": {
    "scrolled": true
   },
   "outputs": [
    {
     "data": {
      "text/plain": [
       "1750"
      ]
     },
     "execution_count": 22,
     "metadata": {},
     "output_type": "execute_result"
    }
   ],
   "source": [
    "# How many compounds were tested in the confirmatory assays at at least one concentration?\n",
    "confirmatory.notna().any(axis=1).sum()"
   ]
  },
  {
   "cell_type": "code",
   "execution_count": 23,
   "metadata": {},
   "outputs": [
    {
     "data": {
      "text/plain": [
       "1692"
      ]
     },
     "execution_count": 23,
     "metadata": {},
     "output_type": "execute_result"
    }
   ],
   "source": [
    "# How many compounds were tested in the confirmatory assays for *all* concentrations?\n",
    "confirmatory.notna().all(axis=1).sum()"
   ]
  },
  {
   "cell_type": "markdown",
   "metadata": {},
   "source": [
    "That means that 58 molecules are missing some value. Since we will recalculate the IC50s with NCGC CurveFit, those will not be a problem."
   ]
  },
  {
   "cell_type": "code",
   "execution_count": 24,
   "metadata": {},
   "outputs": [],
   "source": [
    "# confirmatory_tested will hold all the compounds tested in the confirmatory screen\n",
    "confirmatory_tested = confirmatory.notna().any(axis=1)\n",
    "\n",
    "# Confirmatory_full will hold all the 1,692 compounds to which all concentrations wre tested\n",
    "confirmatory_full   = confirmatory.notna().all(axis=1) \n",
    "\n",
    "# Confirmatory_miss will hold all 58 compounds for which come data is missing\n",
    "confirmatory_miss   = (confirmatory_tested & ~confirmatory_full)\n",
    "\n",
    "# Inconclusive\n",
    "confirmatory_inconc = confirmatory.isna().all(axis=1)\n",
    "\n",
    "confirmatory_tested = primary_active[confirmatory_tested]\n",
    "confirmatory_full   = primary_active[confirmatory_full]\n",
    "confirmatory_miss   = primary_active[confirmatory_miss]\n",
    "confirmatory_inconc = primary_active[confirmatory_inconc]"
   ]
  },
  {
   "cell_type": "code",
   "execution_count": 25,
   "metadata": {},
   "outputs": [
    {
     "name": "stdout",
     "output_type": "stream",
     "text": [
      "Confirmatory_tested =  (1750, 21)\n",
      "Confirmatory_full   =  (1692, 21)\n",
      "Confirmatory_miss   =  (58, 21)\n",
      "Inconclusive        =  (1533, 21)\n"
     ]
    }
   ],
   "source": [
    "print(\"Confirmatory_tested = \", confirmatory_tested.shape)\n",
    "print(\"Confirmatory_full   = \", confirmatory_full.shape)\n",
    "print(\"Confirmatory_miss   = \", confirmatory_miss.shape)\n",
    "print(\"Inconclusive        = \", confirmatory_inconc.shape)"
   ]
  },
  {
   "cell_type": "code",
   "execution_count": 26,
   "metadata": {},
   "outputs": [
    {
     "data": {
      "text/plain": [
       "Active      1013\n",
       "Inactive     737\n",
       "Name: PUBCHEM_ACTIVITY_OUTCOME, dtype: int64"
      ]
     },
     "execution_count": 26,
     "metadata": {},
     "output_type": "execute_result"
    }
   ],
   "source": [
    "confirmatory_tested[\"PUBCHEM_ACTIVITY_OUTCOME\"].value_counts()"
   ]
  },
  {
   "cell_type": "code",
   "execution_count": 27,
   "metadata": {},
   "outputs": [
    {
     "data": {
      "text/plain": [
       "Active      994\n",
       "Inactive    698\n",
       "Name: PUBCHEM_ACTIVITY_OUTCOME, dtype: int64"
      ]
     },
     "execution_count": 27,
     "metadata": {},
     "output_type": "execute_result"
    }
   ],
   "source": [
    "confirmatory_full[\"PUBCHEM_ACTIVITY_OUTCOME\"].value_counts()"
   ]
  },
  {
   "cell_type": "code",
   "execution_count": 28,
   "metadata": {},
   "outputs": [
    {
     "data": {
      "text/plain": [
       "Inactive    39\n",
       "Active      19\n",
       "Name: PUBCHEM_ACTIVITY_OUTCOME, dtype: int64"
      ]
     },
     "execution_count": 28,
     "metadata": {},
     "output_type": "execute_result"
    }
   ],
   "source": [
    "confirmatory_miss[\"PUBCHEM_ACTIVITY_OUTCOME\"].value_counts()"
   ]
  },
  {
   "cell_type": "code",
   "execution_count": 29,
   "metadata": {},
   "outputs": [
    {
     "data": {
      "text/plain": [
       "Inconclusive    1533\n",
       "Name: PUBCHEM_ACTIVITY_OUTCOME, dtype: int64"
      ]
     },
     "execution_count": 29,
     "metadata": {},
     "output_type": "execute_result"
    }
   ],
   "source": [
    "confirmatory_inconc[\"PUBCHEM_ACTIVITY_OUTCOME\"].value_counts()"
   ]
  },
  {
   "cell_type": "markdown",
   "metadata": {},
   "source": [
    "So, the compounds that are missing some values could still be tested, and were active in 33% of the cases. \n",
    "For the ones that were tested with all concentrations, 59% were active."
   ]
  },
  {
   "cell_type": "code",
   "execution_count": 30,
   "metadata": {},
   "outputs": [
    {
     "data": {
      "text/plain": [
       "1013"
      ]
     },
     "execution_count": 30,
     "metadata": {},
     "output_type": "execute_result"
    }
   ],
   "source": [
    "confirmatory.ge(30).any('columns').sum()"
   ]
  },
  {
   "cell_type": "markdown",
   "metadata": {},
   "source": [
    "So, there are 1,013 entries that showed inhibition > 30% in at least one concentration, and those were used to calculate the IC50s. However, 1,750 compounds were tested. In the experiment, the authors were only interested in the active ligands. However, for modeling, it is important to have the inactive as well. Furthermore, when cleaning the data, we will loose data. So, it is important to use as much data as possible."
   ]
  },
  {
   "cell_type": "markdown",
   "metadata": {
    "code_folding": []
   },
   "source": [
    "### Recalculating the IC50s"
   ]
  },
  {
   "cell_type": "markdown",
   "metadata": {},
   "source": [
    "To have as much data as possible, lets recalculate the IC50s for all the molecules for which experiment data is available. We will use the software from the National Center for Advancing Translational Sciences (NCATS) Genome Center (NCGC), the NGCG [Curve Fit](https://tripod.nih.gov/curvefit/)."
   ]
  },
  {
   "cell_type": "markdown",
   "metadata": {},
   "source": [
    "First, we need to generate the data in the correct format for the program to use. For each compound in the list, the format is:\n",
    "\n",
    "```\n",
    "\"conc\" <tab> <tab> <tab-separated list of concentrations in molar units >\n",
    "<<molID>> <tab> <<SMILES>> <tab> <tab-separated list of Responses in %>\n",
    "```"
   ]
  },
  {
   "cell_type": "code",
   "execution_count": 31,
   "metadata": {
    "code_folding": []
   },
   "outputs": [],
   "source": [
    "with open('./data/conc_x_activity.txt', \"w\") as output:\n",
    "    for compound, row in confirmatory_tested.iterrows():\n",
    "        pubchem_sid = str(row[\"PUBCHEM_SID\"])\n",
    "        smiles = str(row[\"SMILES\"])\n",
    "        line1 = \"conc \\t\"\n",
    "        \n",
    "        # List of Concentrations\n",
    "        for column in confirmatory.columns:\n",
    "            if ~np.isnan(row[column]):\n",
    "                conc = f\"{float(column[15:-2])*1e-6:5.4}\" # Conc. in Molar\n",
    "                line1 = line1 + \"\\t\" + conc\n",
    "        line1 = line1 + \"\\n\"\n",
    "        line2 = pubchem_sid + \"\\t\" + smiles\n",
    "        \n",
    "        # Values of the results\n",
    "        for value in row[confirmatory.columns].values:\n",
    "            if ~np.isnan(value):\n",
    "                line2 = line2 + \"\\t\" + str(value)\n",
    "        line2 = line2 + \"\\n\"\n",
    "        output.write(line1)\n",
    "        output.write(line2)"
   ]
  },
  {
   "cell_type": "markdown",
   "metadata": {},
   "source": [
    "(After this, run the NCGC curvefit program on the data generated, and return here to continue the analysis.)"
   ]
  },
  {
   "cell_type": "code",
   "execution_count": 32,
   "metadata": {},
   "outputs": [],
   "source": [
    "ncgc_results = pd.read_csv(\"./data/ncgc_results.txt\", sep=\"\\t\",\n",
    "                           usecols=[\"CMPD ID\", \"Smiles\", \"Curve Class\", \"Log EC50\", \"EC50\", \"R2\"])\n",
    "ncgc_results.rename(columns={\"CMPD ID\":\"PUBCHEM_SID\",\n",
    "                             \"Smiles\":\"SMILES\",\n",
    "                             \"Log EC50\": \"Log IC50\", \n",
    "                             \"EC50\": \"IC50\"}, inplace=True)"
   ]
  },
  {
   "cell_type": "code",
   "execution_count": 33,
   "metadata": {},
   "outputs": [
    {
     "name": "stdout",
     "output_type": "stream",
     "text": [
      "<class 'pandas.core.frame.DataFrame'>\n",
      "RangeIndex: 1750 entries, 0 to 1749\n",
      "Data columns (total 6 columns):\n",
      "PUBCHEM_SID    1750 non-null int64\n",
      "Curve Class    1750 non-null float64\n",
      "Log IC50       832 non-null float64\n",
      "IC50           832 non-null float64\n",
      "R2             832 non-null float64\n",
      "SMILES         1750 non-null object\n",
      "dtypes: float64(4), int64(1), object(1)\n",
      "memory usage: 82.1+ KB\n"
     ]
    }
   ],
   "source": [
    "ncgc_results.info()"
   ]
  },
  {
   "cell_type": "code",
   "execution_count": 34,
   "metadata": {},
   "outputs": [
    {
     "data": {
      "text/html": [
       "<div>\n",
       "<style scoped>\n",
       "    .dataframe tbody tr th:only-of-type {\n",
       "        vertical-align: middle;\n",
       "    }\n",
       "\n",
       "    .dataframe tbody tr th {\n",
       "        vertical-align: top;\n",
       "    }\n",
       "\n",
       "    .dataframe thead th {\n",
       "        text-align: right;\n",
       "    }\n",
       "</style>\n",
       "<table border=\"1\" class=\"dataframe\">\n",
       "  <thead>\n",
       "    <tr style=\"text-align: right;\">\n",
       "      <th></th>\n",
       "      <th>PUBCHEM_SID</th>\n",
       "      <th>Curve Class</th>\n",
       "      <th>Log IC50</th>\n",
       "      <th>IC50</th>\n",
       "      <th>R2</th>\n",
       "      <th>SMILES</th>\n",
       "    </tr>\n",
       "  </thead>\n",
       "  <tbody>\n",
       "    <tr>\n",
       "      <th>0</th>\n",
       "      <td>46501256</td>\n",
       "      <td>1.1</td>\n",
       "      <td>-4.95</td>\n",
       "      <td>11.220185</td>\n",
       "      <td>0.997443</td>\n",
       "      <td>COC1=CC(=O)C(=C(C1=O)CCCCCCC/C=C/CCCCCCCC2=C(C(=O)C=C(C2=O)OC)O)O</td>\n",
       "    </tr>\n",
       "    <tr>\n",
       "      <th>1</th>\n",
       "      <td>26671489</td>\n",
       "      <td>1.1</td>\n",
       "      <td>-5.65</td>\n",
       "      <td>2.238721</td>\n",
       "      <td>0.988917</td>\n",
       "      <td>C1=CC2=C(C=C1[O-])OC3=CC(=O)C=CC3=[N+]2[O-].[Na+]</td>\n",
       "    </tr>\n",
       "    <tr>\n",
       "      <th>2</th>\n",
       "      <td>50086104</td>\n",
       "      <td>1.1</td>\n",
       "      <td>-5.50</td>\n",
       "      <td>3.162278</td>\n",
       "      <td>0.855065</td>\n",
       "      <td>CC1=CC=C(O1)C(=O)C2=C(C(=O)N(C2C3=CC(=CC=C3)OCC=C)C4=NC=CS4)O</td>\n",
       "    </tr>\n",
       "    <tr>\n",
       "      <th>3</th>\n",
       "      <td>99356103</td>\n",
       "      <td>1.1</td>\n",
       "      <td>-5.50</td>\n",
       "      <td>3.162278</td>\n",
       "      <td>0.995536</td>\n",
       "      <td>CC1=NC2=C(C=C1)C(=O)C(=C(C2=O)Br)OC</td>\n",
       "    </tr>\n",
       "    <tr>\n",
       "      <th>4</th>\n",
       "      <td>92764075</td>\n",
       "      <td>1.1</td>\n",
       "      <td>-5.50</td>\n",
       "      <td>3.162278</td>\n",
       "      <td>0.992365</td>\n",
       "      <td>COC1=C(C(=O)C2=C(C1=O)C=CC=N2)Br</td>\n",
       "    </tr>\n",
       "  </tbody>\n",
       "</table>\n",
       "</div>"
      ],
      "text/plain": [
       "   PUBCHEM_SID  Curve Class  Log IC50       IC50        R2                                                             SMILES\n",
       "0     46501256          1.1     -4.95  11.220185  0.997443  COC1=CC(=O)C(=C(C1=O)CCCCCCC/C=C/CCCCCCCC2=C(C(=O)C=C(C2=O)OC)O)O\n",
       "1     26671489          1.1     -5.65   2.238721  0.988917                  C1=CC2=C(C=C1[O-])OC3=CC(=O)C=CC3=[N+]2[O-].[Na+]\n",
       "2     50086104          1.1     -5.50   3.162278  0.855065      CC1=CC=C(O1)C(=O)C2=C(C(=O)N(C2C3=CC(=CC=C3)OCC=C)C4=NC=CS4)O\n",
       "3     99356103          1.1     -5.50   3.162278  0.995536                                CC1=NC2=C(C=C1)C(=O)C(=C(C2=O)Br)OC\n",
       "4     92764075          1.1     -5.50   3.162278  0.992365                                   COC1=C(C(=O)C2=C(C1=O)C=CC=N2)Br"
      ]
     },
     "execution_count": 34,
     "metadata": {},
     "output_type": "execute_result"
    }
   ],
   "source": [
    "ncgc_results.head()"
   ]
  },
  {
   "cell_type": "code",
   "execution_count": 35,
   "metadata": {},
   "outputs": [
    {
     "data": {
      "text/plain": [
       "array([1.1, 1.2, 2.1, 2.2, 4. ])"
      ]
     },
     "execution_count": 35,
     "metadata": {},
     "output_type": "execute_result"
    }
   ],
   "source": [
    "ncgc_results['Curve Class'].unique()"
   ]
  },
  {
   "cell_type": "code",
   "execution_count": 36,
   "metadata": {},
   "outputs": [
    {
     "data": {
      "text/plain": [
       "array([[<matplotlib.axes._subplots.AxesSubplot object at 0x000002633A6BA128>,\n",
       "        <matplotlib.axes._subplots.AxesSubplot object at 0x000002633A3BF240>],\n",
       "       [<matplotlib.axes._subplots.AxesSubplot object at 0x000002633A3E54A8>,\n",
       "        <matplotlib.axes._subplots.AxesSubplot object at 0x000002633A40E710>]],\n",
       "      dtype=object)"
      ]
     },
     "execution_count": 36,
     "metadata": {},
     "output_type": "execute_result"
    },
    {
     "data": {
      "image/png": "[encoded data removed]",
      "text/plain": [
       "<Figure size 1080x504 with 4 Axes>"
      ]
     },
     "metadata": {
      "needs_background": "light"
     },
     "output_type": "display_data"
    }
   ],
   "source": [
    "ncgc_results.hist([\"Log IC50\",\"Curve Class\", \"R2\"], figsize=(15,7))"
   ]
  },
  {
   "cell_type": "code",
   "execution_count": 37,
   "metadata": {},
   "outputs": [
    {
     "data": {
      "text/plain": [
       "<matplotlib.axes._subplots.AxesSubplot at 0x2633a495390>"
      ]
     },
     "execution_count": 37,
     "metadata": {},
     "output_type": "execute_result"
    },
    {
     "data": {
      "image/png": "[encoded data removed]",
      "text/plain": [
       "<Figure size 432x288 with 1 Axes>"
      ]
     },
     "metadata": {},
     "output_type": "display_data"
    }
   ],
   "source": [
    "ncgc_results[\"Curve Class\"].value_counts().plot(kind='pie', table=True)"
   ]
  },
  {
   "cell_type": "markdown",
   "metadata": {},
   "source": [
    "So, there are 832 compounds with Curve Class = 1.1 - 2.2. Compounds with curve class == 4 are just considered inactive, and the IC50 is not even calculated. This leaves us with a database of:\n",
    "\n",
    "- 832 \"Active\" compounds\n",
    "- 918 \"Inactive\" compounds.\n",
    "\n",
    "If needed, more \"Inactive\" compounds can be obtained from the \"Inactives\" in the primary screening. From now on, we will be working only with the \"Active\" compounds. The \"Inactives\" will be dropped because they showed activity in the primary assay, but this could not be reproduced, indicating possible artifacts.\n",
    "\n",
    "The Curve Class classification is described [here](https://support.collaborativedrug.com/hc/en-us/articles/214359343-Activity-and-Curve-Validation#curve_classification)."
   ]
  },
  {
   "cell_type": "code",
   "execution_count": 38,
   "metadata": {},
   "outputs": [
    {
     "data": {
      "text/html": [
       "<div>\n",
       "<style scoped>\n",
       "    .dataframe tbody tr th:only-of-type {\n",
       "        vertical-align: middle;\n",
       "    }\n",
       "\n",
       "    .dataframe tbody tr th {\n",
       "        vertical-align: top;\n",
       "    }\n",
       "\n",
       "    .dataframe thead th {\n",
       "        text-align: right;\n",
       "    }\n",
       "</style>\n",
       "<table border=\"1\" class=\"dataframe\">\n",
       "  <thead>\n",
       "    <tr style=\"text-align: right;\">\n",
       "      <th></th>\n",
       "      <th>PUBCHEM_SID</th>\n",
       "      <th>Curve Class</th>\n",
       "      <th>Log IC50</th>\n",
       "      <th>IC50</th>\n",
       "      <th>R2</th>\n",
       "      <th>SMILES</th>\n",
       "    </tr>\n",
       "  </thead>\n",
       "  <tbody>\n",
       "    <tr>\n",
       "      <th>0</th>\n",
       "      <td>46501256</td>\n",
       "      <td>1.1</td>\n",
       "      <td>-4.95</td>\n",
       "      <td>11.220185</td>\n",
       "      <td>0.997443</td>\n",
       "      <td>COC1=CC(=O)C(=C(C1=O)CCCCCCC/C=C/CCCCCCCC2=C(C(=O)C=C(C2=O)OC)O)O</td>\n",
       "    </tr>\n",
       "    <tr>\n",
       "      <th>1</th>\n",
       "      <td>26671489</td>\n",
       "      <td>1.1</td>\n",
       "      <td>-5.65</td>\n",
       "      <td>2.238721</td>\n",
       "      <td>0.988917</td>\n",
       "      <td>C1=CC2=C(C=C1[O-])OC3=CC(=O)C=CC3=[N+]2[O-].[Na+]</td>\n",
       "    </tr>\n",
       "    <tr>\n",
       "      <th>2</th>\n",
       "      <td>50086104</td>\n",
       "      <td>1.1</td>\n",
       "      <td>-5.50</td>\n",
       "      <td>3.162278</td>\n",
       "      <td>0.855065</td>\n",
       "      <td>CC1=CC=C(O1)C(=O)C2=C(C(=O)N(C2C3=CC(=CC=C3)OCC=C)C4=NC=CS4)O</td>\n",
       "    </tr>\n",
       "    <tr>\n",
       "      <th>3</th>\n",
       "      <td>99356103</td>\n",
       "      <td>1.1</td>\n",
       "      <td>-5.50</td>\n",
       "      <td>3.162278</td>\n",
       "      <td>0.995536</td>\n",
       "      <td>CC1=NC2=C(C=C1)C(=O)C(=C(C2=O)Br)OC</td>\n",
       "    </tr>\n",
       "    <tr>\n",
       "      <th>4</th>\n",
       "      <td>92764075</td>\n",
       "      <td>1.1</td>\n",
       "      <td>-5.50</td>\n",
       "      <td>3.162278</td>\n",
       "      <td>0.992365</td>\n",
       "      <td>COC1=C(C(=O)C2=C(C1=O)C=CC=N2)Br</td>\n",
       "    </tr>\n",
       "  </tbody>\n",
       "</table>\n",
       "</div>"
      ],
      "text/plain": [
       "   PUBCHEM_SID  Curve Class  Log IC50       IC50        R2                                                             SMILES\n",
       "0     46501256          1.1     -4.95  11.220185  0.997443  COC1=CC(=O)C(=C(C1=O)CCCCCCC/C=C/CCCCCCCC2=C(C(=O)C=C(C2=O)OC)O)O\n",
       "1     26671489          1.1     -5.65   2.238721  0.988917                  C1=CC2=C(C=C1[O-])OC3=CC(=O)C=CC3=[N+]2[O-].[Na+]\n",
       "2     50086104          1.1     -5.50   3.162278  0.855065      CC1=CC=C(O1)C(=O)C2=C(C(=O)N(C2C3=CC(=CC=C3)OCC=C)C4=NC=CS4)O\n",
       "3     99356103          1.1     -5.50   3.162278  0.995536                                CC1=NC2=C(C=C1)C(=O)C(=C(C2=O)Br)OC\n",
       "4     92764075          1.1     -5.50   3.162278  0.992365                                   COC1=C(C(=O)C2=C(C1=O)C=CC=N2)Br"
      ]
     },
     "execution_count": 38,
     "metadata": {},
     "output_type": "execute_result"
    }
   ],
   "source": [
    "ncgc_active = ncgc_results[(ncgc_results[\"Curve Class\"] < 3.0)].copy()\n",
    "ncgc_active.head()"
   ]
  },
  {
   "cell_type": "markdown",
   "metadata": {},
   "source": [
    "### Standardize the Dataset"
   ]
  },
  {
   "cell_type": "markdown",
   "metadata": {},
   "source": [
    "Now we need to standardize the dataset, which means:\n",
    "- Standardize SMILES\n",
    "- Remove salts\n",
    "- Remove metals\n",
    "- Remove duplicates\n",
    "\n",
    "And this can be done with the [RDkit](http://www.rdkit.org/) and [MolVS](https://molvs.readthedocs.io/en/latest/) modules.\n",
    "\n",
    "Here, lets work only on the results with curve class <= 2.2. The other compounds (curve class = 4) are inactive, and must have had some interference in the assay."
   ]
  },
  {
   "cell_type": "markdown",
   "metadata": {},
   "source": [
    "#### Functions"
   ]
  },
  {
   "cell_type": "code",
   "execution_count": 39,
   "metadata": {},
   "outputs": [],
   "source": [
    "std = molvs.Standardizer()\n",
    "taut = molvs.tautomer.TautomerCanonicalizer()\n",
    "remover = Chem.SaltRemover.SaltRemover()\n",
    "unchg = molvs.charge.Uncharger()\n",
    "#unmix = molvs.fragment.FragmentRemover(leave_last=True)\n",
    "unmix = molvs.fragment.LargestFragmentChooser(prefer_organic=True)"
   ]
  },
  {
   "cell_type": "code",
   "execution_count": 40,
   "metadata": {},
   "outputs": [],
   "source": [
    "# Determine if the molecule has invalid atoms\n",
    "valid_atoms=['C','N','O','H','S','P','As','Se','F','Cl','Br','I']\n",
    "def only_valid_atoms(mol):\n",
    "    for atom in mol.GetAtoms():\n",
    "        symb = atom.GetSymbol()\n",
    "        if symb not in valid_atoms: return False\n",
    "    return True"
   ]
  },
  {
   "cell_type": "code",
   "execution_count": 41,
   "metadata": {},
   "outputs": [],
   "source": [
    "# Drops DataFrame rows with invalid atoms\n",
    "def drop_invalid_mols(frame):\n",
    "    frame['valid'] = frame['mol'].progress_apply(only_valid_atoms)\n",
    "    return frame[(frame['valid'])].copy().drop(['valid'],axis=1)"
   ]
  },
  {
   "cell_type": "code",
   "execution_count": 42,
   "metadata": {},
   "outputs": [],
   "source": [
    "# Standardize a molecule\n",
    "def standardize_molecule(mol):\n",
    "    \"\"\" \n",
    "    Completely standardizes a molecule to be used in this pipeline. The full process includes:\n",
    "    1. Standardize using MolVS standardizer\n",
    "    2. Remove salts\n",
    "    3. Remove mixture fragments (keep the largest organic fragment)\n",
    "    4. Remove charges (adding / removing Hs)\n",
    "    5. Canonicalize tautomer: Returns just one 'canonical' tautomer.\n",
    "    \n",
    "    INPUT : 'mol': a RDkit ```mol``` object\n",
    "    OUTPUT: a new RDKit ```mol``` object that has been standaridized.\n",
    "    \"\"\"\n",
    "    this_mol = std.standardize(mol)       # Standardize the mol\n",
    "    this_mol = remover.StripMol(this_mol, dontRemoveEverything=True)      # Remove salts\n",
    "    this_mol = unmix.choose(this_mol)          # Remove fragments / mixtures\n",
    "    this_mol = unchg.uncharge(this_mol)        # Remove charges\n",
    "    this_mol = taut.canonicalize(this_mol)     # Canonicalize the tautomers\n",
    "    return this_mol\n",
    "    "
   ]
  },
  {
   "cell_type": "code",
   "execution_count": 47,
   "metadata": {
    "scrolled": false
   },
   "outputs": [],
   "source": [
    "def prepare_data_pipeline(df):\n",
    "    \"\"\" \n",
    "    Receives a Pandas Dataframe containing molecules, and processes the \n",
    "    whole pipeline in the dataframe.\n",
    "    \n",
    "    The DataFrame *must* have a column with the molecular SMILES, and this column\n",
    "    *must* be named \"SMILES\".\n",
    "    \n",
    "    The pipeline consists in:\n",
    "    \n",
    "    1. Standadize the molecules applying `standardize_molecule` to each molecule.\n",
    "        1.1. Standardize format\n",
    "        1.2. Removes salts\n",
    "        1.3. Removes fragments / mixtures\n",
    "        1.4. Removes charges bu adding / removing H\n",
    "        1.5. Canonicalize tautomers\n",
    "    2. Generate InCHi Keys\n",
    "    3. Remove molecules with invalid atoms\n",
    "    4. Remove duplicates based on InChi keys\n",
    "    5. Reset DataFrame index\n",
    "    \n",
    "    Returns:\n",
    "        The new processed DataFrame, with no duplicates, and the extra columns:\n",
    "            - mol\n",
    "            - InChi Key\n",
    "    \"\"\"\n",
    "\n",
    "    assert(isinstance(df, pd.DataFrame)), \"This function must receive a Pandas DataFrame as argument.\"\n",
    "    assert(\"SMILES\" in df.columns), \"The DataFrame must have a SMILES column.\"\n",
    "    \n",
    "    _start = time.time()\n",
    "    # Adds 'mol' column\n",
    "    Chem.PandasTools.AddMoleculeColumnToFrame(df,smilesCol='SMILES',molCol='mol')\n",
    "\n",
    "    # Standardize\n",
    "    tqdm.pandas(desc=\"Standardizing:\")\n",
    "    df['mol'] = df['mol'].progress_apply(standardize_molecule)\n",
    "\n",
    "    # Create InChi Keys\n",
    "    tqdm.pandas(desc=\"Generating InChi Keys:\")\n",
    "    df['InChi Key'] = df['mol'].progress_apply(Chem.MolToInchiKey)\n",
    "\n",
    "    # Remove molecules with invalid atoms\n",
    "    tqdm.pandas(desc=\"Removing molecules with invalid atoms...\")\n",
    "    df = drop_invalid_mols(df)\n",
    "\n",
    "    # Remove duplicates\n",
    "    print(\"Looking for duplicates...\")\n",
    "    n_duplicates = df.shape[0] - len(df['InChi Key'].unique())\n",
    "    if n_duplicates > 1:\n",
    "        print(f\"{n_duplicates} duplicates found. Removing...\")\n",
    "        df.drop_duplicates(subset=['InChi Key'], keep='first', inplace=True)\n",
    "    print(\"Done\")\n",
    "    \n",
    "    # Reset DataFrame Indexes\n",
    "    df.reset_index(drop=True, inplace=True)\n",
    "    \n",
    "    print(f\"Total time: {(time.time() - _start):0.3} seconds\")\n",
    "    # Done!\n",
    "    return df"
   ]
  },
  {
   "cell_type": "markdown",
   "metadata": {},
   "source": [
    "#### Actives"
   ]
  },
  {
   "cell_type": "code",
   "execution_count": 44,
   "metadata": {},
   "outputs": [],
   "source": [
    "ncgc_active = ncgc_results[(ncgc_results[\"Curve Class\"] < 3.0)].copy()"
   ]
  },
  {
   "cell_type": "code",
   "execution_count": 45,
   "metadata": {},
   "outputs": [
    {
     "data": {
      "text/html": [
       "<div>\n",
       "<style scoped>\n",
       "    .dataframe tbody tr th:only-of-type {\n",
       "        vertical-align: middle;\n",
       "    }\n",
       "\n",
       "    .dataframe tbody tr th {\n",
       "        vertical-align: top;\n",
       "    }\n",
       "\n",
       "    .dataframe thead th {\n",
       "        text-align: right;\n",
       "    }\n",
       "</style>\n",
       "<table border=\"1\" class=\"dataframe\">\n",
       "  <thead>\n",
       "    <tr style=\"text-align: right;\">\n",
       "      <th></th>\n",
       "      <th>PUBCHEM_SID</th>\n",
       "      <th>Curve Class</th>\n",
       "      <th>Log IC50</th>\n",
       "      <th>IC50</th>\n",
       "      <th>R2</th>\n",
       "      <th>SMILES</th>\n",
       "    </tr>\n",
       "  </thead>\n",
       "  <tbody>\n",
       "    <tr>\n",
       "      <th>0</th>\n",
       "      <td>46501256</td>\n",
       "      <td>1.1</td>\n",
       "      <td>-4.95</td>\n",
       "      <td>11.220185</td>\n",
       "      <td>0.997443</td>\n",
       "      <td>COC1=CC(=O)C(=C(C1=O)CCCCCCC/C=C/CCCCCCCC2=C(C(=O)C=C(C2=O)OC)O)O</td>\n",
       "    </tr>\n",
       "    <tr>\n",
       "      <th>1</th>\n",
       "      <td>26671489</td>\n",
       "      <td>1.1</td>\n",
       "      <td>-5.65</td>\n",
       "      <td>2.238721</td>\n",
       "      <td>0.988917</td>\n",
       "      <td>C1=CC2=C(C=C1[O-])OC3=CC(=O)C=CC3=[N+]2[O-].[Na+]</td>\n",
       "    </tr>\n",
       "    <tr>\n",
       "      <th>2</th>\n",
       "      <td>50086104</td>\n",
       "      <td>1.1</td>\n",
       "      <td>-5.50</td>\n",
       "      <td>3.162278</td>\n",
       "      <td>0.855065</td>\n",
       "      <td>CC1=CC=C(O1)C(=O)C2=C(C(=O)N(C2C3=CC(=CC=C3)OCC=C)C4=NC=CS4)O</td>\n",
       "    </tr>\n",
       "    <tr>\n",
       "      <th>3</th>\n",
       "      <td>99356103</td>\n",
       "      <td>1.1</td>\n",
       "      <td>-5.50</td>\n",
       "      <td>3.162278</td>\n",
       "      <td>0.995536</td>\n",
       "      <td>CC1=NC2=C(C=C1)C(=O)C(=C(C2=O)Br)OC</td>\n",
       "    </tr>\n",
       "    <tr>\n",
       "      <th>4</th>\n",
       "      <td>92764075</td>\n",
       "      <td>1.1</td>\n",
       "      <td>-5.50</td>\n",
       "      <td>3.162278</td>\n",
       "      <td>0.992365</td>\n",
       "      <td>COC1=C(C(=O)C2=C(C1=O)C=CC=N2)Br</td>\n",
       "    </tr>\n",
       "  </tbody>\n",
       "</table>\n",
       "</div>"
      ],
      "text/plain": [
       "   PUBCHEM_SID  Curve Class  Log IC50       IC50        R2                                                             SMILES\n",
       "0     46501256          1.1     -4.95  11.220185  0.997443  COC1=CC(=O)C(=C(C1=O)CCCCCCC/C=C/CCCCCCCC2=C(C(=O)C=C(C2=O)OC)O)O\n",
       "1     26671489          1.1     -5.65   2.238721  0.988917                  C1=CC2=C(C=C1[O-])OC3=CC(=O)C=CC3=[N+]2[O-].[Na+]\n",
       "2     50086104          1.1     -5.50   3.162278  0.855065      CC1=CC=C(O1)C(=O)C2=C(C(=O)N(C2C3=CC(=CC=C3)OCC=C)C4=NC=CS4)O\n",
       "3     99356103          1.1     -5.50   3.162278  0.995536                                CC1=NC2=C(C=C1)C(=O)C(=C(C2=O)Br)OC\n",
       "4     92764075          1.1     -5.50   3.162278  0.992365                                   COC1=C(C(=O)C2=C(C1=O)C=CC=N2)Br"
      ]
     },
     "execution_count": 45,
     "metadata": {},
     "output_type": "execute_result"
    }
   ],
   "source": [
    "ncgc_active.head()"
   ]
  },
  {
   "cell_type": "code",
   "execution_count": 48,
   "metadata": {},
   "outputs": [
    {
     "data": {
      "application/vnd.jupyter.widget-view+json": {
       "model_id": "2699792c294b488688d2a08239883af9",
       "version_major": 2,
       "version_minor": 0
      },
      "text/plain": [
       "HBox(children=(IntProgress(value=0, description='Standardizing:', max=832, style=ProgressStyle(description_wid…"
      ]
     },
     "metadata": {},
     "output_type": "display_data"
    },
    {
     "name": "stdout",
     "output_type": "stream",
     "text": [
      "\n"
     ]
    },
    {
     "data": {
      "application/vnd.jupyter.widget-view+json": {
       "model_id": "527b859e3fd3499aab88827a80e53655",
       "version_major": 2,
       "version_minor": 0
      },
      "text/plain": [
       "HBox(children=(IntProgress(value=0, description='Generating InChi Keys:', max=832, style=ProgressStyle(descrip…"
      ]
     },
     "metadata": {},
     "output_type": "display_data"
    },
    {
     "name": "stdout",
     "output_type": "stream",
     "text": [
      "\n"
     ]
    },
    {
     "data": {
      "application/vnd.jupyter.widget-view+json": {
       "model_id": "e1f3d2d0b7134413ad95c3837ab6a302",
       "version_major": 2,
       "version_minor": 0
      },
      "text/plain": [
       "HBox(children=(IntProgress(value=0, description='Removing molecules with invalid atoms...', max=832, style=Pro…"
      ]
     },
     "metadata": {},
     "output_type": "display_data"
    },
    {
     "name": "stdout",
     "output_type": "stream",
     "text": [
      "\n",
      "Looking for duplicates...\n",
      "3 duplicates found. Removing...\n",
      "Done\n",
      "Total time: 82.2 seconds\n"
     ]
    }
   ],
   "source": [
    "ncgc_active = prepare_data_pipeline(ncgc_active)"
   ]
  },
  {
   "cell_type": "code",
   "execution_count": 49,
   "metadata": {},
   "outputs": [
    {
     "data": {
      "text/html": [
       "<table border=\"1\" class=\"dataframe\">\n",
       "  <thead>\n",
       "    <tr style=\"text-align: right;\">\n",
       "      <th></th>\n",
       "      <th>PUBCHEM_SID</th>\n",
       "      <th>Curve Class</th>\n",
       "      <th>Log IC50</th>\n",
       "      <th>IC50</th>\n",
       "      <th>R2</th>\n",
       "    </tr>\n",
       "  </thead>\n",
       "  <tbody>\n",
       "    <tr>\n",
       "      <th>count</th>\n",
       "      <td>8.290000e+02</td>\n",
       "      <td>829.000000</td>\n",
       "      <td>829.000000</td>\n",
       "      <td>829.000000</td>\n",
       "      <td>829.000000</td>\n",
       "    </tr>\n",
       "    <tr>\n",
       "      <th>mean</th>\n",
       "      <td>4.170085e+07</td>\n",
       "      <td>1.477443</td>\n",
       "      <td>-4.624427</td>\n",
       "      <td>27.828946</td>\n",
       "      <td>0.974062</td>\n",
       "    </tr>\n",
       "    <tr>\n",
       "      <th>std</th>\n",
       "      <td>2.642937e+07</td>\n",
       "      <td>0.475725</td>\n",
       "      <td>0.278188</td>\n",
       "      <td>12.781898</td>\n",
       "      <td>0.026871</td>\n",
       "    </tr>\n",
       "    <tr>\n",
       "      <th>min</th>\n",
       "      <td>8.448520e+05</td>\n",
       "      <td>1.100000</td>\n",
       "      <td>-5.650000</td>\n",
       "      <td>2.238721</td>\n",
       "      <td>0.814713</td>\n",
       "    </tr>\n",
       "    <tr>\n",
       "      <th>25%</th>\n",
       "      <td>2.478228e+07</td>\n",
       "      <td>1.100000</td>\n",
       "      <td>-4.800000</td>\n",
       "      <td>15.848932</td>\n",
       "      <td>0.966273</td>\n",
       "    </tr>\n",
       "    <tr>\n",
       "      <th>50%</th>\n",
       "      <td>2.672420e+07</td>\n",
       "      <td>1.200000</td>\n",
       "      <td>-4.550000</td>\n",
       "      <td>28.183829</td>\n",
       "      <td>0.982946</td>\n",
       "    </tr>\n",
       "    <tr>\n",
       "      <th>75%</th>\n",
       "      <td>4.972512e+07</td>\n",
       "      <td>2.100000</td>\n",
       "      <td>-4.400000</td>\n",
       "      <td>39.810717</td>\n",
       "      <td>0.991663</td>\n",
       "    </tr>\n",
       "    <tr>\n",
       "      <th>max</th>\n",
       "      <td>1.031636e+08</td>\n",
       "      <td>2.200000</td>\n",
       "      <td>-4.100000</td>\n",
       "      <td>79.432823</td>\n",
       "      <td>0.999892</td>\n",
       "    </tr>\n",
       "  </tbody>\n",
       "</table>"
      ],
      "text/plain": [
       "        PUBCHEM_SID  Curve Class    Log IC50        IC50          R2\n",
       "count  8.290000e+02   829.000000  829.000000  829.000000  829.000000\n",
       "mean   4.170085e+07     1.477443   -4.624427   27.828946    0.974062\n",
       "std    2.642937e+07     0.475725    0.278188   12.781898    0.026871\n",
       "min    8.448520e+05     1.100000   -5.650000    2.238721    0.814713\n",
       "25%    2.478228e+07     1.100000   -4.800000   15.848932    0.966273\n",
       "50%    2.672420e+07     1.200000   -4.550000   28.183829    0.982946\n",
       "75%    4.972512e+07     2.100000   -4.400000   39.810717    0.991663\n",
       "max    1.031636e+08     2.200000   -4.100000   79.432823    0.999892"
      ]
     },
     "execution_count": 49,
     "metadata": {},
     "output_type": "execute_result"
    }
   ],
   "source": [
    "ncgc_active.describe()"
   ]
  },
  {
   "cell_type": "code",
   "execution_count": 53,
   "metadata": {},
   "outputs": [
    {
     "data": {
      "text/html": [
       "<table border=\"1\" class=\"dataframe\">\n",
       "  <thead>\n",
       "    <tr style=\"text-align: right;\">\n",
       "      <th></th>\n",
       "      <th>PUBCHEM_SID</th>\n",
       "      <th>Curve Class</th>\n",
       "      <th>Log IC50</th>\n",
       "      <th>IC50</th>\n",
       "      <th>R2</th>\n",
       "      <th>SMILES</th>\n",
       "      <th>mol</th>\n",
       "      <th>InChi Key</th>\n",
       "    </tr>\n",
       "  </thead>\n",
       "  <tbody>\n",
       "    <tr>\n",
       "      <th>0</th>\n",
       "      <td>46501256</td>\n",
       "      <td>1.1</td>\n",
       "      <td>-4.95</td>\n",
       "      <td>11.220185</td>\n",
       "      <td>0.997443</td>\n",
       "      <td>COC1=CC(=O)C(=C(C1=O)CCCCCCC/C=C/CCCCCCCC2=C(C(=O)C=C(C2=O)OC)O)O</td>\n",
       "      <td><img src=\"data:image/png;base64,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\" alt=\"Mol\"/></td>\n",
       "      <td>DWNCLZCMVGETDL-IIPDRVBESA-N</td>\n",
       "    </tr>\n",
       "    <tr>\n",
       "      <th>1</th>\n",
       "      <td>26671489</td>\n",
       "      <td>1.1</td>\n",
       "      <td>-5.65</td>\n",
       "      <td>2.238721</td>\n",
       "      <td>0.988917</td>\n",
       "      <td>C1=CC2=C(C=C1[O-])OC3=CC(=O)C=CC3=[N+]2[O-].[Na+]</td>\n",
       "      <td><img src=\"data:image/png;base64,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\" alt=\"Mol\"/></td>\n",
       "      <td>PLXBWHJQWKZRKG-UHFFFAOYSA-N</td>\n",
       "    </tr>\n",
       "    <tr>\n",
       "      <th>2</th>\n",
       "      <td>50086104</td>\n",
       "      <td>1.1</td>\n",
       "      <td>-5.50</td>\n",
       "      <td>3.162278</td>\n",
       "      <td>0.855065</td>\n",
       "      <td>CC1=CC=C(O1)C(=O)C2=C(C(=O)N(C2C3=CC(=CC=C3)OCC=C)C4=NC=CS4)O</td>\n",
       "      <td><img src=\"data:image/png;base64,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\" alt=\"Mol\"/></td>\n",
       "      <td>FZZCCCMFGOTQEO-UHFFFAOYSA-N</td>\n",
       "    </tr>\n",
       "    <tr>\n",
       "      <th>3</th>\n",
       "      <td>99356103</td>\n",
       "      <td>1.1</td>\n",
       "      <td>-5.50</td>\n",
       "      <td>3.162278</td>\n",
       "      <td>0.995536</td>\n",
       "      <td>CC1=NC2=C(C=C1)C(=O)C(=C(C2=O)Br)OC</td>\n",
       "      <td><img src=\"data:image/png;base64,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\" alt=\"Mol\"/></td>\n",
       "      <td>XEGBXQGPUKNRNM-UHFFFAOYSA-N</td>\n",
       "    </tr>\n",
       "    <tr>\n",
       "      <th>4</th>\n",
       "      <td>92764075</td>\n",
       "      <td>1.1</td>\n",
       "      <td>-5.50</td>\n",
       "      <td>3.162278</td>\n",
       "      <td>0.992365</td>\n",
       "      <td>COC1=C(C(=O)C2=C(C1=O)C=CC=N2)Br</td>\n",
       "      <td><img src=\"data:image/png;base64,iVBORw0KGgoAAAANSUhEUgAAAMgAAADICAIAAAAiOjnJAAAABmJLR0QA/wD/AP+gvaeTAAAU+0lEQVR4nO2df3BT1bbHV9KmpbWFtvyoxUqVthaBQREKtIXKr6dQch/FMdd5eOPVeWNwnKGPcUbjMI7hqZcb39zRdN5DrHPfnekDh3llRC2YIg6iliJgK/XRyq8ChfKjP+iPFNJCSrLeHzvGNDk9Pac5J+ckrM/kj2b3nN3V5HvW2mfvfdbSICIQhNRolTaAiE5IWIQskLAIWSBhEbJAwiJkgYRFyAIJi5AFEhYhCyQsQhZIWIQskLAIWSBhEbJAwiJkgYRFyAIJi5AFEhYhCyQsQhZIWIQskLAIWSBhEbJAwiJkgYRFyAIJi5AFEhYhCyQsQhZIWIQskLDEU14OGo33VVOjtDUqhYQlkvJyqKoCRO+rpATKy5W2SY1oKCmIODQa8P/EWlogNxfoMwyCPJYYamqgsHBYS04OFBZSQAyGhCWS2bNHbyFIWBLQ1KS0BWqExlgioTGWMMhjicRmA43m97e5uWCzKWeNeiGPJZ6aGigp8f5st8Pq1Ypao1JilTYgopg3D5xO+O67YbHv73+H5GR49lmIiVHOMtVBHksMSUngdMLNm5CU5G0ZGoL4eIiJAZdrWIi856ExlmBcLnA6IS7ud1UBQE8PIEJaGqkqABKWYLq7AQAmThzW2NPD0UiQsETAhJWWNnojQcISAadzYo0krCBIWILh8VgUCoMgYQmGPJYYSFiC4fRYJKwRIGEJhlNDdFc4AiQswXBqiO4KR4CEJRieUEgeKwgSlmDIY4mBhCUY8lhioN0NQmmZNm3CuHEpaWk6/1byWCNAuxuEkpiYODg4ODAwkJCQwFpcLtcf8vKmp6RsP3FCWdtUCIVCQQwMDAwODiYkJPhUBQA3btw40Nr6ZUeHgoapFhKWIHp6egBg4vCxFGtMozjIBQlLEN3d3RCkIdY4kUbuXJCwBEEeSywkLEGQxxILCUsQnBridGMEI9zzWD3XW//TNCz9wfNbdubMWx5mM8TCGfUoFPKgzASpZe819gPT2cZPjqRlPKSIJQLh1BBnfCQYCs+8p2U89OCj8wGg53rrFx+WAUDbqXqf7NQDhUKxKDzG6rneCgDMXbWdqi9+bpMKVQUjaIg8Fg/KeKx//8NU38/MYzFUO9iiu0KxKDzGAoB/vPHPLQ3fpk2droglAqF5LLEoP90wJWuG/1v0uP/v0GeIHqXs4cTnsc6ePdvZ2Xnt2jUgYfGivLAa9u/0d1dH9nz8+Qcb//HG2u6rFxS0KoD9+/dXVFS8/vrrs2bNMhgMM2fO3L59+4oVK4qLi/2XpQkfyo+xnt+yMy3jITaKB4ApWXlJaelXTjd8sunpf3rprXmrX9AonRahoaHhvffe+/LLLxExPj7++vXrDofj1VdfXbdu3e7du5W1jQeWE84/z1JYs8Sh+hi85dj7X69v0Wds0Wf8z1t/7Ou8opQldXV1er2eKTs+Pt5kMrW1tSFiVVUVi4Cpqak7duxQyjx+zp1DAPT/hllLeFCjsBjNh/f+x/Ozt+gz/vrHR+prwv3l1dbW6vV6du0lJSWVlZVdvXrV/4Br1675DjAYDDdu3AizhaPCZGS3o8k0rCU8qFdYiHirr+t/t/4rc107Lev7b1wPwx/95ptvCgoKmGKSk5PNZnN3dzfnkR6Pp6KiIikpCQDS09O/+OKLMJgnHJ+MTCa024e1hAFVC4vRXFv9/r/M3KLPsD6XJ5/r8ng81dXV+fn5TFKTJk2yWCy9vb2jnnjx4sWlS5f6XFdPT49MForFX0aFhYEtchMBwkLEmz0du979M3NdVVaT08HtQsaG2+2urq5+4oknmDimTJlisVgcDofwHpjruu+++wAgIyNj3759Eponlu5utFhw69ZhMrLZ0GYjYXHh8Xjqa3ZsNeRu0Wf825/XShJ3XC5XZWVlXl4ek9S0adNsNtvAwMDYemtpaVm8eDEAaDQak8l08+bN0C0URUcHms2YnIwAmJyMJ04Mk1FhIdrtCIBdXbh8Of70k7zGRIywGL0dl//7LxuZDl544QUhoYqTO3fuVFZW5uTksK4efvhhm812+/btEM0bGhqyWq3x8fGsz0OHDoXYoUDa29FsxsRE721gUREePBjon3w3iZs2IQDqdLhlC7pccpkUYcLC4UPm+++/v7q6WtTpt27dstlsDzzwAJPUrFmzKisrh4aGJLTw5MmTLLAy1+V0OiXsPIDWViwrw4QEBECNBvV6PHbM+6vgwGezIQAODqLZjFotAuCcOXjihCyGRZ6wGOfPny8uLmbiMBqN/f39o55y8+ZNm82WkZHBzpozZ05lZeXdu3flMI+5Lp1OBwCPPvro8ePHJf8T58+jyYQ6HQKgVot6PdbXizi9rg5zc72uy2JByT+GSBUWIrrdbpvNxuJOVlbWwYMHRzrS4XBYrVbfot7cuXOrqqo8Ho/cFjY2Nj722GMAEBsbazabQw+1jKYmNBoxNtYrKYMBT50aSz9OJ5aVoUaDALhwIZ4+LYl1XiJYWIzm5ub58+f74s6tW7f8f9vZ2WmxWCZMmMAkVVRUJDZ0hsjg4KDZbI6JiQGA2bNnNzQ0hNJbfX39+vUuJoX4eNywAS9cCNXCAwfwwQcRABMS0GpFtzvUDhkRLyz8Le7ExcUBwPTp07///ntEbG9vN5vNiYmJPknxuDS5OXLkyCOPPAIAOp3ObDa7xI+ZfYtLS5fWxcejyYRtbZKZ19eHJtPvA/9z5yToMxqExWhoaJg9ezYAxMTE5OfnsxCp0WhKS0vrRY0+5GFgYMBsNmu1WgBYsGDBKcHR6+DBg8uWLfOtBLz99oft7bJYaLfj1KkIgImJaLNhiCOF6BEWIrpcLovFotVqMzMztVqtXq8PMfRITm1tbXZ2NgCMGzfOarXy3zoIX1wSxalT+M47yHkf3NWFBgMCYEwMvvji365cGfvyf1QJi8FmKT/55BOlDeHG4XCYTCa2Y6KgoODs2bMBB4x5cUkIHg8uWoQAOH8+NjVxH7NrF5aU1Ia4dyMKhbVw4UIA+PHHH5U2hI+amho2l5aQkGC1Wt1uN0qxuCSEw4cxJwcBcNw4tFq5Jxra29tLS0uZGSUlJQE7O4QQhcLKzc0FgGBPoDZ6e3tNJhP78lasWPHBBx9Itbg0Kv4TDYsWjTjREMq2sygUFvssVLhBipPdu3dPnjyZ3TBKuLgkhK+/xszMUSYaAraddXV1Cew82oTldru1Wq1Wq5VpSl0O2tvb2c6I7du3h9nsnh7805+8Ew3Ll2NrK8et4Ni2nUWbsHyP0/g3trW1FRUVvfzyy0pZxY/H44mNjQWAMcxvScJXX+HUqRgfj48/bqyoqOBck7h48aJv1kPItrNoE9bZs2cBICcnx7/x+PHjADB//nylrOKnr68PAMaPH6+gDZ2duGnTt/yjdVHbzqJNWEePHgWAhQsX+jfW1NQAwNNPP62UVfxcuHCBja6UNgSrqqrYQ7kTJkyoqKjgPObUqVMLFixgk8+1tbUjdaX8c4XSwvksvHqeLO3p6fnwww/37Nnj36ieHBAGg6G5uXnt2rUOh2PDhg1r1qxhj+b6M2PGjLq6us2bN48fP3779u0jdRVtwuLJ3qGGJAstLS2vvfaa1Wr1b1RV1ho2PK+qqkpNTbXb7Y8//vhnn30WcExsbKzBYHA4HM3NzSP1E23CUrnH4pS4ejyWD4PB0NjYuHLlyq6urmeffXbDhg0BB4x6MUSbsFSeeo/HPJV4LB/Tpk07cOAAm2jwLQb4GPViiLaSJyoPhZHisRhsi9vq1aszMzMDfjXqxRBtwlJ5KFS5Q+XkwQcfDG4c9WKIzlCoWo8VQaGQn1EvhmgTlso9VmSFQh7u0cE7eSy5uedCYfA/7PF4HA6HVqtNSUlRzi4v5LEikrt37/b398fGxvoeywGA3t5ej8eTkpLC9psrC3msiITt301NTfVPAqieOAhcxng8nr6+PpU4VOHcWx5L5SN3t9vd398fExPj71D7+vrcbveECRPYs4eRQm9vLwCkpqaOdEBUCUvlI3fOoByJcbC/v9/lciUnJ7NnOTmJKmGp3GPdOyN3iDJhqdxj3Tsjd4gyYZHHCg/3qMdSrbDIY0UqKg+FPLXp1KB74dxzHkvloTBqqmmG6rEwTMUxJEPlHitqQqGQa3XE/ViIuHbt2pkzZ7777rvsIV31w3klbd68+dKlS9OnK1+27p4avI8orLq6un379u3du/fQoUOVlZUzZswY6Uj1wPkPP/PMMwqZE0jUeKyQQuHixYt/+OGH7Ozs48ePz5079/3333e73dLbKCkqv/rvKY/FN8ZavHjxzz//bDKZ7ty58+abby5ZsoQ9Z6xOhoaGbt26pdPpWJYBFTJv3ryioqL09HT/xmj1WIKehN6/f39wMidVcffu3W3btgFAUlJSu0ypFGVgaGhIo9HExMSo8CPlgV0G/JlnhD5i75/MaeXKlZcuXZLCQgnwL1vCUmtMnjx59+7dStsliM7OTgCYNGmS0oaIwO12x8TEaDQa/qoL4nI37Nu3jyXgHz9+/EjP9oeN4LIl77zzTklJCXsrKpmTUpw+fRoA8vLylDZEBCx2p6Sk8B8mOilIR0eH7z5r1apVoeQ/HTM8ZUtYRpTk5GQASE9P//zzz8NvnnDq6uoAoKCgQGlDRHDu3DkAyM7O5j9sjNlmduzYwTZ51ZaU4K5dY+tkDAgsWyI2mZNSfPzxxwBQXFystCHccObrOnbsGADk5+fznzv2NEZXrlz524svYkwMAqDBgDLHnYCyJYWFhdXV1TxlS1RVQzCYkydPGo3G2NjYzMxMjUZTVlYWnvSQAmGVi1955ZXgX9ntdhas+HsIOT9WZaW3Qt6UKbhnT6i9cdLe/te332bRDQCWLVsmvMZES0vLkiVLQLkagsHU19eXlpb6Cpjn5+dLVRBFEr766qvCwkL2Uaenpwcn2N25cycArF+/nr8fKRKvtbbi8uXeRJYGA0qR5N7Lb3X4/rJ0KYy1bIlSNQSD8ZUtYZIymUxtbW2IePToUbawwWo53blzJ/y2seTyLKMa8CaXLy8vB4CNGzfydyhRRj+PBysqMCkJAfD++zH0QkgXLuCGDRgfz+rwOdavD7FsSVNTk38NwYBaTnLDIgv7zpKSksrKygJyMfoXRJkzZ84JmYoIciE2ufxbb70FABaLhb9bSVNFnj+PxcVe12U0ooAagtydBNThkyhA+Ndyys7O5klzKCGiypbU1dWxJPU6nc5iscidQZlNAfpWgUdNLs9uxlNTU+fMmfPpp5/ydy51DlK3G202r6fJysJvvxVx7smTaDR67wZ0OjQax1iHj5dffvlFjhqCAYy5bInT6SwrK2PhctGiRaelLSL4G2IrFzscjq1bt7J89ADw0ksvjfon5Elu29yM8+d7q8maTDhq3GlsRKPRW002Lg6NRpSzroS0NQQDkKRsyddff82SB0m+hnb79u2KigpfvquZM2fyVy4ecw1R2bImu1y4ZYs3om3aNOJhhw+jXo++0o7S1uHjJfQaggH4Ly4JiSz89PX1+dbQioqKzoVcRFBs5eIQa4jKnI67oQFXrPBOcbFS1+xltyMiOhzeqYrkZDSbsaNDXmOCCKgh+Ouvv46tH7GRRTh2u33q1KkAkJiYaLPZxlZuWKzXkaSGaLjyvNtsWFjo92cBbTZExK1b0WKRcoZCPKJqCAbAs7gkFb29vUajkfX/1FNPXb58Wfi5XV1dFovFlxViVK/T2tpaVlY2btw4dvus1+uPHTs2NrPDJayA/TnnzgW2KEpADcEzZ86MeorYyBIiVVVVkyZNAt7U/gEcOHDA53VWrVrFfxd8/vx5k8nE9qBLUkM0LN+u3T7MXTEKC70BUTXs37+fjWr5h8wBkaWgoIB/cUkqxNYQdDgcaWlper3+6NGjPIexxSV2K6PT6YxGo/CywjyES1gmU2CjyaQ2YeFo285CHM9KgqgagvylfhsbG41GIxtixsXFGY1GCYs8Kics9XksH8HbziQZz0rFmGsI+jh8+DDn4pKE0BiLm46OjnXr1rEvLzc3ly01ajSa0tLSEBeXJCGghqDwbWfBi0vXrl2Tw8Iw3hX6K8l3V6hWiouL16xZs2vXrokTJz755JNarXbNmjXbtm0L5yreqARsO+MPfKIWl0InjG7Dbg+cx1IrTqeTDeER8erVqx0dHWfOnLl69SoAZGRkKG3dMEbddjbmxaUQUXU8UorLly8DQGZmpn/jyZMn2RKQUlbxwLntjC0uzZ0717e4ZLVanU5neEwiYXHQ2NjIpqb8G7/77jtQ8TZi/21nWVlZb7zxhm8lICsr66OPPgrzDlUSFgcHDx4EgGXLlvk3suqV69atU8oqITQ1Nc2bNw9+e5pUwsUlsURbkSZJ4Mlao/Jn4WfNmnXkyJGKioqMjAyXy/Xcc88plYyZhMUBp4bUkw6Jn7i4uI0bNyptRXQlXpMKTo+lngRuEQEJiwOV5zKNCEhYHER0KFQJJCwOeLLQkrAEQsLiIGqy0CoICYsD8lihQ8LigAbvoUPzWBysy8i4kJDgryGn03n79u3ExES2H5wYFRJWEP392xsbITkZ/GqmxfX2dubnO6ZMUdCuyIJCYRA9PQAAw8dSuhs3Jv/0U86VK8qYFIGQsILo7gYACBhLcamN4IGEFQSnhjjVRowMCSsI8lhSQMIKgjyWFJCwguDxWCQswZCwguDUEIVCkZCwguAUFoVCkZCwgmAaCnBO5LFEQsIKgjyWFJCwguB0TuSxRELCCoLTOfX2AgCkpipgT2RCwhoOIvT1gUYzTEP9/eByBSxLE/zQ7obheDywcyfcvAmxfp/MwADk5cF99ylnVuShQUSlbSCiEAqFI1BeDhqN91VTo7Q1kQcJi4vycqiqAkTvq6QEysuVtinCoFDIhUYD/h9LSwvk5gJ9UGIgjxVETQ38VrDPS04OFBZSQBQFCYuL2bNHbyF4IWEJo6lJaQsiDBpjcUFjrJAhj8WFzQYaze9vc3PBZlPOmoiEPNYI1NRASYn3Z7sdVq9W1JrIg4RFyAKFQkIWSFiELJCwCFkgYRGyQMIiZIGERcgCCYuQBRIWIQskLEIWSFiELJCwCFkgYRGyQMIiZIGERcgCCYuQBRIWIQskLEIWSFiELJCwCFkgYRGyQMIiZIGERcgCCYuQBRIWIQskLEIW/h+0YnIUnT2pPwAAAABJRU5ErkJggg==\" alt=\"Mol\"/></td>\n",
       "      <td>VFJSDBUJXJBRRA-UHFFFAOYSA-N</td>\n",
       "    </tr>\n",
       "  </tbody>\n",
       "</table>"
      ],
      "text/plain": [
       "   PUBCHEM_SID  Curve Class  Log IC50       IC50        R2                                                             SMILES                                                                                                                                                                                                                                                                                                                                                                                                                                                                                                                                                                                                                                                                                                                                                                                                                                                                                                                                                                                                                                                                                                                                                                                                                                                                                                                                                                                                                                                                                                                                                                                                                                                                                                                                                                                                                                                                                                                                                                                                                                                                                                                                                                                                                                                                                                                                                                                                                                                                                                                                                                                                                                                                                                                                                                                                                                                                                                                                                                                                                                                                                                                                                                                                                                                                                                                                                                                                                                                                                                                                                                                                                                                                                                                                                                                                                                                                                                                                                                                                                                                                                                                                                                                                                                                                                                                                                                                                                                                                                                                                                                                                                                                                                                                                                                                                                                                                                                                                                                                                                                                                                                                                                                                                                                                                                                                                                                                                                                                                                                                                                                                                                                                                                                                                                                                                                                                                                                                                                                                                                                                                                                                                                                                                                                                                                                                                                                                                                                                                                                                                                                                                                                                                                                                                                                                                                                                                                                                                                                                                                                                                                                                                                                                                                                                                                                                                                                                                                                                                                                                                                                                                                                                                                                                                                                                                                                                                                                                                                                                                                                                                                                                                                                                                                                                                                                                                                                                                                                                                                                                                                                                                                                                                                                                                                                                                                                                                                                                                                                                                                                                                                                                                                                                                                                                                                                                                                                                                                                                                                                                                                                                                                                                                                                                                                                                                                                                                                                                                                                                                                                                                                                                                                                                                                                                                                                                                                                                                                                                                                                                                                                                                                                                                                                                                                                                                                                                                                                                                                                                                                                                                                                                                                                                                                                                                                                                                                                                                                                                                                                                                                                                                                                                                                                                                                                                                                                                                                                                                                                                                                                                                                                                                                                                                                                                                                                                                                                                                                                                                                                                                                                                                                                                                                                                                                mol                    InChi Key\n",
       "0     46501256          1.1     -4.95  11.220185  0.997443  COC1=CC(=O)C(=C(C1=O)CCCCCCC/C=C/CCCCCCCC2=C(C(=O)C=C(C2=O)OC)O)O                                                                                                                                                                                                                                                                                                                                                                                                                                                                                                                                                                                                                                                                                                                                                                                                                                                                                                                                                                                                                                                                                                                                                                                                                                                                                                                                                                                                                                                                                                                                                                                                                                                                                                                                                                                                                                                                                                                                                                                                                                                                                                                                                                                                                                                                                                                                                                                                                                                                                                                                                                                                                                                                                                                                                                                                                                                                                                                                                                                                                                                                                                                                                                                                                                                                                                                                                                                                                                                                                                                                                                                                                                                                                                                                                                                                                                                                                                                                                                                                                                                                                                                                                                                                                                                                                                                                                                                                                                                                                                                                                                                                                                                                                                                                                                                                                                                                                                                                                                                                                                                                                                                                                                                                                                                                                                                                                                                                                                                                                                                                                                                                                                                                                                                                                                                                                                                                                                                                                                                                                                                                                                                                                                                                                                                                                                                                                                                                                                                                                                                                                                                                                                                                                                                                                                                                                                                                                                                                                                                                                                                                                                                                                                                                                                                                                                                                                                                                                                                                                                                                                                              <img src=\"data:image/png;base64,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\" alt=\"Mol\"/>  DWNCLZCMVGETDL-IIPDRVBESA-N\n",
       "1     26671489          1.1     -5.65   2.238721  0.988917                  C1=CC2=C(C=C1[O-])OC3=CC(=O)C=CC3=[N+]2[O-].[Na+]                                                                                                                                                                                                                                                                                                                                                                                                                                                                                                                                                                                                                                                                                                                                                                                                                                                                                                                                                                                                                                                                                                                                                                                                                                                                                                                                                                                                                                                                                                                                                                                                                                                                                                                                                                                                                                                                                                                                                                                                                                                                                                                                                                                                                                                                                                                                                                                                                                                                                                                                                                                                                                                                                                                                                                                                                                                                                                                                                                                                                                                                                                                                                                                                                                                                                                                                                                                                                                                                                                                                                                                                                                                                                                                                                                                                                                                                                                                                                                                                                                                                                                                                                                                                                                                                                                                                                                                                                                                                                                                                                                                                                                                                                                                                                                                                                                                                                                                                                                                                                                                                                                                                                                                                                                                                                                                                                                                                                                                                                                                                                                                                                                                                                                                                                                                                                                                                                                                                                                                                                                                                                                                                                                                                                                                                                                                                                                                                                                                                                                                                                                                                                                                                                                                                                                                                                                                                  <img src=\"data:image/png;base64,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\" alt=\"Mol\"/>  PLXBWHJQWKZRKG-UHFFFAOYSA-N\n",
       "2     50086104          1.1     -5.50   3.162278  0.855065      CC1=CC=C(O1)C(=O)C2=C(C(=O)N(C2C3=CC(=CC=C3)OCC=C)C4=NC=CS4)O  <img src=\"data:image/png;base64,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\" alt=\"Mol\"/>  FZZCCCMFGOTQEO-UHFFFAOYSA-N\n",
       "3     99356103          1.1     -5.50   3.162278  0.995536                                CC1=NC2=C(C=C1)C(=O)C(=C(C2=O)Br)OC                                                                                                                                                                                                                                                                                                                                                                                                                                                                                                                                                                                                                                                                                                                                                                                                                                                                                                                                                                                                                                                                                                                                                                                                                                                                                                                                                                                                                                                                                                                                                                                                                                                                                                                                                                                                                                                                                                                                                                                                                                                                                                                                                                                                                                                                                                                                                                                                                                                                                                                                                                                                                                                                                                                                                                                                                                                                                                                                                                                                                                                                                                                                                                                                                                                                                                                                                                                                                                                                                                                                                                                                                                                                                                                                                                                                                                                                                                                                                                                                                                                                                                                                                                                                                                                                                                                                                                                                                                                                                                                              <img src=\"data:image/png;base64,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\" alt=\"Mol\"/>  XEGBXQGPUKNRNM-UHFFFAOYSA-N\n",
       "4     92764075          1.1     -5.50   3.162278  0.992365                                   COC1=C(C(=O)C2=C(C1=O)C=CC=N2)Br                                                                                                                                                                                                                                                                                                                                                                                                                                                                                                                                                                                                                                                                                                                                                                                                                                                                                                                                                                                                                                                                                                                                                                                                                                                                                                                                                                                                                                                                                                                                                                                                                                                                                                                                                                                                                                                                                                                                                                                                                                                                                                                                                                                                                                                                                                                                                                                                                                                                                                                                                                                                                                                                                                                                                                                                                                                                                                                                                                                                                                                                                                                                                                                                                                                                                                                                                                                                                                                                                                                                                                                                                                                                                                                                                                                                                                                                                                                                                                                                                                                                                                                                                                                                                                                                                                                                                                                                                                                                                                                                                                                                                                                                                                                                                                                                                                                                                                                                                                                                                                                                                                                                      <img src=\"data:image/png;base64,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\" alt=\"Mol\"/>  VFJSDBUJXJBRRA-UHFFFAOYSA-N"
      ]
     },
     "execution_count": 53,
     "metadata": {},
     "output_type": "execute_result"
    }
   ],
   "source": [
    "ncgc_active.head()"
   ]
  },
  {
   "cell_type": "code",
   "execution_count": 83,
   "metadata": {},
   "outputs": [],
   "source": [
    "# Save the data\n",
    "ncgc_active.to_pickle(\"./data/active_df.pkl.bz2\")"
   ]
  },
  {
   "cell_type": "markdown",
   "metadata": {},
   "source": [
    "#### Inactives\n",
    "There are two sources of inactive compounds:\n",
    "1. Compounds that did not show any activity in the primary screening\n",
    "1. Compounds that showed curve class == 4 in the ncgc analysis\n",
    "\n",
    "Here we start with the ```ncgc_inactive``` , and complement the set for 50.000 inactives"
   ]
  },
  {
   "cell_type": "code",
   "execution_count": 55,
   "metadata": {},
   "outputs": [],
   "source": [
    "ncgc_inactive = ncgc_results[(ncgc_results[\"Curve Class\"] >= 3.0)].copy()"
   ]
  },
  {
   "cell_type": "code",
   "execution_count": 63,
   "metadata": {},
   "outputs": [],
   "source": [
    "ncgc_inactive.drop(['Log IC50','IC50','R2'],axis=1, inplace=True)"
   ]
  },
  {
   "cell_type": "code",
   "execution_count": 64,
   "metadata": {},
   "outputs": [
    {
     "data": {
      "text/html": [
       "<table border=\"1\" class=\"dataframe\">\n",
       "  <thead>\n",
       "    <tr style=\"text-align: right;\">\n",
       "      <th></th>\n",
       "      <th>PUBCHEM_SID</th>\n",
       "      <th>Curve Class</th>\n",
       "    </tr>\n",
       "  </thead>\n",
       "  <tbody>\n",
       "    <tr>\n",
       "      <th>count</th>\n",
       "      <td>9.180000e+02</td>\n",
       "      <td>918.0</td>\n",
       "    </tr>\n",
       "    <tr>\n",
       "      <th>mean</th>\n",
       "      <td>3.048988e+07</td>\n",
       "      <td>4.0</td>\n",
       "    </tr>\n",
       "    <tr>\n",
       "      <th>std</th>\n",
       "      <td>2.233077e+07</td>\n",
       "      <td>0.0</td>\n",
       "    </tr>\n",
       "    <tr>\n",
       "      <th>min</th>\n",
       "      <td>8.429790e+05</td>\n",
       "      <td>4.0</td>\n",
       "    </tr>\n",
       "    <tr>\n",
       "      <th>25%</th>\n",
       "      <td>1.738711e+07</td>\n",
       "      <td>4.0</td>\n",
       "    </tr>\n",
       "    <tr>\n",
       "      <th>50%</th>\n",
       "      <td>2.480780e+07</td>\n",
       "      <td>4.0</td>\n",
       "    </tr>\n",
       "    <tr>\n",
       "      <th>75%</th>\n",
       "      <td>4.964675e+07</td>\n",
       "      <td>4.0</td>\n",
       "    </tr>\n",
       "    <tr>\n",
       "      <th>max</th>\n",
       "      <td>1.031597e+08</td>\n",
       "      <td>4.0</td>\n",
       "    </tr>\n",
       "  </tbody>\n",
       "</table>"
      ],
      "text/plain": [
       "        PUBCHEM_SID  Curve Class\n",
       "count  9.180000e+02        918.0\n",
       "mean   3.048988e+07          4.0\n",
       "std    2.233077e+07          0.0\n",
       "min    8.429790e+05          4.0\n",
       "25%    1.738711e+07          4.0\n",
       "50%    2.480780e+07          4.0\n",
       "75%    4.964675e+07          4.0\n",
       "max    1.031597e+08          4.0"
      ]
     },
     "execution_count": 64,
     "metadata": {},
     "output_type": "execute_result"
    }
   ],
   "source": [
    "ncgc_inactive.describe()"
   ]
  },
  {
   "cell_type": "code",
   "execution_count": 65,
   "metadata": {},
   "outputs": [
    {
     "data": {
      "text/html": [
       "<table border=\"1\" class=\"dataframe\">\n",
       "  <thead>\n",
       "    <tr style=\"text-align: right;\">\n",
       "      <th></th>\n",
       "      <th>PUBCHEM_SID</th>\n",
       "      <th>Curve Class</th>\n",
       "      <th>SMILES</th>\n",
       "    </tr>\n",
       "  </thead>\n",
       "  <tbody>\n",
       "    <tr>\n",
       "      <th>832</th>\n",
       "      <td>26724280</td>\n",
       "      <td>4.0</td>\n",
       "      <td>CC1=C(C(N2C(=O)/C(=C/3\\C4=CC=CC=C4N(C3=O)CC(=O)O)/SC2=N1)C5=CC=C(C=C5)OC)C(=O)OCC=C.CC(=O)O</td>\n",
       "    </tr>\n",
       "    <tr>\n",
       "      <th>833</th>\n",
       "      <td>24820894</td>\n",
       "      <td>4.0</td>\n",
       "      <td>CC1=C(C=C(C(=C1)C2=CC=C(O2)/C=C\\3/C(=C(C(=O)NC3=O)C#N)C)[N+](=O)[O-])C</td>\n",
       "    </tr>\n",
       "    <tr>\n",
       "      <th>834</th>\n",
       "      <td>49724993</td>\n",
       "      <td>4.0</td>\n",
       "      <td>CC1=C(C=CC(=C1)[N+](=O)[O-])N2C(=O)C3=C(C2=O)C=C(C=C3)C(=O)NC4=CC=CC=C4C(=O)O</td>\n",
       "    </tr>\n",
       "    <tr>\n",
       "      <th>835</th>\n",
       "      <td>14728116</td>\n",
       "      <td>4.0</td>\n",
       "      <td>C1CCC2=C(C1)C(=O)N3C(=C(C(=O)N3)N=NC4=CC(=CC=C4)Cl)N2</td>\n",
       "    </tr>\n",
       "    <tr>\n",
       "      <th>836</th>\n",
       "      <td>85271326</td>\n",
       "      <td>4.0</td>\n",
       "      <td>C1=CC=C2C(=C1)/C(=C\\3/C(=O)N(C(=S)S3)CCS(=O)(=O)O)/C(=O)N2CC(=O)NC4=CC(=CC=C4)Br</td>\n",
       "    </tr>\n",
       "  </tbody>\n",
       "</table>"
      ],
      "text/plain": [
       "     PUBCHEM_SID  Curve Class                                                                                       SMILES\n",
       "832     26724280          4.0  CC1=C(C(N2C(=O)/C(=C/3\\C4=CC=CC=C4N(C3=O)CC(=O)O)/SC2=N1)C5=CC=C(C=C5)OC)C(=O)OCC=C.CC(=O)O\n",
       "833     24820894          4.0                       CC1=C(C=C(C(=C1)C2=CC=C(O2)/C=C\\3/C(=C(C(=O)NC3=O)C#N)C)[N+](=O)[O-])C\n",
       "834     49724993          4.0                CC1=C(C=CC(=C1)[N+](=O)[O-])N2C(=O)C3=C(C2=O)C=C(C=C3)C(=O)NC4=CC=CC=C4C(=O)O\n",
       "835     14728116          4.0                                        C1CCC2=C(C1)C(=O)N3C(=C(C(=O)N3)N=NC4=CC(=CC=C4)Cl)N2\n",
       "836     85271326          4.0             C1=CC=C2C(=C1)/C(=C\\3/C(=O)N(C(=S)S3)CCS(=O)(=O)O)/C(=O)N2CC(=O)NC4=CC(=CC=C4)Br"
      ]
     },
     "execution_count": 65,
     "metadata": {},
     "output_type": "execute_result"
    }
   ],
   "source": [
    "ncgc_inactive.head()"
   ]
  },
  {
   "cell_type": "code",
   "execution_count": 66,
   "metadata": {},
   "outputs": [
    {
     "data": {
      "application/vnd.jupyter.widget-view+json": {
       "model_id": "a850619b6f5744cab6be8fdc1dd1a771",
       "version_major": 2,
       "version_minor": 0
      },
      "text/plain": [
       "HBox(children=(IntProgress(value=0, description='Standardizing:', max=918, style=ProgressStyle(description_wid…"
      ]
     },
     "metadata": {},
     "output_type": "display_data"
    },
    {
     "name": "stdout",
     "output_type": "stream",
     "text": [
      "\n"
     ]
    },
    {
     "data": {
      "application/vnd.jupyter.widget-view+json": {
       "model_id": "772a10f0a0a24750bfef693bce2efb43",
       "version_major": 2,
       "version_minor": 0
      },
      "text/plain": [
       "HBox(children=(IntProgress(value=0, description='Generating InChi Keys:', max=918, style=ProgressStyle(descrip…"
      ]
     },
     "metadata": {},
     "output_type": "display_data"
    },
    {
     "name": "stdout",
     "output_type": "stream",
     "text": [
      "\n"
     ]
    },
    {
     "data": {
      "application/vnd.jupyter.widget-view+json": {
       "model_id": "5098b084f0c3495682d622216b1f6cbf",
       "version_major": 2,
       "version_minor": 0
      },
      "text/plain": [
       "HBox(children=(IntProgress(value=0, description='Removing molecules with invalid atoms...', max=918, style=Pro…"
      ]
     },
     "metadata": {},
     "output_type": "display_data"
    },
    {
     "name": "stdout",
     "output_type": "stream",
     "text": [
      "\n",
      "Looking for duplicates...\n",
      "Done\n",
      "Total time: 48.9 seconds\n"
     ]
    }
   ],
   "source": [
    "ncgc_inactive = prepare_data_pipeline(ncgc_inactive)"
   ]
  },
  {
   "cell_type": "code",
   "execution_count": 67,
   "metadata": {},
   "outputs": [
    {
     "data": {
      "text/html": [
       "<table border=\"1\" class=\"dataframe\">\n",
       "  <thead>\n",
       "    <tr style=\"text-align: right;\">\n",
       "      <th></th>\n",
       "      <th>PUBCHEM_SID</th>\n",
       "      <th>Curve Class</th>\n",
       "      <th>SMILES</th>\n",
       "      <th>mol</th>\n",
       "      <th>InChi Key</th>\n",
       "    </tr>\n",
       "  </thead>\n",
       "  <tbody>\n",
       "    <tr>\n",
       "      <th>0</th>\n",
       "      <td>26724280</td>\n",
       "      <td>4.0</td>\n",
       "      <td>CC1=C(C(N2C(=O)/C(=C/3\\C4=CC=CC=C4N(C3=O)CC(=O)O)/SC2=N1)C5=CC=C(C=C5)OC)C(=O)OCC=C.CC(=O)O</td>\n",
       "      <td><img src=\"data:image/png;base64,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\" alt=\"Mol\"/></td>\n",
       "      <td>GPZXHHVMTRUILW-GYHWCHFESA-N</td>\n",
       "    </tr>\n",
       "    <tr>\n",
       "      <th>1</th>\n",
       "      <td>24820894</td>\n",
       "      <td>4.0</td>\n",
       "      <td>CC1=C(C=C(C(=C1)C2=CC=C(O2)/C=C\\3/C(=C(C(=O)NC3=O)C#N)C)[N+](=O)[O-])C</td>\n",
       "      <td><img src=\"data:image/png;base64,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\" alt=\"Mol\"/></td>\n",
       "      <td>RUQFYHUWWFWCLH-ZSOIEALJSA-N</td>\n",
       "    </tr>\n",
       "    <tr>\n",
       "      <th>2</th>\n",
       "      <td>49724993</td>\n",
       "      <td>4.0</td>\n",
       "      <td>CC1=C(C=CC(=C1)[N+](=O)[O-])N2C(=O)C3=C(C2=O)C=C(C=C3)C(=O)NC4=CC=CC=C4C(=O)O</td>\n",
       "      <td><img src=\"data:image/png;base64,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\" alt=\"Mol\"/></td>\n",
       "      <td>WESMCYOHVNPZNE-UHFFFAOYSA-N</td>\n",
       "    </tr>\n",
       "    <tr>\n",
       "      <th>3</th>\n",
       "      <td>14728116</td>\n",
       "      <td>4.0</td>\n",
       "      <td>C1CCC2=C(C1)C(=O)N3C(=C(C(=O)N3)N=NC4=CC(=CC=C4)Cl)N2</td>\n",
       "      <td><img src=\"data:image/png;base64,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\" alt=\"Mol\"/></td>\n",
       "      <td>DBLWKANCOKSSHW-UHFFFAOYSA-N</td>\n",
       "    </tr>\n",
       "    <tr>\n",
       "      <th>4</th>\n",
       "      <td>85271326</td>\n",
       "      <td>4.0</td>\n",
       "      <td>C1=CC=C2C(=C1)/C(=C\\3/C(=O)N(C(=S)S3)CCS(=O)(=O)O)/C(=O)N2CC(=O)NC4=CC(=CC=C4)Br</td>\n",
       "      <td><img src=\"data:image/png;base64,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\" alt=\"Mol\"/></td>\n",
       "      <td>IQWKHNPYLCUEJX-ISLYRVAYSA-N</td>\n",
       "    </tr>\n",
       "  </tbody>\n",
       "</table>"
      ],
      "text/plain": [
       "   PUBCHEM_SID  Curve Class                                                                                       SMILES                                                                                                                                                                                                                                                                                                                                                                                                                                                                                                                                                                                                                                                                                                                                                                                                                                                                                                                                                                                                                                                                                                                                                                                                                                                                                                                                                                                                                                                                                                                                                                                                                                                                                                                                                                                                                                                                                                                                                                                                                                                                                                                                                                                                                                                                                                                                                                                                                                                                                                                                                                                                                                                                                                                                                                                                                                                                                                                                                                                                                                                                                                                                                                                                                                                                                                                                                                                                                                                                                                                                                                                                                                                                                                                                                                                                                                                                                                                                                                                                                                                                                                                                                                                                                                                                                                                                                                                                                                                                                                                                                                                                                                                                                                                                                                                                                                                                                                                                                                                                                                                                                                                                                                                                                                                                                                                                                                                                                                                                                                                                                                                                                                                                                                                                                                                                                                                                                                                                                                                                                                                                                                                                                                                                                                                                                                                                                                                                                                                                                                                                                                                                                                                                                                                                                                                                                                                                                                                                                                                                                                                                                                                                                                                                                                                                                                                                                                                                                                                                                                                                                                                                                                                                                                                                                                                                                                                                                                                                                                                                                                                                                                                                                                                                                                                                                                                                                                                                                                                                                                                                                                                                                                                                                                                                                                                                                                                                                                                                                                                                                                                                                                                                                                                                                                                                                                                                                                                                                                                                                                                                                                                                                                                                                                                                                                                                                                                                                                                                                                                                                                                                                                                                                                                                                                                                                                                                                                                                                                                                                                                                                                                                                                                                                                                                                                                                                                                                                                                                                                                                                                                                                                                                                                                                                                                                            mol                    InChi Key\n",
       "0     26724280          4.0  CC1=C(C(N2C(=O)/C(=C/3\\C4=CC=CC=C4N(C3=O)CC(=O)O)/SC2=N1)C5=CC=C(C=C5)OC)C(=O)OCC=C.CC(=O)O                                                                                                                                                                                                                                                                                                                                                                                                                                                                                                                                                                                                                                                                                                                                                                                                                                                                                              <img src=\"data:image/png;base64,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\" alt=\"Mol\"/>  GPZXHHVMTRUILW-GYHWCHFESA-N\n",
       "1     24820894          4.0                       CC1=C(C=C(C(=C1)C2=CC=C(O2)/C=C\\3/C(=C(C(=O)NC3=O)C#N)C)[N+](=O)[O-])C                                                                                                                                                                                                                                                                                                                                                                                                                                                                                                                                                                                                                                                                                                                                                                                                                                                                                                                                                                                                                                                                                                                                                                                                                                                                                                                                                                                                                                                                                                                                                                                                                                                                                                                                                                                                                                                                                                                                                                                                                                                                                                                                                                                                                                                                                                                                                                                                                                                                                                                                                                                                          <img src=\"data:image/png;base64,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\" alt=\"Mol\"/>  RUQFYHUWWFWCLH-ZSOIEALJSA-N\n",
       "2     49724993          4.0                CC1=C(C=CC(=C1)[N+](=O)[O-])N2C(=O)C3=C(C2=O)C=C(C=C3)C(=O)NC4=CC=CC=C4C(=O)O                                                                                                                                                                                                                                                                                                                                                                                                                                                                                                                                                                                                                                                                                                                                                                                                                                                                                                                                                                                                                                                                                                                                                                                                                                                                                                                                                                                                                                                                                                                                                                                                                                                                                                                                                                                                                                                                                                                                                                                                                                                                                                                                                                                  <img src=\"data:image/png;base64,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\" alt=\"Mol\"/>  WESMCYOHVNPZNE-UHFFFAOYSA-N\n",
       "3     14728116          4.0                                        C1CCC2=C(C1)C(=O)N3C(=C(C(=O)N3)N=NC4=CC(=CC=C4)Cl)N2                                                                                                                                                                                                                                                                                                                                                                                                                                                                                                                                                                                                                                                                                                                                                                                                                                                                                                                                                                                                                                                                                                                                                                                                                                                                                                                                                                                                                                                                                                                                                                                                                                                                                                                                                                                                                                                                                                                                                                                                                                                                                                                                                                                                                                                                                                                                                                                                                                                                                                                                                                                                                                                                                                                                                  <img src=\"data:image/png;base64,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\" alt=\"Mol\"/>  DBLWKANCOKSSHW-UHFFFAOYSA-N\n",
       "4     85271326          4.0             C1=CC=C2C(=C1)/C(=C\\3/C(=O)N(C(=S)S3)CCS(=O)(=O)O)/C(=O)N2CC(=O)NC4=CC(=CC=C4)Br  <img src=\"data:image/png;base64,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\" alt=\"Mol\"/>  IQWKHNPYLCUEJX-ISLYRVAYSA-N"
      ]
     },
     "execution_count": 67,
     "metadata": {},
     "output_type": "execute_result"
    }
   ],
   "source": [
    "ncgc_inactive.head()"
   ]
  },
  {
   "cell_type": "markdown",
   "metadata": {},
   "source": [
    "Lets now add the inactives from the original set. Originally, there were 336,307 molecules labeled as inactive. We'll choose only 50,000 of them."
   ]
  },
  {
   "cell_type": "code",
   "execution_count": 68,
   "metadata": {},
   "outputs": [
    {
     "data": {
      "text/html": [
       "<table border=\"1\" class=\"dataframe\">\n",
       "  <thead>\n",
       "    <tr style=\"text-align: right;\">\n",
       "      <th></th>\n",
       "      <th>PUBCHEM_SID</th>\n",
       "      <th>SMILES</th>\n",
       "      <th>PUBCHEM_ACTIVITY_OUTCOME</th>\n",
       "      <th>IC50 Modifier</th>\n",
       "      <th>IC50</th>\n",
       "      <th>IC50 Std Dev</th>\n",
       "      <th>IC50 Hill Slope</th>\n",
       "      <th>IC50 NormChi2</th>\n",
       "      <th>% Inhibition @ 100 uM</th>\n",
       "      <th>% Inhibition @ 50 uM</th>\n",
       "      <th>% Inhibition @ 25 uM</th>\n",
       "      <th>% Inhibition @ 12.5 uM</th>\n",
       "      <th>% Inhibition @ 6.25 uM</th>\n",
       "      <th>% Inhibition @ 3.13 uM</th>\n",
       "      <th>% Inhibition @ 1.56 uM</th>\n",
       "      <th>% Inhibition @ 0.78 uM</th>\n",
       "      <th>% Inhibition @ 0.39 uM</th>\n",
       "      <th>% Inhibition @ 0.19 uM</th>\n",
       "      <th>Primary Outcome</th>\n",
       "      <th>Primary Screen % Inhibition @ 25 uM</th>\n",
       "      <th>Verification</th>\n",
       "    </tr>\n",
       "  </thead>\n",
       "  <tbody>\n",
       "    <tr>\n",
       "      <th>0</th>\n",
       "      <td>103163618</td>\n",
       "      <td>COC1=C(C=C(C=C1)C2=CSC(=N2)NC(=O)CS(=O)(=O)C3=CC=CC=C3)OC</td>\n",
       "      <td>Inactive</td>\n",
       "      <td>NaN</td>\n",
       "      <td>NaN</td>\n",
       "      <td>NaN</td>\n",
       "      <td>NaN</td>\n",
       "      <td>NaN</td>\n",
       "      <td>NaN</td>\n",
       "      <td>NaN</td>\n",
       "      <td>NaN</td>\n",
       "      <td>NaN</td>\n",
       "      <td>NaN</td>\n",
       "      <td>NaN</td>\n",
       "      <td>NaN</td>\n",
       "      <td>NaN</td>\n",
       "      <td>NaN</td>\n",
       "      <td>NaN</td>\n",
       "      <td>Inactive</td>\n",
       "      <td>4.03</td>\n",
       "      <td>verified</td>\n",
       "    </tr>\n",
       "    <tr>\n",
       "      <th>1</th>\n",
       "      <td>103163617</td>\n",
       "      <td>CC1=C(C=C(C=C1)NC2CCCN(C2)C(=O)C3=CC(=NN3C)C(C)C)C</td>\n",
       "      <td>Inactive</td>\n",
       "      <td>NaN</td>\n",
       "      <td>NaN</td>\n",
       "      <td>NaN</td>\n",
       "      <td>NaN</td>\n",
       "      <td>NaN</td>\n",
       "      <td>NaN</td>\n",
       "      <td>NaN</td>\n",
       "      <td>NaN</td>\n",
       "      <td>NaN</td>\n",
       "      <td>NaN</td>\n",
       "      <td>NaN</td>\n",
       "      <td>NaN</td>\n",
       "      <td>NaN</td>\n",
       "      <td>NaN</td>\n",
       "      <td>NaN</td>\n",
       "      <td>Inactive</td>\n",
       "      <td>1.10</td>\n",
       "      <td>verified</td>\n",
       "    </tr>\n",
       "    <tr>\n",
       "      <th>2</th>\n",
       "      <td>103163612</td>\n",
       "      <td>C1=CC=C(C=C1)CCC2C(=O)N(C(=O)N2)CC(=O)NC3=CC=CC=C3SCC#N</td>\n",
       "      <td>Inactive</td>\n",
       "      <td>NaN</td>\n",
       "      <td>NaN</td>\n",
       "      <td>NaN</td>\n",
       "      <td>NaN</td>\n",
       "      <td>NaN</td>\n",
       "      <td>NaN</td>\n",
       "      <td>NaN</td>\n",
       "      <td>NaN</td>\n",
       "      <td>NaN</td>\n",
       "      <td>NaN</td>\n",
       "      <td>NaN</td>\n",
       "      <td>NaN</td>\n",
       "      <td>NaN</td>\n",
       "      <td>NaN</td>\n",
       "      <td>NaN</td>\n",
       "      <td>Inactive</td>\n",
       "      <td>8.05</td>\n",
       "      <td>verified</td>\n",
       "    </tr>\n",
       "    <tr>\n",
       "      <th>3</th>\n",
       "      <td>103163607</td>\n",
       "      <td>CC1CCCN(C1)C(=O)C2=CC(=CC=C2)S(=O)(=O)NCC3=CC=CC=C3</td>\n",
       "      <td>Inactive</td>\n",
       "      <td>NaN</td>\n",
       "      <td>NaN</td>\n",
       "      <td>NaN</td>\n",
       "      <td>NaN</td>\n",
       "      <td>NaN</td>\n",
       "      <td>NaN</td>\n",
       "      <td>NaN</td>\n",
       "      <td>NaN</td>\n",
       "      <td>NaN</td>\n",
       "      <td>NaN</td>\n",
       "      <td>NaN</td>\n",
       "      <td>NaN</td>\n",
       "      <td>NaN</td>\n",
       "      <td>NaN</td>\n",
       "      <td>NaN</td>\n",
       "      <td>Inactive</td>\n",
       "      <td>-3.30</td>\n",
       "      <td>verified</td>\n",
       "    </tr>\n",
       "    <tr>\n",
       "      <th>4</th>\n",
       "      <td>103163604</td>\n",
       "      <td>CN(C)S(=O)(=O)N1C=C(C2=CC=CC=C21)/C=C(/C(=O)N3CCCCC3)\\NC(=O)C4=CC=CC=C4</td>\n",
       "      <td>Inactive</td>\n",
       "      <td>NaN</td>\n",
       "      <td>NaN</td>\n",
       "      <td>NaN</td>\n",
       "      <td>NaN</td>\n",
       "      <td>NaN</td>\n",
       "      <td>NaN</td>\n",
       "      <td>NaN</td>\n",
       "      <td>NaN</td>\n",
       "      <td>NaN</td>\n",
       "      <td>NaN</td>\n",
       "      <td>NaN</td>\n",
       "      <td>NaN</td>\n",
       "      <td>NaN</td>\n",
       "      <td>NaN</td>\n",
       "      <td>NaN</td>\n",
       "      <td>Inactive</td>\n",
       "      <td>1.65</td>\n",
       "      <td>verified</td>\n",
       "    </tr>\n",
       "  </tbody>\n",
       "</table>"
      ],
      "text/plain": [
       "   PUBCHEM_SID                                                                   SMILES PUBCHEM_ACTIVITY_OUTCOME IC50 Modifier  IC50  IC50 Std Dev  IC50 Hill Slope  IC50 NormChi2  % Inhibition @ 100 uM  % Inhibition @ 50 uM  % Inhibition @ 25 uM  % Inhibition @ 12.5 uM  % Inhibition @ 6.25 uM  % Inhibition @ 3.13 uM  % Inhibition @ 1.56 uM  % Inhibition @ 0.78 uM  % Inhibition @ 0.39 uM  % Inhibition @ 0.19 uM Primary Outcome  Primary Screen % Inhibition @ 25 uM Verification\n",
       "0    103163618                COC1=C(C=C(C=C1)C2=CSC(=N2)NC(=O)CS(=O)(=O)C3=CC=CC=C3)OC                 Inactive           NaN   NaN           NaN              NaN            NaN                    NaN                   NaN                   NaN                     NaN                     NaN                     NaN                     NaN                     NaN                     NaN                     NaN        Inactive                                 4.03     verified\n",
       "1    103163617                       CC1=C(C=C(C=C1)NC2CCCN(C2)C(=O)C3=CC(=NN3C)C(C)C)C                 Inactive           NaN   NaN           NaN              NaN            NaN                    NaN                   NaN                   NaN                     NaN                     NaN                     NaN                     NaN                     NaN                     NaN                     NaN        Inactive                                 1.10     verified\n",
       "2    103163612                  C1=CC=C(C=C1)CCC2C(=O)N(C(=O)N2)CC(=O)NC3=CC=CC=C3SCC#N                 Inactive           NaN   NaN           NaN              NaN            NaN                    NaN                   NaN                   NaN                     NaN                     NaN                     NaN                     NaN                     NaN                     NaN                     NaN        Inactive                                 8.05     verified\n",
       "3    103163607                      CC1CCCN(C1)C(=O)C2=CC(=CC=C2)S(=O)(=O)NCC3=CC=CC=C3                 Inactive           NaN   NaN           NaN              NaN            NaN                    NaN                   NaN                   NaN                     NaN                     NaN                     NaN                     NaN                     NaN                     NaN                     NaN        Inactive                                -3.30     verified\n",
       "4    103163604  CN(C)S(=O)(=O)N1C=C(C2=CC=CC=C21)/C=C(/C(=O)N3CCCCC3)\\NC(=O)C4=CC=CC=C4                 Inactive           NaN   NaN           NaN              NaN            NaN                    NaN                   NaN                   NaN                     NaN                     NaN                     NaN                     NaN                     NaN                     NaN                     NaN        Inactive                                 1.65     verified"
      ]
     },
     "execution_count": 68,
     "metadata": {},
     "output_type": "execute_result"
    }
   ],
   "source": [
    "primary_inactive.head()"
   ]
  },
  {
   "cell_type": "code",
   "execution_count": 69,
   "metadata": {},
   "outputs": [
    {
     "data": {
      "text/plain": [
       "Int64Index([     0,      1,      2,      3,      4,      6,      7,      8,      9,     10,\n",
       "            ...\n",
       "            338843, 338844, 338845, 338846, 338847, 338848, 338849, 338850, 338851, 338852], dtype='int64', length=335570)"
      ]
     },
     "execution_count": 69,
     "metadata": {},
     "output_type": "execute_result"
    }
   ],
   "source": [
    "primary_inactive.index"
   ]
  },
  {
   "cell_type": "code",
   "execution_count": 70,
   "metadata": {},
   "outputs": [],
   "source": [
    "sel_primary_inactive = primary_inactive.loc[np.random.choice(primary_inactive.index, size=50000, replace=False)].filter(['PUBCHEM_SID', 'SMILES'], axis=1)"
   ]
  },
  {
   "cell_type": "code",
   "execution_count": 71,
   "metadata": {},
   "outputs": [
    {
     "data": {
      "text/plain": [
       "(50000, 2)"
      ]
     },
     "execution_count": 71,
     "metadata": {},
     "output_type": "execute_result"
    }
   ],
   "source": [
    "sel_primary_inactive.shape"
   ]
  },
  {
   "cell_type": "code",
   "execution_count": 72,
   "metadata": {},
   "outputs": [
    {
     "data": {
      "text/html": [
       "<table border=\"1\" class=\"dataframe\">\n",
       "  <thead>\n",
       "    <tr style=\"text-align: right;\">\n",
       "      <th></th>\n",
       "      <th>PUBCHEM_SID</th>\n",
       "      <th>SMILES</th>\n",
       "    </tr>\n",
       "  </thead>\n",
       "  <tbody>\n",
       "    <tr>\n",
       "      <th>94978</th>\n",
       "      <td>49717421</td>\n",
       "      <td>CC(C)NC(=O)C1=CC(=C(C=C1)N2CC3CC(C2)C4=CC=CC(=O)N4C3)NC(=O)NC5=CC(=CC=C5)OC</td>\n",
       "    </tr>\n",
       "    <tr>\n",
       "      <th>33800</th>\n",
       "      <td>57265855</td>\n",
       "      <td>C1CCN(C1)S(=O)(=O)C2=CC=C(C=C2)NC(=O)COC3=C(C=C(C=C3)Br)CO</td>\n",
       "    </tr>\n",
       "    <tr>\n",
       "      <th>42177</th>\n",
       "      <td>57257223</td>\n",
       "      <td>C1=CC=C(C=C1)NC2=C(C=C(C=C2)[N+](=O)[O-])C(=O)N</td>\n",
       "    </tr>\n",
       "    <tr>\n",
       "      <th>228321</th>\n",
       "      <td>17515507</td>\n",
       "      <td>CCCNC(=O)OCC12CC3CC(C1)CC(C3)C2</td>\n",
       "    </tr>\n",
       "    <tr>\n",
       "      <th>48549</th>\n",
       "      <td>56321999</td>\n",
       "      <td>CCCCN1C(=C(C(=O)NC1=O)N(CC)C(=O)C2=CC=C(C=C2)N3CCCC3=O)N</td>\n",
       "    </tr>\n",
       "  </tbody>\n",
       "</table>"
      ],
      "text/plain": [
       "        PUBCHEM_SID                                                                       SMILES\n",
       "94978      49717421  CC(C)NC(=O)C1=CC(=C(C=C1)N2CC3CC(C2)C4=CC=CC(=O)N4C3)NC(=O)NC5=CC(=CC=C5)OC\n",
       "33800      57265855                   C1CCN(C1)S(=O)(=O)C2=CC=C(C=C2)NC(=O)COC3=C(C=C(C=C3)Br)CO\n",
       "42177      57257223                              C1=CC=C(C=C1)NC2=C(C=C(C=C2)[N+](=O)[O-])C(=O)N\n",
       "228321     17515507                                              CCCNC(=O)OCC12CC3CC(C1)CC(C3)C2\n",
       "48549      56321999                     CCCCN1C(=C(C(=O)NC1=O)N(CC)C(=O)C2=CC=C(C=C2)N3CCCC3=O)N"
      ]
     },
     "execution_count": 72,
     "metadata": {},
     "output_type": "execute_result"
    }
   ],
   "source": [
    "sel_primary_inactive.head()"
   ]
  },
  {
   "cell_type": "code",
   "execution_count": 73,
   "metadata": {},
   "outputs": [
    {
     "data": {
      "application/vnd.jupyter.widget-view+json": {
       "model_id": "093911ee8f1245f8a90f50efac00ec10",
       "version_major": 2,
       "version_minor": 0
      },
      "text/plain": [
       "HBox(children=(IntProgress(value=0, description='Standardizing:', max=50000, style=ProgressStyle(description_w…"
      ]
     },
     "metadata": {},
     "output_type": "display_data"
    },
    {
     "name": "stdout",
     "output_type": "stream",
     "text": [
      "\n"
     ]
    },
    {
     "data": {
      "application/vnd.jupyter.widget-view+json": {
       "model_id": "91394c1ce5694357ad7427148ec44df7",
       "version_major": 2,
       "version_minor": 0
      },
      "text/plain": [
       "HBox(children=(IntProgress(value=0, description='Generating InChi Keys:', max=50000, style=ProgressStyle(descr…"
      ]
     },
     "metadata": {},
     "output_type": "display_data"
    },
    {
     "name": "stdout",
     "output_type": "stream",
     "text": [
      "\n"
     ]
    },
    {
     "data": {
      "application/vnd.jupyter.widget-view+json": {
       "model_id": "f5b957bff73f4f66a171f422eade7bba",
       "version_major": 2,
       "version_minor": 0
      },
      "text/plain": [
       "HBox(children=(IntProgress(value=0, description='Removing molecules with invalid atoms...', max=50000, style=P…"
      ]
     },
     "metadata": {},
     "output_type": "display_data"
    },
    {
     "name": "stdout",
     "output_type": "stream",
     "text": [
      "\n",
      "Looking for duplicates...\n",
      "44 duplicates found. Removing...\n",
      "Done\n",
      "Total time: 2.45e+03 seconds\n"
     ]
    }
   ],
   "source": [
    "sel_primary_inactive = prepare_data_pipeline(sel_primary_inactive)"
   ]
  },
  {
   "cell_type": "code",
   "execution_count": 76,
   "metadata": {},
   "outputs": [
    {
     "data": {
      "text/plain": [
       "(49951, 4)"
      ]
     },
     "execution_count": 76,
     "metadata": {},
     "output_type": "execute_result"
    }
   ],
   "source": [
    "sel_primary_inactive.shape"
   ]
  },
  {
   "cell_type": "code",
   "execution_count": 77,
   "metadata": {},
   "outputs": [
    {
     "data": {
      "text/plain": [
       "Index(['PUBCHEM_SID', 'Curve Class', 'SMILES', 'mol', 'InChi Key'], dtype='object')"
      ]
     },
     "execution_count": 77,
     "metadata": {},
     "output_type": "execute_result"
    }
   ],
   "source": [
    "ncgc_inactive.columns"
   ]
  },
  {
   "cell_type": "code",
   "execution_count": 78,
   "metadata": {},
   "outputs": [
    {
     "data": {
      "text/plain": [
       "Index(['PUBCHEM_SID', 'SMILES', 'mol', 'InChi Key'], dtype='object')"
      ]
     },
     "execution_count": 78,
     "metadata": {},
     "output_type": "execute_result"
    }
   ],
   "source": [
    "sel_primary_inactive.columns"
   ]
  },
  {
   "cell_type": "code",
   "execution_count": 89,
   "metadata": {},
   "outputs": [],
   "source": [
    "# Merge (concatenate) 'inactive' dataframes into one\n",
    "# Get only the first 50.000 elements, drop the excess.\n",
    "inactive = ncgc_inactive.append(sel_primary_inactive, sort=False)\n",
    "inactive.drop_duplicates(subset=['InChi Key'], keep='first', inplace=True)\n",
    "inactive = inactive[:50000].copy()\n",
    "inactive.reset_index(drop=True, inplace=True)"
   ]
  },
  {
   "cell_type": "code",
   "execution_count": 91,
   "metadata": {},
   "outputs": [
    {
     "data": {
      "text/plain": [
       "RangeIndex(start=0, stop=50000, step=1)"
      ]
     },
     "execution_count": 91,
     "metadata": {},
     "output_type": "execute_result"
    }
   ],
   "source": [
    "inactive.index"
   ]
  },
  {
   "cell_type": "code",
   "execution_count": 92,
   "metadata": {},
   "outputs": [
    {
     "data": {
      "text/html": [
       "<table border=\"1\" class=\"dataframe\">\n",
       "  <thead>\n",
       "    <tr style=\"text-align: right;\">\n",
       "      <th></th>\n",
       "      <th>PUBCHEM_SID</th>\n",
       "      <th>Curve Class</th>\n",
       "      <th>SMILES</th>\n",
       "      <th>mol</th>\n",
       "      <th>InChi Key</th>\n",
       "    </tr>\n",
       "  </thead>\n",
       "  <tbody>\n",
       "    <tr>\n",
       "      <th>count</th>\n",
       "      <td>5.000000e+04</td>\n",
       "      <td>918.0</td>\n",
       "      <td>50000</td>\n",
       "      <td>50000</td>\n",
       "      <td>50000</td>\n",
       "    </tr>\n",
       "    <tr>\n",
       "      <th>unique</th>\n",
       "      <td>NaN</td>\n",
       "      <td>NaN</td>\n",
       "      <td>50000</td>\n",
       "      <td>50000</td>\n",
       "      <td>50000</td>\n",
       "    </tr>\n",
       "    <tr>\n",
       "      <th>top</th>\n",
       "      <td>NaN</td>\n",
       "      <td>NaN</td>\n",
       "      <td>CN(CC(=O)NC1=CC=CC=C1C(F)(F)F)C(=O)CN2C3=CC=CC=C3OC2=O</td>\n",
       "      <td><img src=\"data:image/png;base64,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\" alt=\"Mol\"/></td>\n",
       "      <td>CRSIWSIMUCOGCU-UHFFFAOYSA-N</td>\n",
       "    </tr>\n",
       "    <tr>\n",
       "      <th>freq</th>\n",
       "      <td>NaN</td>\n",
       "      <td>NaN</td>\n",
       "      <td>1</td>\n",
       "      <td>1</td>\n",
       "      <td>1</td>\n",
       "    </tr>\n",
       "    <tr>\n",
       "      <th>mean</th>\n",
       "      <td>3.382297e+07</td>\n",
       "      <td>4.0</td>\n",
       "      <td>NaN</td>\n",
       "      <td>NaN</td>\n",
       "      <td>NaN</td>\n",
       "    </tr>\n",
       "    <tr>\n",
       "      <th>std</th>\n",
       "      <td>2.454174e+07</td>\n",
       "      <td>0.0</td>\n",
       "      <td>NaN</td>\n",
       "      <td>NaN</td>\n",
       "      <td>NaN</td>\n",
       "    </tr>\n",
       "    <tr>\n",
       "      <th>min</th>\n",
       "      <td>8.421210e+05</td>\n",
       "      <td>4.0</td>\n",
       "      <td>NaN</td>\n",
       "      <td>NaN</td>\n",
       "      <td>NaN</td>\n",
       "    </tr>\n",
       "    <tr>\n",
       "      <th>25%</th>\n",
       "      <td>1.738837e+07</td>\n",
       "      <td>4.0</td>\n",
       "      <td>NaN</td>\n",
       "      <td>NaN</td>\n",
       "      <td>NaN</td>\n",
       "    </tr>\n",
       "    <tr>\n",
       "      <th>50%</th>\n",
       "      <td>2.482392e+07</td>\n",
       "      <td>4.0</td>\n",
       "      <td>NaN</td>\n",
       "      <td>NaN</td>\n",
       "      <td>NaN</td>\n",
       "    </tr>\n",
       "    <tr>\n",
       "      <th>75%</th>\n",
       "      <td>4.972719e+07</td>\n",
       "      <td>4.0</td>\n",
       "      <td>NaN</td>\n",
       "      <td>NaN</td>\n",
       "      <td>NaN</td>\n",
       "    </tr>\n",
       "    <tr>\n",
       "      <th>max</th>\n",
       "      <td>1.031636e+08</td>\n",
       "      <td>4.0</td>\n",
       "      <td>NaN</td>\n",
       "      <td>NaN</td>\n",
       "      <td>NaN</td>\n",
       "    </tr>\n",
       "  </tbody>\n",
       "</table>"
      ],
      "text/plain": [
       "         PUBCHEM_SID  Curve Class                                                  SMILES                                                                                                                                                                                                                                                                                                                                                                                                                                                                                                                                                                                                                                                                                                                                                                                                                                                                                                                                                                                                                                                                                                                                                                                                                                                                                                                                                                                                                                                                                                                                                                                                                                                                                                                                                                                                                                                                                                                                                                                                                                                                                                                                                                                                                                                                                                                                                                                                                                                                                                                                                                                                                                                                                                                                                                                                                                                                                                                                                                                                                                                                                                                                                                                                                                                                                                                                                                                                                                                                                                                                                                                                                                                                                                                                                                                                                                                                                                                                                                                                                                                                                                                                                                                                                                                                                                                                                                                                                                                                                                                                                                                                                                                                                                                                                                                                                                                                                                                                                                                                                                                                                                                                                                                                                                                                                                                                                                                                                                                                                                                                                                                                                                                                                                                                                                                                                                                                                                                                                                                                                                                                                                                                                                                                                                                                                                                                                                                                                                                                                                                                                                                                                                                                                                                                                                                                                                                                                                                                                                                                                                                                                                                                                                                                                                                                                                                                                                                                                                                                                                                                                                                                                                                                                                                                                                                                                                                                                                                                                                                                                                                                                                                                                                                                                                                                                                                                                                                                                                                                                                                                                                                                                                                                                                                                                                                                                                                                                                                                                                                                                                                                                                                                                                                                                                                                                                                                                                                                                                                                                                                                                                                                                                                                                                                                                                                                                                                                                                                                                                                                                                                                                                                                                                                                                                                                                                                                                                                                                                                                                                                                                                                                                                                                                                                                                                                                                                                                                                                                                                                                                                                                                                                                                                                                                                                                                                                                                                                                                                                                                                                                                                                                                                                                                                                                                                                                                                                                                                                                                                                                                                                                                                                                                                                                                                                                mol                    InChi Key\n",
       "count   5.000000e+04        918.0                                                   50000                                                                                                                                                                                                                                                                                                                                                                                                                                                                                                                                                                                                                                                                                                                                                                                                                                                                                                                                                                                                                                                                                                                                                                                                                                                                                                                                                                                                                                                                                                                                                                                                                                                                                                                                                                                                                                                                                                                                                                                                                                                                                                                                                                                                                                                                                                                                                                                                                                                                                                                                                                                                                                                                                                                                                                                                                                                                                                                                                                                                                                                                                                                                                                                                                                                                                                                                                                                                                                                                                                                                                                                                                                                                                                                                                                                                                                                                                                                                                                                                                                                                                                                                                                                                                                                                                                                                                                                                                                                                                                                                                                                                                                                                                                                                                                                                                                                                                                                                                                                                                                                                                                                                                                                                                                                                                                                                                                                                                                                                                                                                                                                                                                                                                                                                                                                                                                                                                                                                                                                                                                                                                                                                                                                                                                                                                                                                                                                                                                                                                                                                                                                                                                                                                                                                                                                                                                                                                                                                                                                                                                                                                                                                                                                                                                                                                                                                                                                                                                                                                                                                                                                                                                                                                                                                                                                                                                                                                                                                                                                                                                                                                                                                                                                                                                                                                                                                                                                                                                                                                                                                                                                                                                                                                                                                                                                                                                                                                                                                                                                                                                                                                                                                                                                                                                                                                                                                                                                                                                                                                                                                                                                                                                                                                                                                                                                                                                                                                                                                                                                                                                                                                                                                                                                                                                                                                                                                                                                                                                                                                                                                                                                                                                                                                                                                                                                                                                                                                                                                                                                                                                                                                                                                                                                                                                                                                                                                                                                                                                                                                                                                                                                                                                                                                                                                                                                                                                                                                                                                                                                                                                                                                                                                                                                                                                                              50000                        50000\n",
       "unique           NaN          NaN                                                   50000                                                                                                                                                                                                                                                                                                                                                                                                                                                                                                                                                                                                                                                                                                                                                                                                                                                                                                                                                                                                                                                                                                                                                                                                                                                                                                                                                                                                                                                                                                                                                                                                                                                                                                                                                                                                                                                                                                                                                                                                                                                                                                                                                                                                                                                                                                                                                                                                                                                                                                                                                                                                                                                                                                                                                                                                                                                                                                                                                                                                                                                                                                                                                                                                                                                                                                                                                                                                                                                                                                                                                                                                                                                                                                                                                                                                                                                                                                                                                                                                                                                                                                                                                                                                                                                                                                                                                                                                                                                                                                                                                                                                                                                                                                                                                                                                                                                                                                                                                                                                                                                                                                                                                                                                                                                                                                                                                                                                                                                                                                                                                                                                                                                                                                                                                                                                                                                                                                                                                                                                                                                                                                                                                                                                                                                                                                                                                                                                                                                                                                                                                                                                                                                                                                                                                                                                                                                                                                                                                                                                                                                                                                                                                                                                                                                                                                                                                                                                                                                                                                                                                                                                                                                                                                                                                                                                                                                                                                                                                                                                                                                                                                                                                                                                                                                                                                                                                                                                                                                                                                                                                                                                                                                                                                                                                                                                                                                                                                                                                                                                                                                                                                                                                                                                                                                                                                                                                                                                                                                                                                                                                                                                                                                                                                                                                                                                                                                                                                                                                                                                                                                                                                                                                                                                                                                                                                                                                                                                                                                                                                                                                                                                                                                                                                                                                                                                                                                                                                                                                                                                                                                                                                                                                                                                                                                                                                                                                                                                                                                                                                                                                                                                                                                                                                                                                                                                                                                                                                                                                                                                                                                                                                                                                                                                                                                              50000                        50000\n",
       "top              NaN          NaN  CN(CC(=O)NC1=CC=CC=C1C(F)(F)F)C(=O)CN2C3=CC=CC=C3OC2=O  <img src=\"data:image/png;base64,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\" alt=\"Mol\"/>  CRSIWSIMUCOGCU-UHFFFAOYSA-N\n",
       "freq             NaN          NaN                                                       1                                                                                                                                                                                                                                                                                                                                                                                                                                                                                                                                                                                                                                                                                                                                                                                                                                                                                                                                                                                                                                                                                                                                                                                                                                                                                                                                                                                                                                                                                                                                                                                                                                                                                                                                                                                                                                                                                                                                                                                                                                                                                                                                                                                                                                                                                                                                                                                                                                                                                                                                                                                                                                                                                                                                                                                                                                                                                                                                                                                                                                                                                                                                                                                                                                                                                                                                                                                                                                                                                                                                                                                                                                                                                                                                                                                                                                                                                                                                                                                                                                                                                                                                                                                                                                                                                                                                                                                                                                                                                                                                                                                                                                                                                                                                                                                                                                                                                                                                                                                                                                                                                                                                                                                                                                                                                                                                                                                                                                                                                                                                                                                                                                                                                                                                                                                                                                                                                                                                                                                                                                                                                                                                                                                                                                                                                                                                                                                                                                                                                                                                                                                                                                                                                                                                                                                                                                                                                                                                                                                                                                                                                                                                                                                                                                                                                                                                                                                                                                                                                                                                                                                                                                                                                                                                                                                                                                                                                                                                                                                                                                                                                                                                                                                                                                                                                                                                                                                                                                                                                                                                                                                                                                                                                                                                                                                                                                                                                                                                                                                                                                                                                                                                                                                                                                                                                                                                                                                                                                                                                                                                                                                                                                                                                                                                                                                                                                                                                                                                                                                                                                                                                                                                                                                                                                                                                                                                                                                                                                                                                                                                                                                                                                                                                                                                                                                                                                                                                                                                                                                                                                                                                                                                                                                                                                                                                                                                                                                                                                                                                                                                                                                                                                                                                                                                                                                                                                                                                                                                                                                                                                                                                                                                                                                                                                                                  1                            1\n",
       "mean    3.382297e+07          4.0                                                     NaN                                                                                                                                                                                                                                                                                                                                                                                                                                                                                                                                                                                                                                                                                                                                                                                                                                                                                                                                                                                                                                                                                                                                                                                                                                                                                                                                                                                                                                                                                                                                                                                                                                                                                                                                                                                                                                                                                                                                                                                                                                                                                                                                                                                                                                                                                                                                                                                                                                                                                                                                                                                                                                                                                                                                                                                                                                                                                                                                                                                                                                                                                                                                                                                                                                                                                                                                                                                                                                                                                                                                                                                                                                                                                                                                                                                                                                                                                                                                                                                                                                                                                                                                                                                                                                                                                                                                                                                                                                                                                                                                                                                                                                                                                                                                                                                                                                                                                                                                                                                                                                                                                                                                                                                                                                                                                                                                                                                                                                                                                                                                                                                                                                                                                                                                                                                                                                                                                                                                                                                                                                                                                                                                                                                                                                                                                                                                                                                                                                                                                                                                                                                                                                                                                                                                                                                                                                                                                                                                                                                                                                                                                                                                                                                                                                                                                                                                                                                                                                                                                                                                                                                                                                                                                                                                                                                                                                                                                                                                                                                                                                                                                                                                                                                                                                                                                                                                                                                                                                                                                                                                                                                                                                                                                                                                                                                                                                                                                                                                                                                                                                                                                                                                                                                                                                                                                                                                                                                                                                                                                                                                                                                                                                                                                                                                                                                                                                                                                                                                                                                                                                                                                                                                                                                                                                                                                                                                                                                                                                                                                                                                                                                                                                                                                                                                                                                                                                                                                                                                                                                                                                                                                                                                                                                                                                                                                                                                                                                                                                                                                                                                                                                                                                                                                                                                                                                                                                                                                                                                                                                                                                                                                                                                                                                                                                                                NaN                          NaN\n",
       "std     2.454174e+07          0.0                                                     NaN                                                                                                                                                                                                                                                                                                                                                                                                                                                                                                                                                                                                                                                                                                                                                                                                                                                                                                                                                                                                                                                                                                                                                                                                                                                                                                                                                                                                                                                                                                                                                                                                                                                                                                                                                                                                                                                                                                                                                                                                                                                                                                                                                                                                                                                                                                                                                                                                                                                                                                                                                                                                                                                                                                                                                                                                                                                                                                                                                                                                                                                                                                                                                                                                                                                                                                                                                                                                                                                                                                                                                                                                                                                                                                                                                                                                                                                                                                                                                                                                                                                                                                                                                                                                                                                                                                                                                                                                                                                                                                                                                                                                                                                                                                                                                                                                                                                                                                                                                                                                                                                                                                                                                                                                                                                                                                                                                                                                                                                                                                                                                                                                                                                                                                                                                                                                                                                                                                                                                                                                                                                                                                                                                                                                                                                                                                                                                                                                                                                                                                                                                                                                                                                                                                                                                                                                                                                                                                                                                                                                                                                                                                                                                                                                                                                                                                                                                                                                                                                                                                                                                                                                                                                                                                                                                                                                                                                                                                                                                                                                                                                                                                                                                                                                                                                                                                                                                                                                                                                                                                                                                                                                                                                                                                                                                                                                                                                                                                                                                                                                                                                                                                                                                                                                                                                                                                                                                                                                                                                                                                                                                                                                                                                                                                                                                                                                                                                                                                                                                                                                                                                                                                                                                                                                                                                                                                                                                                                                                                                                                                                                                                                                                                                                                                                                                                                                                                                                                                                                                                                                                                                                                                                                                                                                                                                                                                                                                                                                                                                                                                                                                                                                                                                                                                                                                                                                                                                                                                                                                                                                                                                                                                                                                                                                                                                                NaN                          NaN\n",
       "min     8.421210e+05          4.0                                                     NaN                                                                                                                                                                                                                                                                                                                                                                                                                                                                                                                                                                                                                                                                                                                                                                                                                                                                                                                                                                                                                                                                                                                                                                                                                                                                                                                                                                                                                                                                                                                                                                                                                                                                                                                                                                                                                                                                                                                                                                                                                                                                                                                                                                                                                                                                                                                                                                                                                                                                                                                                                                                                                                                                                                                                                                                                                                                                                                                                                                                                                                                                                                                                                                                                                                                                                                                                                                                                                                                                                                                                                                                                                                                                                                                                                                                                                                                                                                                                                                                                                                                                                                                                                                                                                                                                                                                                                                                                                                                                                                                                                                                                                                                                                                                                                                                                                                                                                                                                                                                                                                                                                                                                                                                                                                                                                                                                                                                                                                                                                                                                                                                                                                                                                                                                                                                                                                                                                                                                                                                                                                                                                                                                                                                                                                                                                                                                                                                                                                                                                                                                                                                                                                                                                                                                                                                                                                                                                                                                                                                                                                                                                                                                                                                                                                                                                                                                                                                                                                                                                                                                                                                                                                                                                                                                                                                                                                                                                                                                                                                                                                                                                                                                                                                                                                                                                                                                                                                                                                                                                                                                                                                                                                                                                                                                                                                                                                                                                                                                                                                                                                                                                                                                                                                                                                                                                                                                                                                                                                                                                                                                                                                                                                                                                                                                                                                                                                                                                                                                                                                                                                                                                                                                                                                                                                                                                                                                                                                                                                                                                                                                                                                                                                                                                                                                                                                                                                                                                                                                                                                                                                                                                                                                                                                                                                                                                                                                                                                                                                                                                                                                                                                                                                                                                                                                                                                                                                                                                                                                                                                                                                                                                                                                                                                                                                                                NaN                          NaN\n",
       "25%     1.738837e+07          4.0                                                     NaN                                                                                                                                                                                                                                                                                                                                                                                                                                                                                                                                                                                                                                                                                                                                                                                                                                                                                                                                                                                                                                                                                                                                                                                                                                                                                                                                                                                                                                                                                                                                                                                                                                                                                                                                                                                                                                                                                                                                                                                                                                                                                                                                                                                                                                                                                                                                                                                                                                                                                                                                                                                                                                                                                                                                                                                                                                                                                                                                                                                                                                                                                                                                                                                                                                                                                                                                                                                                                                                                                                                                                                                                                                                                                                                                                                                                                                                                                                                                                                                                                                                                                                                                                                                                                                                                                                                                                                                                                                                                                                                                                                                                                                                                                                                                                                                                                                                                                                                                                                                                                                                                                                                                                                                                                                                                                                                                                                                                                                                                                                                                                                                                                                                                                                                                                                                                                                                                                                                                                                                                                                                                                                                                                                                                                                                                                                                                                                                                                                                                                                                                                                                                                                                                                                                                                                                                                                                                                                                                                                                                                                                                                                                                                                                                                                                                                                                                                                                                                                                                                                                                                                                                                                                                                                                                                                                                                                                                                                                                                                                                                                                                                                                                                                                                                                                                                                                                                                                                                                                                                                                                                                                                                                                                                                                                                                                                                                                                                                                                                                                                                                                                                                                                                                                                                                                                                                                                                                                                                                                                                                                                                                                                                                                                                                                                                                                                                                                                                                                                                                                                                                                                                                                                                                                                                                                                                                                                                                                                                                                                                                                                                                                                                                                                                                                                                                                                                                                                                                                                                                                                                                                                                                                                                                                                                                                                                                                                                                                                                                                                                                                                                                                                                                                                                                                                                                                                                                                                                                                                                                                                                                                                                                                                                                                                                                                                NaN                          NaN\n",
       "50%     2.482392e+07          4.0                                                     NaN                                                                                                                                                                                                                                                                                                                                                                                                                                                                                                                                                                                                                                                                                                                                                                                                                                                                                                                                                                                                                                                                                                                                                                                                                                                                                                                                                                                                                                                                                                                                                                                                                                                                                                                                                                                                                                                                                                                                                                                                                                                                                                                                                                                                                                                                                                                                                                                                                                                                                                                                                                                                                                                                                                                                                                                                                                                                                                                                                                                                                                                                                                                                                                                                                                                                                                                                                                                                                                                                                                                                                                                                                                                                                                                                                                                                                                                                                                                                                                                                                                                                                                                                                                                                                                                                                                                                                                                                                                                                                                                                                                                                                                                                                                                                                                                                                                                                                                                                                                                                                                                                                                                                                                                                                                                                                                                                                                                                                                                                                                                                                                                                                                                                                                                                                                                                                                                                                                                                                                                                                                                                                                                                                                                                                                                                                                                                                                                                                                                                                                                                                                                                                                                                                                                                                                                                                                                                                                                                                                                                                                                                                                                                                                                                                                                                                                                                                                                                                                                                                                                                                                                                                                                                                                                                                                                                                                                                                                                                                                                                                                                                                                                                                                                                                                                                                                                                                                                                                                                                                                                                                                                                                                                                                                                                                                                                                                                                                                                                                                                                                                                                                                                                                                                                                                                                                                                                                                                                                                                                                                                                                                                                                                                                                                                                                                                                                                                                                                                                                                                                                                                                                                                                                                                                                                                                                                                                                                                                                                                                                                                                                                                                                                                                                                                                                                                                                                                                                                                                                                                                                                                                                                                                                                                                                                                                                                                                                                                                                                                                                                                                                                                                                                                                                                                                                                                                                                                                                                                                                                                                                                                                                                                                                                                                                                                                NaN                          NaN\n",
       "75%     4.972719e+07          4.0                                                     NaN                                                                                                                                                                                                                                                                                                                                                                                                                                                                                                                                                                                                                                                                                                                                                                                                                                                                                                                                                                                                                                                                                                                                                                                                                                                                                                                                                                                                                                                                                                                                                                                                                                                                                                                                                                                                                                                                                                                                                                                                                                                                                                                                                                                                                                                                                                                                                                                                                                                                                                                                                                                                                                                                                                                                                                                                                                                                                                                                                                                                                                                                                                                                                                                                                                                                                                                                                                                                                                                                                                                                                                                                                                                                                                                                                                                                                                                                                                                                                                                                                                                                                                                                                                                                                                                                                                                                                                                                                                                                                                                                                                                                                                                                                                                                                                                                                                                                                                                                                                                                                                                                                                                                                                                                                                                                                                                                                                                                                                                                                                                                                                                                                                                                                                                                                                                                                                                                                                                                                                                                                                                                                                                                                                                                                                                                                                                                                                                                                                                                                                                                                                                                                                                                                                                                                                                                                                                                                                                                                                                                                                                                                                                                                                                                                                                                                                                                                                                                                                                                                                                                                                                                                                                                                                                                                                                                                                                                                                                                                                                                                                                                                                                                                                                                                                                                                                                                                                                                                                                                                                                                                                                                                                                                                                                                                                                                                                                                                                                                                                                                                                                                                                                                                                                                                                                                                                                                                                                                                                                                                                                                                                                                                                                                                                                                                                                                                                                                                                                                                                                                                                                                                                                                                                                                                                                                                                                                                                                                                                                                                                                                                                                                                                                                                                                                                                                                                                                                                                                                                                                                                                                                                                                                                                                                                                                                                                                                                                                                                                                                                                                                                                                                                                                                                                                                                                                                                                                                                                                                                                                                                                                                                                                                                                                                                                                                NaN                          NaN\n",
       "max     1.031636e+08          4.0                                                     NaN                                                                                                                                                                                                                                                                                                                                                                                                                                                                                                                                                                                                                                                                                                                                                                                                                                                                                                                                                                                                                                                                                                                                                                                                                                                                                                                                                                                                                                                                                                                                                                                                                                                                                                                                                                                                                                                                                                                                                                                                                                                                                                                                                                                                                                                                                                                                                                                                                                                                                                                                                                                                                                                                                                                                                                                                                                                                                                                                                                                                                                                                                                                                                                                                                                                                                                                                                                                                                                                                                                                                                                                                                                                                                                                                                                                                                                                                                                                                                                                                                                                                                                                                                                                                                                                                                                                                                                                                                                                                                                                                                                                                                                                                                                                                                                                                                                                                                                                                                                                                                                                                                                                                                                                                                                                                                                                                                                                                                                                                                                                                                                                                                                                                                                                                                                                                                                                                                                                                                                                                                                                                                                                                                                                                                                                                                                                                                                                                                                                                                                                                                                                                                                                                                                                                                                                                                                                                                                                                                                                                                                                                                                                                                                                                                                                                                                                                                                                                                                                                                                                                                                                                                                                                                                                                                                                                                                                                                                                                                                                                                                                                                                                                                                                                                                                                                                                                                                                                                                                                                                                                                                                                                                                                                                                                                                                                                                                                                                                                                                                                                                                                                                                                                                                                                                                                                                                                                                                                                                                                                                                                                                                                                                                                                                                                                                                                                                                                                                                                                                                                                                                                                                                                                                                                                                                                                                                                                                                                                                                                                                                                                                                                                                                                                                                                                                                                                                                                                                                                                                                                                                                                                                                                                                                                                                                                                                                                                                                                                                                                                                                                                                                                                                                                                                                                                                                                                                                                                                                                                                                                                                                                                                                                                                                                                                                                NaN                          NaN"
      ]
     },
     "execution_count": 92,
     "metadata": {},
     "output_type": "execute_result"
    }
   ],
   "source": [
    "inactive.describe(include='all')"
   ]
  },
  {
   "cell_type": "code",
   "execution_count": 93,
   "metadata": {},
   "outputs": [],
   "source": [
    "# Save the data\n",
    "inactive.to_pickle(\"./data/inactive_df.pkl.bz2\")"
   ]
  },
  {
   "cell_type": "markdown",
   "metadata": {},
   "source": [
    "#### Inconclusive\n",
    "The ```primary_active``` set has 3,283 compounds, which are all the molecules deemed *active* in the primary screening, plus two \"borderline\" *inactives*. However, only 1,750 of those were retested in the confirmatory screening. Of the ones not tested, some were removed for being \"autofluorescent\", and others just didn't have enogh material for retesting. Those were all deemed *inconclusive*. We can separated those in a third set for later."
   ]
  },
  {
   "cell_type": "code",
   "execution_count": 85,
   "metadata": {
    "scrolled": true
   },
   "outputs": [],
   "source": [
    "inconclusive = confirmatory_inconc.filter([\"PUBCHEM_SID\",\"SMILES\"], axis=1)"
   ]
  },
  {
   "cell_type": "code",
   "execution_count": 94,
   "metadata": {},
   "outputs": [
    {
     "data": {
      "text/plain": [
       "(1533, 2)"
      ]
     },
     "execution_count": 94,
     "metadata": {},
     "output_type": "execute_result"
    }
   ],
   "source": [
    "inconclusive.shape"
   ]
  },
  {
   "cell_type": "code",
   "execution_count": 87,
   "metadata": {},
   "outputs": [
    {
     "data": {
      "text/html": [
       "<table border=\"1\" class=\"dataframe\">\n",
       "  <thead>\n",
       "    <tr style=\"text-align: right;\">\n",
       "      <th></th>\n",
       "      <th>PUBCHEM_SID</th>\n",
       "      <th>SMILES</th>\n",
       "    </tr>\n",
       "  </thead>\n",
       "  <tbody>\n",
       "    <tr>\n",
       "      <th>1510</th>\n",
       "      <td>103073730</td>\n",
       "      <td>CC1=C(SC=C1)/C=C\\2/C(=O)C3=C(O2)C=C(C=C3)O</td>\n",
       "    </tr>\n",
       "    <tr>\n",
       "      <th>1763</th>\n",
       "      <td>103060449</td>\n",
       "      <td>CC(C)OC1=CC=CC=C1/C=C\\2/C(=O)N(/C(=C(/C#N)\\C(=O)NC3=CC=C(C=C3)C(=O)O)/S2)CCCOC</td>\n",
       "    </tr>\n",
       "    <tr>\n",
       "      <th>2164</th>\n",
       "      <td>103050569</td>\n",
       "      <td>C1OC2=C(O1)C=C(C=C2)/C=C\\3/C(=O)N(C(=S)S3)CCC(=O)N(CCO)C4=CC=CC=C4</td>\n",
       "    </tr>\n",
       "    <tr>\n",
       "      <th>3318</th>\n",
       "      <td>99454010</td>\n",
       "      <td>CCN\\1C2=CC=CC=C2C(/C1=C\\C=C\\C3=[N+](C4=CC=CC=C4C3(C)C)CC)(C)C.[O-]Cl(=O)(=O)=O</td>\n",
       "    </tr>\n",
       "    <tr>\n",
       "      <th>3418</th>\n",
       "      <td>99361064</td>\n",
       "      <td>C1=CSC(=C1)C=C(C#N)C2=NC(=CS2)C3=CC=C(C=C3)Cl</td>\n",
       "    </tr>\n",
       "  </tbody>\n",
       "</table>"
      ],
      "text/plain": [
       "      PUBCHEM_SID                                                                          SMILES\n",
       "1510    103073730                                      CC1=C(SC=C1)/C=C\\2/C(=O)C3=C(O2)C=C(C=C3)O\n",
       "1763    103060449  CC(C)OC1=CC=CC=C1/C=C\\2/C(=O)N(/C(=C(/C#N)\\C(=O)NC3=CC=C(C=C3)C(=O)O)/S2)CCCOC\n",
       "2164    103050569              C1OC2=C(O1)C=C(C=C2)/C=C\\3/C(=O)N(C(=S)S3)CCC(=O)N(CCO)C4=CC=CC=C4\n",
       "3318     99454010  CCN\\1C2=CC=CC=C2C(/C1=C\\C=C\\C3=[N+](C4=CC=CC=C4C3(C)C)CC)(C)C.[O-]Cl(=O)(=O)=O\n",
       "3418     99361064                                   C1=CSC(=C1)C=C(C#N)C2=NC(=CS2)C3=CC=C(C=C3)Cl"
      ]
     },
     "execution_count": 87,
     "metadata": {},
     "output_type": "execute_result"
    }
   ],
   "source": [
    "inconclusive.head()"
   ]
  },
  {
   "cell_type": "code",
   "execution_count": 96,
   "metadata": {},
   "outputs": [
    {
     "data": {
      "application/vnd.jupyter.widget-view+json": {
       "model_id": "ab6a97a0e3a2464d8af9447e40c652ee",
       "version_major": 2,
       "version_minor": 0
      },
      "text/plain": [
       "HBox(children=(IntProgress(value=0, description='Standardizing:', max=1533, style=ProgressStyle(description_wi…"
      ]
     },
     "metadata": {},
     "output_type": "display_data"
    },
    {
     "name": "stdout",
     "output_type": "stream",
     "text": [
      "\n"
     ]
    },
    {
     "data": {
      "application/vnd.jupyter.widget-view+json": {
       "model_id": "90e673fc6f294a1d8590e031cf342266",
       "version_major": 2,
       "version_minor": 0
      },
      "text/plain": [
       "HBox(children=(IntProgress(value=0, description='Generating InChi Keys:', max=1533, style=ProgressStyle(descri…"
      ]
     },
     "metadata": {},
     "output_type": "display_data"
    },
    {
     "name": "stdout",
     "output_type": "stream",
     "text": [
      "\n"
     ]
    },
    {
     "data": {
      "application/vnd.jupyter.widget-view+json": {
       "model_id": "7966e6f0c90b41eaabaf4e6a8450b254",
       "version_major": 2,
       "version_minor": 0
      },
      "text/plain": [
       "HBox(children=(IntProgress(value=0, description='Removing molecules with invalid atoms...', max=1533, style=Pr…"
      ]
     },
     "metadata": {},
     "output_type": "display_data"
    },
    {
     "name": "stdout",
     "output_type": "stream",
     "text": [
      "\n",
      "Looking for duplicates...\n",
      "7 duplicates found. Removing...\n",
      "Done\n",
      "Total time: 1.52e+02 seconds\n"
     ]
    }
   ],
   "source": [
    "inconclusive = prepare_data_pipeline(inconclusive)"
   ]
  },
  {
   "cell_type": "code",
   "execution_count": 97,
   "metadata": {},
   "outputs": [
    {
     "data": {
      "text/plain": [
       "(1526, 4)"
      ]
     },
     "execution_count": 97,
     "metadata": {},
     "output_type": "execute_result"
    }
   ],
   "source": [
    "inconclusive.shape"
   ]
  },
  {
   "cell_type": "code",
   "execution_count": 98,
   "metadata": {},
   "outputs": [
    {
     "data": {
      "text/html": [
       "<table border=\"1\" class=\"dataframe\">\n",
       "  <thead>\n",
       "    <tr style=\"text-align: right;\">\n",
       "      <th></th>\n",
       "      <th>PUBCHEM_SID</th>\n",
       "      <th>SMILES</th>\n",
       "      <th>mol</th>\n",
       "      <th>InChi Key</th>\n",
       "    </tr>\n",
       "  </thead>\n",
       "  <tbody>\n",
       "    <tr>\n",
       "      <th>0</th>\n",
       "      <td>103073730</td>\n",
       "      <td>CC1=C(SC=C1)/C=C\\2/C(=O)C3=C(O2)C=C(C=C3)O</td>\n",
       "      <td><img src=\"data:image/png;base64,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\" alt=\"Mol\"/></td>\n",
       "      <td>NCSQXKWNMARKHD-UHFFFAOYSA-N</td>\n",
       "    </tr>\n",
       "    <tr>\n",
       "      <th>1</th>\n",
       "      <td>103060449</td>\n",
       "      <td>CC(C)OC1=CC=CC=C1/C=C\\2/C(=O)N(/C(=C(/C#N)\\C(=O)NC3=CC=C(C=C3)C(=O)O)/S2)CCCOC</td>\n",
       "      <td><img src=\"data:image/png;base64,iVBORw0KGgoAAAANSUhEUgAAAMgAAADICAIAAAAiOjnJAAAABmJLR0QA/wD/AP+gvaeTAAAbaklEQVR4nO2deVyU1f7HP7OgrAKi4gYiggu5E6aCqWmGkYoYChmmUGj2y2u5jHlzuVdRrOsr1CwHd9SuF5dLlrig4gJXRUhTDEUREBdA9mERcOb8/jg6ESrM8hwG4bxf/TEN83zPd/DNOec52yMihIDDERqxoRPgNE24WBwmcLE4TOBicZjAxeIwgYvFYQIXi8MELhaHCVwsDhO4WBwmcLE4TOBicZjAxeIwgYvFYQIXi8MELhaHCVwsDhO4WBwmcLE4TOBicZjAxeIwgYvFYQIXi8MELhaHCVwsDhO4WBwmcLE4TOBicZjAxeIwgYvFYQIXi8MELhaHCVwsDhO4WBwmcLE4TOBicZjAxeIwgYvFYQIXi8MELhaHCVwsDhO4WBwmcLE4TOBicZjAxeIwgYvFYQIXi8MELlajoKCg4NKlS4bOQki4WIZEpVKdOHFi2rRpdnZ2kydPVqlUhs5IMKSGTqCZknH79ubt23fu3Hn//n0AEonExcWlsLDQxsbG0KkJAxerYamowK+/Ijz8Ynn5qv/9D0D37t39/f2nT5/u4OBg6OSERMSfCd0QEIL4eGzbhn37UFoK4LGNzZeTJn0QEODh4WHo5JjAxWLMunUAUFKCpUsBQCSChwcCA/H++zA3N2xqTOFNIUvWrcPf/gYAixahY0cEBCAoCM7Ohk6rIeBiNQgdOiArC+JmdA/Om0KWHDmC1FQA8PKCk5Ohs2lQmtHfkAE4eBD/+x/ee6+5WQVeY7GlfXvk5CAzE/b2hk6loeFiMaOoCNbWMDODQgGRyNDZNDS8KWTG9esA0KtXM7QKXCyGpKQAQK9ehs7DMHCxmMHF4rAgtqIizd1d0aePoRMxDLzzzgoHB4fMzMwbN2706NHD0LkYAC4WE8rLyy0sLKRSaVlZmVTaHKc3eFPIhJSUFJVK5ezs3DytAheLESkpKQBcXFwMnYjB4GIxgYrVq7neEoKvbhCce/fu7dmz58cff7S0tOzZs6eh0zEYXCxhqKioOHjw4Pbt22NjY+meiG+++WbKlCmGzstgNEWx6KJNusKOPUlJSREREXv27MnPzwdgbGw8bty44ODgUaNGiZrlZM5TSBMjLKz2Czbk5+fL5fL+/furf5Ourq5hYWF5eXlMy31VaIo1FkuUSmVsbGx4eHhUVFR1dTWA1q1bv//++7Nnz+7Xr5+hs2tENK0B0gcPsHkzSkpgagqVCm+8gfHjBQyflZXl5uaWk5MDwMjIyMvLa8aMGe+++26zHayqC0NXmYKyezcBiL8/+e9/CUDGjxcwtlKpdHd3t7S07NGjR2hoaHZ2toDBmx5N60/NwgIASkv/fCEcd+/ejY+Pt7W1vXHjhoBhmypNa4CU+qRQ/PlCOP744w8Ar732moAxmzBNSyy6BVSh+POFcPBZGq1oWmKxbAr5LI1WNEWxFApYWBAzM2WLFgLG5mJpRZMSq9Tc/PX27V2AJ+bm4rKylpmZRLjBFNpn52JpSJMax1KpVFKpVCQSVVdXm5mZPX78uKyszNTUVP/I2dnZHTp0sLKyKiws1D9ac6BJ1VhisdjExESlUtEFnABKBepm8Z67tjQpsQBQnxQKhfqFIGHpWANvBzWnaYpVWlpqbm4O4cTiPXdtaZpipaWl0f/lTaGhaFpTOsCUKVMePnw4c+bMu3fvurm5tW7dWpCwvMbSGkNPVgrJ0aNHra2tAXTq1MnMzAyAjY3Nrl279AxL7wRNTU2VSqUgeTYHmo5YcrmcLl/x8vIqKiq6f//+hAkT6B/P2LFj7969q1vYx48fr1ixAsDAgQOFTbhp0xTEqqiomDZtGgCRSCSTyWrWKzt27KB12Ntvp8jlRKXSImxycrJMJmvbti2AAQMGHDt2TPjUmy6vvFhZWVmvv/46AAsLi4MHDz7/gYcPH86evRUgABk5kty+XU/AvDwil/9Uc83xwIEDN27cyCT7povhxaqqqlq6dGlgYKCrq6tMJouJiamqqtLw2rNnz9ra2gJwcnJKTk6u45OHDpGOHQlATExIaCh58qT2B5RKEhNDAgKIiQkZMWIVACsrq+Dg4KSkJN2+VzPHwGJVVVX5+PjQrrG6hrC2tvbx8dm0aVNaWlod18rlciMjI9qFKiwsrLesvDwSEEBo1TVmzJ/v37xJvvqKdOr09EcSCfH3f7B///7Kykr9v2CzxZBiVVVVTZw4kdYNp0+fjomJkclkrq6uNW9aHR0dg4ODIyMj8/Pz1Rc+fvw4MDDwhZ2qejlyhNjbk88/J4SQW7fIrVtkwoSnSnXvTpYtIxkZgn/R5ojBxKqqqvL29qZWJSQkEEKKior27t376NGj9PT08PBwX1/fmk8skkgkgwcPXrJkyYEDBwYNGgTAzMxs3759OhRdUkK++46EhZHoaHLrFjlyhAQFkbg4ob9h88YwYlVWVtayihCyf/9+6pCLiwvtbJWVlSUmJoaGho4ePbply5b0p2KxmNZkv//+u84JUKuCg8mtWwJ9Jc5fMYBYaqusra0vXbqkfv/YsWNvv/22iYmJupYyNTX19PRcu3bt1atXFQrF4cOH586dSwfTDx8+rE8Oa9eSigouFkP0EuvGjRvaXlJZWUnHLWtZpaa8vPz48eMLFizo379/zS3q7du3z83NJYQsWrQIwMcff6xP5gcOEBMTsnChPjE4daGjWFu3bp0wYYJIJGrXrp2vr69cLs/Kyqr3qsrKyvHjx1OrEhMT6/18bm5uZGRkcHCwvb19ly5d6Js3b94UiUTm5uYKhUK35Akhs2YRgISE6ByAUw+6iLVlyxba0ak5xSsSifr27Ttv3ryjR4+Wl5c/f5XaqrZt2+rQPaq5QdTd3R3Azp07dUie4uhIAPKiGpMjDFqLpbYqJCSEEJKWliaXy319fS0tLdWSSaVSV1fXZcuWJSYm0rGAmlZdvXpVz6S3bNkCYMSIEbpdfucOAYi19QuGSTlCoZ1YmzdvplatWrWKvrNp06YVK1ZcuHChvLw8NjZ28eLFbm5u4hrPT2vbtu3kyZPp6JQgVhFCSkpK2rSxWrjwjbKyukZQX8aPPxKATJ6sfyKcl6KFWGqrVq9erX6zb9++VCBzc/PRo0eHhoZev369pKTk0KFDwcHBXbt2pT/t3LmzpaWlIFZR0tI+SUzE/ftLdLh20iQCkPBwoXLhvABNxQoPD3/eKkJIVFTU7Nmznf/61NBu3bp9+umnBw8eLCwsvHnz5syZMwG4ubkJmHdJyenERFy92lml0q49e/LkiZ1dlzfe8M7MrBAwH0IICQtjfSjXK4RGYlGrRCJR2Mt/cQ8ePIiMjAwICKjZo/f39yeElJSUGBkZSaXS4uJiwRInqmvXnBITUVx8XKvLzp8/D8DZ2Vm4TAghDXfg26tC/Wvew8PDZ86cSQgJCwv728vPX+zQoYOvr29ERERubu7FixdXrlw5fPjwd999F4CFhcWgQYOePHly9uzZeovTGJGNzUcA8vO3a3VZTEwMgDFjxgiXCedF1O3dpk2bRCKRSCRat26dPv4uW7YMwNy5c/UJUovKyqykJMlvvxk/eVKg+VXDhg0DEBUVJUwSSiWZOpXs3Ut+/fVpU9hkxvL1a9nrEktt1fr163UugELrqt69e+sZpxa3bo27fdunsjJdw8+rG+WioiJhMjh6lACka1dSWEi++IIId3diYPRu2V+6SycyMvLTTz8F8P3338+ePVvPenHIkCGtWrW6fv36w4cPO3TooGc0NU5OUTV3sCmVRSpVmVJZplIplMri3NyqhIRChUJRXFxcVlZWVlaWnJxcXV3t5uZGR93y8/Orqqr0ymfrVgD4+GP8+9/47jtcu4aYGH2/lWHJyRHkyZ0vFSsvL69169afffaZ/lYBkEqlw4YNO3z48MmTJz/88EP9Az5DXFl5u7j4MCDNyvq/Wj8rLR3ywQfna71pb29///79oqKi7OxsLy+vtm3bnjlzRr10Qjvy83HoECQSBARg4kQACArSJU6j4ttvsX49Zs5ESAhMTTFunG5hXipWXFxcfn4+Xfibmpr66NEjOpGiM6NGjWIgFoqLD1taelVV3QUgkbQSi83EYjOJxFIisQCcp0yxt7S0tLCwMHvGxo0bU1JSpkyZsnv3bpFIdPHixU8++SQiIkKXsnftQmUlvLxQVISkJFhZ4dm+oAYjPz+/5qo1famqwq5dqK7GtGlYvRoJCXB1hZOTLqFe1kbSaRMfH5+4uDgAffr00a2tVXP16lUAnTp10jPO8xQVRWdkBGv44YyMDLrxZvHixb///jvdfrhhwwZdCu7XjwDk4EHy+ecEeLoslRnV1dVpaWkxMTFhYWHBwcGjR4+2tbU1MjJasmRJ3Wu4tWD/fgKQPn1ITg4xMiJSKXnwQLdILxUrMzMTgJWVVXl5ubm5uUgkevjwoa75EkKISqWivZmUlBR94tSiqChaK7EIIefOnWvRooVIJNq7d++BAwdEIpFUKo2NjdWq3ISLF+cPGJAxZgwpLSVt2hCAXL6sXep1UlBQcP78+W3btslkMm9v7x49etAF/rWgy9f69u1bWloqQKljxxKArFtHvvmGAGTCBJ0j1XVX6OTkBCAhIWHs2LEA9uzZo3MxlKlTp+pePQhKWFgY/VdJSkqSyWQAbGxs7ty5o3mE4OBgAPPnz/8lMjLyzTcLx40TKrecnJx27do975BYLHZ0dBw7duyXX34pl8tPnz6dk5NTUlJCz9udOHGiSqttk89z7x6RSEiLFuTRI9KrFwHIoUM6B6tLrFmzZgFYtWrVv/71LwCBgYE6F0PZtm0bAG9vbz3jCEJQUBAABweHnJwcOpDbv3//srIyTa4tLy+3srICcP369dGjRwP44YcfBMkqJSXF2NjYxMSkZcuWLi4uvr6+Mpls586diYmJpaWlubm5Z8+eDQ8PnzdvnpeX1+3btwkhN2/epMmE6Le+LHn9eqWtLZkyhcTFEYC0b0803of3PHWJtW/fPgCjRo26cuUKAHt7e52Lody7dw+ApaVldXW1nqH0p6Kigm7KGDVqVG5uLq2ep06dqsm127dvBzB06ND09HR62ltBgRaDtHUwf/58ANOmTSOE5OXlRUVFrVmzJjAwcMiQIc8fcKIe5j127JhEIhGLxb/88otu5apUKkdHR2Op9OqpU/cWLiRSKVm0SJ8vUpdYBQUFEonE2Ni4rKysffv2AG7evKlDGSEhITt27KCv6XqHhQsX3q53SzJ7Hjx40LFjRwDz5s1LTk6mRyBpMsfg4eEBYOvWrUuXLgXw4YcfCpJPdXU1/T1fvHiREBIdHV3LJCsrq0GDBn300UerV68+cOAAXatNWblyJQALC4vr16/rUPTJkycB2NnZFRYWmpub97e1LdZvCqGeKR26e/348eP+/v4AdNhpTk/UMDIySk9Pj4+PNzExof+WeMmewQYmPj6eDmJt27YtKiqqZ8+e9d5bpKam0rXRxcXFXbp0AaBtx/9lHDx4EDXmJzIzM9955525c+du2rTp1KlTdd88qVSqyZMnA+jRo4cO8woffPABgOXLl2/evBnA8OHDdfsKauoRi+5ckMlk6tEHraKHhoYCkEgkERER586do1XCsGHDau0Z7GpnRwYPJkuWkLNn9WnXdePHH38EYGxsnJCQ8MI2+vn7/NatW0ulUnov0rVrV317zc/w8vIC8N133+l2uUKh6NOnD4Dx48drtYm3qKjI1NRULBZnZGQMHjwYQEREhG45qKlHLLoWwNXVVT368ETj9bxqq3bt2hUXF0et8vPzo/94SqXy0qVLISEhI0aM+HTEiKebkQFiYUHGjSPr15MGfPAfvcWzt7fPycnR6j6/c+fOmzdvFiSHe/fuSSSSFi1a1GzgtCU9Pb1NmzYAli1bpvlV33//PYAxY8bQ8+UsLS01vImpg3rEqqioMDExEYvFjx49cnZ2lkgk165d0yQuXc5ArVLXVX5+fi/2sqyMxMQQmYy4uhKR6KlhaWkNtnSusrJy6NCh+OsREjXv87t27erp6fnFF1/I5fLY2Njs7OySkhJ6cqSPj48gNRbtJPn6+uoZ58SJE/RM8sjIyHo/XFxcnJCQMGPGDAsLiwULFtAlmbNmzdIzB6LJQr9Ro0YB2Ldv35UrVzQ5e4MQQru0Eolk9+7daqv8/f01qu3u3yc7dpA5cxp46VxsbKxUKjU2Nn7hff4LL7lx4wadzF6zZo2epatUKnpbevToUT1DEUK+/fZbAObm5rVqgYKCgnPnzsnlcplM9t577zk6Otbcudm9e3dTU1OpVKrem64P9Yu1atUqrSyuZRU9vXjGjBlan7PYsGJ98cUXAKZPn67VVT///LNYLJZIJMeOabeQtRanTp2iDavmPY26mT59OoCOHTvKZDI/P78BAwa8sDI2MTHp37//lClTvv76a3ok2Ouvv/748WP9E6hfrEuXLtF2l+4ZrLv1/c9//gNAKpVGRkaePXuWWhUYGKjL6Z3R0WTtWvL550TXzqzmVFZW0glETbbR1mL58uU9e/q7uFTqc3tO7wO06hjVTUVFRbdu3WqtCLK2tnZ1dQ0ICAgNDY2MjExOTq7pcX5+vqOjI56NoulJ/WI9efLk559/Vif3/J7BWh8OCAjYt2+fvlZRMjIIQKysWO8ApEPBuk20q1SqyZOVAOndm+i2N5velIlEIv3nkh88eLBq1ar79+8TQuhUj4+Pz44dOy5cuKBJN+bKlSt0Vl7/Eww12kxRWVn5sj2Dfn5+W7durXV07JkzZwSwiuLkRAAiRKtfB56engB0XiirUJDevQlAvL21O+aUsnHjRgBvv/22bqXXZPXq1QAmTZp04cIFALa2tpofj0j56aefAIzp1q3q7Fl9MtF6J7RCoai1Z5CiHu08fPgwtSooKEiA86vpKQt/3XMmLFlZWfQ+/9GjRzoHuXOH2NgQgKxcqfW1AwcOBLB3716dS1fTs2dPANHR0Z988gmABQsW6BBk/8qVKmtr0q4d0fWoaaLnaTOpqakbN2709vauub+eWhUcHCzMsOG+fQQgo0cLEOol/POf/6RDIXrGOXKESCRELCaazKmUlJRcunRp9+7d1AArK6uKigpCSGFhYYauZwqeOXMGQKdOnYqLi1u1agXgjz/+0CWQUknefZcApH9/ouuAljDnY1VXV8fHxy9fvtzd3X3BggUhISFCDUaTvDwiFhNjY/Kig0b0R6VSdevWDUBMTIz+0dauJS88qeTuXRITQzZsILNnE0/Px3Z2djUr+86dO1tbW2dnZ6elpTk7O7/22mslJSU6lE7PJP/666/pHLm7u7vu36Sg4GknRLNZ+ecx/KnJ9aJycyt1cbl7+jSL4CdOnADg4OAgyFMnoqMJeXa0qfr17Nl/TivQ/zp06GxsbNyvXz9fX9/Fixf369cPwJAhQ/Ly8nr37g1gwoQJ2uZTXFxM7wBu375N58i3bdum15dJSSGtWhGArF2rw9WvgFhLvvoKgEwmYxGcTq7/4x//ECQanSmgR5vSLYbR0WTNGtKuHRk+nAQHk7VrSXQ0SU/PrulNXl4e7bDOmjVLPSejbUqbNm0C8NZbb6nPD9Ot2vsLBw4QiUS3Du4rINbx48fpwJ3gkQsLC+mElc7dmlrUPNqUvtZwB+vly5fpAKZcLj9+/LhEIhGJRPv379e8aDc3NwB79uxZuHAh9D7x8E9SU3W77hUQq+Z8pbCRN2zYAOCdd94RKiCdI1CLRcjT2ksTdu/eDcDIyOjMmTN0/t7CwqLupyKouXbtGh3ELi4upoOi58+f1/lb/AX1dG3NZl4DXgGxSI35SmHDDhgwAIAmk7UNA51WsrW1vXv3rp+fH52/02Rgk56p8dlnn0VFRQHo2bOnMAnVnFVTN+2aifVqPAiTikVXOQrFb7/9dvnyZRsbG3rUYGPg22+/9fT0zMnJ8fb23rhxo6ura2pqqp+fn1KprPtCd3d3Dw+PoKCgrVu3AqBDGMJz6xZSUzX9sDBqM+bQoUMAWrVqRQ/S1fkZcYSQK1eu0Bdz5sx54403hOq2C0V+fj4d/ggICNC2I//w4UMjI6MWLVrk5OQIkw3tJNK6Ssum/RUQKyMjo9YoP4A+ffp8+eWXR44c0WpJWnx8PABPT8+Kigr6uDm1Z40H9Tba9evXnzx5slevXhouY//73/8OYNKkSawz1ITGLlZmZiadcnd1dU1KSnrZQboymezcuXP1jv3QJ/AsWrSI9pQHDRpUUVHRCJ+bqt5Ge+rUqRcupKmqqqq1Wrpdu3YikahVq1Z6PlpBKBq1WDWtqrm/qrq6Wv0olJrrhtu0aUPbyvT09OejKRQKuuQwJSVl5MiRAORy+YoVKxwcHA4cONBw30ozvvrqKwA2NjZpaWl5eXlxcXFbtmxZsGDBuHHjnJ2d6bNka2FjY3PlyhWhVnTpSeMVS90C1rKqFgqFIiYmZs6cOTWbyxeuFKD7Qd588807d+6oNwPSDs3x43ot02OBUqmkG9BrPgNGjUQicXJy8vLymj9//ubNm8+dOyf4WIyeNFKx1FYNGTJE85NLU1NTf/jhh4kTJ75wOZGv70oAO3fuXLZsNYCPPvqIzufY2dk1kr/yWhQWFspksm7duj2/Wlr/zQ6saYxiqa0aOnSoUOfhXr9OANKvX3lxcVmXLqpBg7Lj4pKFnc9hhFB7rBuYRidWenq6g4ODsFYRQubNIwCZOZP8+uvTZ17m5ZWambUSi8WZmZlClcJR07jEUlvl7u4uwBzqMyorSbt2TxeiTpxIABIaSjZsIB06PJk1K16oUjg1aURipaamdu7cWXCryLPjxHr3/stxYgMGEIA0mumcpkZjmdK5devWyJEj79275+HhceTIETouIBRJSRCJ8PHHiIhAdTW8vPDgAS5fho0NGs10TlPjpWeQNjAtW7Zs2bKlh4dHdHS0sFYBWLUKQUFo0wY+PgAQGPj0sOOAAOh2qi2nXkSEEEPn8JSsrKzWrVvT2QxGKJU4dgxvvQV7ezx6hGvX0Ls3u9KaNY2lKQRgZ2fHzqojRwAgPR3du8PYGMnJ2LmTW8WQRlRjMWXdOgDo3h3OzjoeL83RikZUY7Gme3dERRk6iWZDMxJr7FhDZ9CcaC5NIaeBaUY1Fqch4WJxmMDF4jCBi8VhAheLwwQuFocJXCwOE7hYHCZwsThM4GJxmMDF4jCBi8VhAheLwwQuFocJXCwOE7hYHCZwsThM4GJxmMDF4jCBi8VhAheLwwQuFocJXCwOE7hYHCZwsThM4GJxmMDF4jCBi8VhAheLwwQuFocJXCwOE7hYHCZwsThM4GJxmMDF4jCBi8VhAheLwwQuFocJXCwOE7hYHCZwsThM4GJxmMDF4jCBi8VhAheLwwQuFocJ/w/XYnn4KIm1lAAAAABJRU5ErkJggg==\" alt=\"Mol\"/></td>\n",
       "      <td>VCTMLEXFWZBHAH-RJJIQZLVSA-N</td>\n",
       "    </tr>\n",
       "    <tr>\n",
       "      <th>2</th>\n",
       "      <td>103050569</td>\n",
       "      <td>C1OC2=C(O1)C=C(C=C2)/C=C\\3/C(=O)N(C(=S)S3)CCC(=O)N(CCO)C4=CC=CC=C4</td>\n",
       "      <td><img src=\"data:image/png;base64,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\" alt=\"Mol\"/></td>\n",
       "      <td>MJGXNLXLSMFZGM-UYRXBGFRSA-N</td>\n",
       "    </tr>\n",
       "    <tr>\n",
       "      <th>3</th>\n",
       "      <td>99454010</td>\n",
       "      <td>CCN\\1C2=CC=CC=C2C(/C1=C\\C=C\\C3=[N+](C4=CC=CC=C4C3(C)C)CC)(C)C.[O-]Cl(=O)(=O)=O</td>\n",
       "      <td><img src=\"data:image/png;base64,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\" alt=\"Mol\"/></td>\n",
       "      <td>PUIDNHIQNRMZGS-UHFFFAOYSA-N</td>\n",
       "    </tr>\n",
       "    <tr>\n",
       "      <th>4</th>\n",
       "      <td>99361064</td>\n",
       "      <td>C1=CSC(=C1)C=C(C#N)C2=NC(=CS2)C3=CC=C(C=C3)Cl</td>\n",
       "      <td><img src=\"data:image/png;base64,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\" alt=\"Mol\"/></td>\n",
       "      <td>DBBZPGMSSKBDQM-UHFFFAOYSA-N</td>\n",
       "    </tr>\n",
       "  </tbody>\n",
       "</table>"
      ],
      "text/plain": [
       "   PUBCHEM_SID                                                                          SMILES                                                                                                                                                                                                                                                                                                                                                                                                                                                                                                                                                                                                                                                                                                                                                                                                                                                                                                                                                                                                                                                                                                                                                                                                                                                                                                                                                                                                                                                                                                                                                                                                                                                                                                                                                                                                                                                                                                                                                                                                                                                                                                                                                                                                                                                                                                                                                                                                                                                                                                                                                                                                                                                                                                                                                                                                                                                                                                                                                                                                                                                                                                                                                                                                                                                                                                                                                                                                                                                                                                                                                                                                                                                                                                                                                                                                                                                                                                                                                                                                                                                                                                                                                                                                                                                                                                                                                                                                                                                                                                                                                                                                                                                                                                                                                                                                                                                                                                                                                                                                                                                                                                                                                                                                                                                                                                                                                                                                                                                                                                                                                                                                                                                                                                                                                                                                                                                                                                                                                                                                                                                                                                                                                                                                                                                                                                                                                                                                                                                                                                                                                                                                                                                                                                                                                                                                                                                                                                                                                                                                                                                                                                                                                                                                                                                                                                                                                                                                                                                                                                                                                                                                                                                                                                                                                                                                                                                                                                                                                                                                                                                                                                                                                                                                                                                                                                                                                                                                                                                                                                                                                                                                                                                                                                                                                                                                                                                                                                                                                                                                                                                                                                                                                                                                                                                                                                                                                                                                                                                                                                                                                                                                                                                                                                                                                                                                                                                                                                mol                    InChi Key\n",
       "0    103073730                                      CC1=C(SC=C1)/C=C\\2/C(=O)C3=C(O2)C=C(C=C3)O                                                                                                                                                                                                                                                                                                                                                                                                                                                                                                                                                                                                                                                                                                                                                                                                                                                                                                                                                                                                                                                                                                                                                                                          <img src=\"data:image/png;base64,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\" alt=\"Mol\"/>  NCSQXKWNMARKHD-UHFFFAOYSA-N\n",
       "1    103060449  CC(C)OC1=CC=CC=C1/C=C\\2/C(=O)N(/C(=C(/C#N)\\C(=O)NC3=CC=C(C=C3)C(=O)O)/S2)CCCOC  <img src=\"data:image/png;base64,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\" alt=\"Mol\"/>  VCTMLEXFWZBHAH-RJJIQZLVSA-N\n",
       "2    103050569              C1OC2=C(O1)C=C(C=C2)/C=C\\3/C(=O)N(C(=S)S3)CCC(=O)N(CCO)C4=CC=CC=C4                                                                                                                                                                                                                                                                                                                                                                                                                                                                                                                                                                                                                                                                                                                                                                                                                                                                                                                                                                                                                                                                                                                                                                                                                                                                                                                                                                                                                                                                                                                                                                                                                                                                                                                                                                                                                                                          <img src=\"data:image/png;base64,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\" alt=\"Mol\"/>  MJGXNLXLSMFZGM-UYRXBGFRSA-N\n",
       "3     99454010  CCN\\1C2=CC=CC=C2C(/C1=C\\C=C\\C3=[N+](C4=CC=CC=C4C3(C)C)CC)(C)C.[O-]Cl(=O)(=O)=O                                                                                                                                                                                                                                                                                                      <img src=\"data:image/png;base64,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\" alt=\"Mol\"/>  PUIDNHIQNRMZGS-UHFFFAOYSA-N\n",
       "4     99361064                                   C1=CSC(=C1)C=C(C#N)C2=NC(=CS2)C3=CC=C(C=C3)Cl                                                                                                                                                                                                                                                                                                                                                                                                                                                                                                                                                                                                                                                                                                                                                                                                                                                                                                                                                                                                                                                                                                                                                                                                                                                                                                                                                                                                                                                                                                      <img src=\"data:image/png;base64,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\" alt=\"Mol\"/>  DBBZPGMSSKBDQM-UHFFFAOYSA-N"
      ]
     },
     "execution_count": 98,
     "metadata": {},
     "output_type": "execute_result"
    }
   ],
   "source": [
    "inconclusive.head()"
   ]
  },
  {
   "cell_type": "code",
   "execution_count": 99,
   "metadata": {},
   "outputs": [],
   "source": [
    "# Save the data\n",
    "inconclusive.to_pickle(\"./data/inconclusive_df.pkl.bz2\")"
   ]
  },
  {
   "cell_type": "markdown",
   "metadata": {},
   "source": [
    "### Fingerprints"
   ]
  },
  {
   "cell_type": "code",
   "execution_count": 100,
   "metadata": {},
   "outputs": [],
   "source": [
    "# Add Fingerprints\n",
    "def get_rdkfingerprints(mol):\n",
    "    fp = RDKFingerprint(mol)\n",
    "    return np.array(list(map(int,fp.ToBitString())))\n",
    "\n",
    "def get_morganfingerprints(mol):\n",
    "    fp = GetMorganFingerprintAsBitVect(mol,2)\n",
    "    return np.array(list(map(int,fp.ToBitString())))\n",
    "\n",
    "def add_fingerprints(frame):\n",
    "    tqdm.pandas(desc=\"Generating RDKit Fingerprints:\")\n",
    "    frame['RDKit Fingerprints'] = frame['mol'].progress_apply(get_rdkfingerprints)\n",
    "    \n",
    "    tqdm.pandas(desc=\"Generating Morgan Fingerprints:\")\n",
    "    frame['Morgan Fingerprints'] = frame['mol'].progress_apply(get_morganfingerprints)\n",
    "    \n",
    "    return"
   ]
  },
  {
   "cell_type": "markdown",
   "metadata": {},
   "source": [
    "#### Actives"
   ]
  },
  {
   "cell_type": "code",
   "execution_count": 101,
   "metadata": {},
   "outputs": [
    {
     "data": {
      "application/vnd.jupyter.widget-view+json": {
       "model_id": "24847556b7f7408381a5a714350957de",
       "version_major": 2,
       "version_minor": 0
      },
      "text/plain": [
       "HBox(children=(IntProgress(value=0, description='Generating RDKit Fingerprints:', max=829, style=ProgressStyle…"
      ]
     },
     "metadata": {},
     "output_type": "display_data"
    },
    {
     "name": "stdout",
     "output_type": "stream",
     "text": [
      "\n"
     ]
    },
    {
     "data": {
      "application/vnd.jupyter.widget-view+json": {
       "model_id": "8c3284e9419947a7a9f8167dd4e9cdc8",
       "version_major": 2,
       "version_minor": 0
      },
      "text/plain": [
       "HBox(children=(IntProgress(value=0, description='Generating Morgan Fingerprints:', max=829, style=ProgressStyl…"
      ]
     },
     "metadata": {},
     "output_type": "display_data"
    },
    {
     "name": "stdout",
     "output_type": "stream",
     "text": [
      "\n"
     ]
    }
   ],
   "source": [
    "add_fingerprints(ncgc_active)"
   ]
  },
  {
   "cell_type": "code",
   "execution_count": 102,
   "metadata": {},
   "outputs": [
    {
     "data": {
      "text/plain": [
       "(829,)"
      ]
     },
     "execution_count": 102,
     "metadata": {},
     "output_type": "execute_result"
    }
   ],
   "source": [
    "active = ncgc_active.copy()\n",
    "active['RDKit Fingerprints'].shape"
   ]
  },
  {
   "cell_type": "code",
   "execution_count": 103,
   "metadata": {},
   "outputs": [
    {
     "data": {
      "text/plain": [
       "array([[<matplotlib.axes._subplots.AxesSubplot object at 0x000002639B42B588>,\n",
       "        <matplotlib.axes._subplots.AxesSubplot object at 0x000002639B551470>]],\n",
       "      dtype=object)"
      ]
     },
     "execution_count": 103,
     "metadata": {},
     "output_type": "execute_result"
    },
    {
     "data": {
      "image/png": "[encoded data removed]",
      "text/plain": [
       "<Figure size 432x288 with 2 Axes>"
      ]
     },
     "metadata": {
      "needs_background": "light"
     },
     "output_type": "display_data"
    }
   ],
   "source": [
    "active[['RDKit Fingerprints','Morgan Fingerprints']].apply(sum).hist()"
   ]
  },
  {
   "cell_type": "markdown",
   "metadata": {},
   "source": [
    "#### Inactives"
   ]
  },
  {
   "cell_type": "code",
   "execution_count": 104,
   "metadata": {},
   "outputs": [
    {
     "data": {
      "application/vnd.jupyter.widget-view+json": {
       "model_id": "3adb95fe26b84008b8c363d97e0fe043",
       "version_major": 2,
       "version_minor": 0
      },
      "text/plain": [
       "HBox(children=(IntProgress(value=0, description='Generating RDKit Fingerprints:', max=50000, style=ProgressSty…"
      ]
     },
     "metadata": {},
     "output_type": "display_data"
    },
    {
     "name": "stdout",
     "output_type": "stream",
     "text": [
      "\n"
     ]
    },
    {
     "data": {
      "application/vnd.jupyter.widget-view+json": {
       "model_id": "12e2e10a7a0a4b5f936cbe569e18e5a6",
       "version_major": 2,
       "version_minor": 0
      },
      "text/plain": [
       "HBox(children=(IntProgress(value=0, description='Generating Morgan Fingerprints:', max=50000, style=ProgressSt…"
      ]
     },
     "metadata": {},
     "output_type": "display_data"
    },
    {
     "name": "stdout",
     "output_type": "stream",
     "text": [
      "\n"
     ]
    }
   ],
   "source": [
    "add_fingerprints(inactive)"
   ]
  },
  {
   "cell_type": "code",
   "execution_count": 105,
   "metadata": {},
   "outputs": [
    {
     "data": {
      "text/plain": [
       "array([[<matplotlib.axes._subplots.AxesSubplot object at 0x000002639BDAA400>,\n",
       "        <matplotlib.axes._subplots.AxesSubplot object at 0x000002639BAA6320>]],\n",
       "      dtype=object)"
      ]
     },
     "execution_count": 105,
     "metadata": {},
     "output_type": "execute_result"
    },
    {
     "data": {
      "image/png": "[encoded data removed]",
      "text/plain": [
       "<Figure size 432x288 with 2 Axes>"
      ]
     },
     "metadata": {
      "needs_background": "light"
     },
     "output_type": "display_data"
    }
   ],
   "source": [
    "inactive[['RDKit Fingerprints','Morgan Fingerprints']].apply(sum).hist()"
   ]
  },
  {
   "cell_type": "markdown",
   "metadata": {},
   "source": [
    "#### Inconclusive"
   ]
  },
  {
   "cell_type": "code",
   "execution_count": 106,
   "metadata": {},
   "outputs": [
    {
     "data": {
      "application/vnd.jupyter.widget-view+json": {
       "model_id": "650cbd64c5684fd59579f27aa1d1cafc",
       "version_major": 2,
       "version_minor": 0
      },
      "text/plain": [
       "HBox(children=(IntProgress(value=0, description='Generating RDKit Fingerprints:', max=1526, style=ProgressStyl…"
      ]
     },
     "metadata": {},
     "output_type": "display_data"
    },
    {
     "name": "stdout",
     "output_type": "stream",
     "text": [
      "\n"
     ]
    },
    {
     "data": {
      "application/vnd.jupyter.widget-view+json": {
       "model_id": "8bb55293c6a541d08dc6f89154862ce3",
       "version_major": 2,
       "version_minor": 0
      },
      "text/plain": [
       "HBox(children=(IntProgress(value=0, description='Generating Morgan Fingerprints:', max=1526, style=ProgressSty…"
      ]
     },
     "metadata": {},
     "output_type": "display_data"
    },
    {
     "name": "stdout",
     "output_type": "stream",
     "text": [
      "\n"
     ]
    }
   ],
   "source": [
    "add_fingerprints(inconclusive)"
   ]
  },
  {
   "cell_type": "code",
   "execution_count": 107,
   "metadata": {},
   "outputs": [
    {
     "data": {
      "text/plain": [
       "array([[<matplotlib.axes._subplots.AxesSubplot object at 0x000002639BD22F98>,\n",
       "        <matplotlib.axes._subplots.AxesSubplot object at 0x000002639BB23A58>]],\n",
       "      dtype=object)"
      ]
     },
     "execution_count": 107,
     "metadata": {},
     "output_type": "execute_result"
    },
    {
     "data": {
      "image/png": "[encoded data removed]",
      "text/plain": [
       "<Figure size 432x288 with 2 Axes>"
      ]
     },
     "metadata": {
      "needs_background": "light"
     },
     "output_type": "display_data"
    }
   ],
   "source": [
    "inconclusive[['RDKit Fingerprints','Morgan Fingerprints']].apply(sum).hist()"
   ]
  },
  {
   "cell_type": "markdown",
   "metadata": {},
   "source": [
    "### Save the data"
   ]
  },
  {
   "cell_type": "code",
   "execution_count": 108,
   "metadata": {},
   "outputs": [],
   "source": [
    "# This took long... better save the intermediate results\n",
    "active.to_pickle(\"./data/active_df_fp.pkl.bz2\")\n",
    "inactive.to_pickle(\"./data/inactive_df_fp.pkl.bz2\")\n",
    "inconclusive.to_pickle(\"./data/inconclusive_df_fp.pkl.bz2\")"
   ]
  },
  {
   "cell_type": "code",
   "execution_count": null,
   "metadata": {},
   "outputs": [],
   "source": []
  }
 ],
 "metadata": {
  "kernelspec": {
   "display_name": "UNC-ML (Python 3.7.1)",
   "language": "python",
   "name": "unc"
  },
  "language_info": {
   "codemirror_mode": {
    "name": "ipython",
    "version": 3
   },
   "file_extension": ".py",
   "mimetype": "text/x-python",
   "name": "python",
   "nbconvert_exporter": "python",
   "pygments_lexer": "ipython3",
   "version": "3.7.3"
  },
  "toc": {
   "base_numbering": 1,
   "nav_menu": {},
   "number_sections": true,
   "sideBar": true,
   "skip_h1_title": false,
   "title_cell": "Table of Contents",
   "title_sidebar": "Contents",
   "toc_cell": false,
   "toc_position": {
    "height": "787px",
    "left": "0px",
    "top": "102.47px",
    "width": "209px"
   },
   "toc_section_display": true,
   "toc_window_display": true
  }
 },
 "nbformat": 4,
 "nbformat_minor": 2
}
