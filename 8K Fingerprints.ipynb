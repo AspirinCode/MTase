{
 "cells": [
  {
   "cell_type": "markdown",
   "metadata": {},
   "source": [
    "# Imports"
   ]
  },
  {
   "cell_type": "code",
   "execution_count": 2,
   "metadata": {},
   "outputs": [],
   "source": [
    "%matplotlib inline\n",
    "#%matplotlib notebook\n",
    "\n",
    "# The usual stuff\n",
    "import pandas as pd\n",
    "import numpy as np\n",
    "import matplotlib.pyplot as plt\n",
    "import warnings\n",
    "\n",
    "# Progress bar\n",
    "from tqdm import tnrange, tqdm_notebook\n",
    "from tqdm.auto import tqdm\n",
    "\n",
    "# For treating molecules\n",
    "import molvs\n",
    "from rdkit import Chem\n",
    "from rdkit.Chem import Draw\n",
    "from rdkit.Chem import PandasTools\n",
    "from rdkit.Chem.rdmolops import RDKFingerprint\n",
    "from rdkit.Chem.AllChem import GetMorganFingerprintAsBitVect\n",
    "\n",
    "# ML models\n",
    "## Model Selection\n",
    "from sklearn.model_selection import train_test_split, cross_val_score, cross_val_predict\n",
    "from sklearn.model_selection import GridSearchCV\n",
    "\n",
    "## Classification\n",
    "from sklearn.ensemble import RandomForestClassifier\n",
    "from sklearn.metrics import confusion_matrix, precision_score, recall_score, f1_score\n",
    "from sklearn.metrics import precision_recall_curve, roc_curve, roc_auc_score\n",
    "from sklearn.metrics import make_scorer\n",
    "\n",
    "## Regression\n",
    "from sklearn.ensemble import RandomForestRegressor\n",
    "from sklearn.metrics import explained_variance_score, median_absolute_error\n",
    "from sklearn.metrics import mean_absolute_error, mean_squared_error, r2_score"
   ]
  },
  {
   "cell_type": "markdown",
   "metadata": {},
   "source": [
    "# Functions"
   ]
  },
  {
   "cell_type": "code",
   "execution_count": null,
   "metadata": {},
   "outputs": [],
   "source": [
    "# Add Fingerprints\n",
    "def get_rdkfingerprints(mol):\n",
    "    fp = RDKFingerprint(mol)\n",
    "    return np.array(list(map(int,fp.ToBitString())))\n",
    "\n",
    "def get_morganfingerprints(mol):\n",
    "    fp = GetMorganFingerprintAsBitVect(mol,2)\n",
    "    return np.array(list(map(int,fp.ToBitString())))\n",
    "\n",
    "def add_fingerprints(frame):\n",
    "    \"\"\"\n",
    "    Gets as input a Pandas Dataframe of one molecule per row, with a required 'mol' column.\n",
    "    This 'mol' column must contain an RDKit mol object for each row (molecule)\n",
    "    \n",
    "    Adds to the dataframe a new column with the fingerprint.\n",
    "    \"\"\"\n",
    "\n",
    "    tqdm.pandas(desc=\"Generating Morgan Fingerprints:\")\n",
    "    frame['Morgan Fingerprints'] = frame['mol'].progress_apply(get_morganfingerprints)\n",
    "    \n",
    "    return"
   ]
  },
  {
   "cell_type": "markdown",
   "metadata": {},
   "source": [
    "# Data"
   ]
  },
  {
   "cell_type": "code",
   "execution_count": 3,
   "metadata": {},
   "outputs": [],
   "source": [
    "active = pd.read_pickle(\"./active.pkl.bz2\")\n",
    "inactive = pd.read_pickle(\"./inactive.pkl.bz2\")\n",
    "inconclusive = pd.read_pickle(\"./inconclusive.pkl.bz2\")"
   ]
  },
  {
   "cell_type": "code",
   "execution_count": 13,
   "metadata": {},
   "outputs": [],
   "source": [
    "active = active.drop(['RDKit Fingerprints','Morgan Fingerprints'], axis=1)\n",
    "inactive = inactive.drop(['RDKit Fingerprints','Morgan Fingerprints'], axis=1)\n",
    "inconclusive = inconclusive.drop(['RDKit Fingerprints','Morgan Fingerprints'], axis=1)"
   ]
  },
  {
   "cell_type": "code",
   "execution_count": 14,
   "metadata": {},
   "outputs": [
    {
     "name": "stdout",
     "output_type": "stream",
     "text": [
      "active       =  (829, 8)\n",
      "inactive     =  (50000, 5)\n",
      "Inconclusive =  (1526, 4)\n"
     ]
    }
   ],
   "source": [
    "# Results *should* be:\n",
    "# active       =  (829, 8)\n",
    "# inactive     =  (50000, 5)\n",
    "# Inconclusive =  (1526, 4)\n",
    "\n",
    "print(\"active       = \", active.shape)\n",
    "print(\"inactive     = \", inactive.shape)\n",
    "print(\"Inconclusive = \", inconclusive.shape)"
   ]
  },
  {
   "cell_type": "code",
   "execution_count": null,
   "metadata": {},
   "outputs": [],
   "source": []
  }
 ],
 "metadata": {
  "kernelspec": {
   "display_name": "UNC-ML (Python 3.7.1)",
   "language": "python",
   "name": "unc"
  },
  "language_info": {
   "codemirror_mode": {
    "name": "ipython",
    "version": 3
   },
   "file_extension": ".py",
   "mimetype": "text/x-python",
   "name": "python",
   "nbconvert_exporter": "python",
   "pygments_lexer": "ipython3",
   "version": "3.7.3"
  },
  "toc": {
   "base_numbering": 1,
   "nav_menu": {},
   "number_sections": true,
   "sideBar": true,
   "skip_h1_title": false,
   "title_cell": "Table of Contents",
   "title_sidebar": "Contents",
   "toc_cell": false,
   "toc_position": {},
   "toc_section_display": true,
   "toc_window_display": false
  }
 },
 "nbformat": 4,
 "nbformat_minor": 2
}
