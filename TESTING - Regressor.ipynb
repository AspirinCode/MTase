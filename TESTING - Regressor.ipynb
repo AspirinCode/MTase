{
 "cells": [
  {
   "cell_type": "markdown",
   "metadata": {},
   "source": [
    "# Import modules"
   ]
  },
  {
   "cell_type": "code",
   "execution_count": 17,
   "metadata": {},
   "outputs": [],
   "source": [
    "%matplotlib inline\n",
    "#%matplotlib notebook\n",
    "\n",
    "#Basic stuff\n",
    "import pandas as pd\n",
    "import numpy as np\n",
    "import matplotlib.pyplot as plt\n",
    "import warnings\n",
    "\n",
    "# ML models\n",
    "from sklearn.model_selection import train_test_split, cross_val_score, cross_val_predict\n",
    "from sklearn.model_selection import GridSearchCV\n",
    "from sklearn.ensemble import RandomForestRegressor\n",
    "from sklearn.metrics import confusion_matrix, precision_score, recall_score, f1_score\n",
    "from sklearn.metrics import precision_recall_curve, roc_curve, roc_auc_score\n",
    "from sklearn.metrics import make_scorer\n",
    "\n",
    "# Regression metrics\n",
    "from sklearn.metrics import explained_variance_score, median_absolute_error\n",
    "from sklearn.metrics import mean_absolute_error, mean_squared_error, r2_score\n",
    "\n",
    "# Initialize tqdm progress bar\n",
    "from tqdm import tqdm, tnrange, tqdm_notebook\n",
    "from tqdm.auto import tqdm\n",
    "tqdm.pandas(tqdm_notebook)"
   ]
  },
  {
   "cell_type": "code",
   "execution_count": 31,
   "metadata": {},
   "outputs": [],
   "source": [
    "%reload_ext autoreload\n",
    "%autoreload 2\n",
    "# The averaged random forest model\n",
    "from AverageRF import AverageRF\n",
    "from utils import train_test_split_data, evaluate_model"
   ]
  },
  {
   "cell_type": "markdown",
   "metadata": {},
   "source": [
    "# Functions"
   ]
  },
  {
   "cell_type": "code",
   "execution_count": 112,
   "metadata": {},
   "outputs": [],
   "source": [
    "def test_model(model, X_train, y_train, X_test, y_test):\n",
    "    \n",
    "    model.fit(X_train,y_train)\n",
    "    y_pred = model.predict(X_test)\n",
    "\n",
    "    # Regression stats\n",
    "    print(f\"Explained Variance Score = {explained_variance_score(y_test,y_pred):.2f}\")\n",
    "    print(f\"Mean Absolute Error      = {mean_absolute_error(y_test, y_pred):.2f}\")\n",
    "    print(f\"Mean SQUARED error       = {mean_squared_error(y_test, y_pred):.2f}\")\n",
    "    print(f\"MEDIAN ansolute error    = {median_absolute_error(y_test, y_pred):.2f}\")\n",
    "    print(f\"R^2 Score                = {r2_score(y_test, y_pred):.2f}\")"
   ]
  },
  {
   "cell_type": "markdown",
   "metadata": {},
   "source": [
    "# Data"
   ]
  },
  {
   "cell_type": "code",
   "execution_count": 3,
   "metadata": {},
   "outputs": [],
   "source": [
    "active = pd.read_pickle(\"./active.pkl.bz2\")"
   ]
  },
  {
   "cell_type": "code",
   "execution_count": 4,
   "metadata": {},
   "outputs": [
    {
     "data": {
      "text/html": [
       "<div>\n",
       "<style scoped>\n",
       "    .dataframe tbody tr th:only-of-type {\n",
       "        vertical-align: middle;\n",
       "    }\n",
       "\n",
       "    .dataframe tbody tr th {\n",
       "        vertical-align: top;\n",
       "    }\n",
       "\n",
       "    .dataframe thead th {\n",
       "        text-align: right;\n",
       "    }\n",
       "</style>\n",
       "<table border=\"1\" class=\"dataframe\">\n",
       "  <thead>\n",
       "    <tr style=\"text-align: right;\">\n",
       "      <th></th>\n",
       "      <th>PUBCHEM_SID</th>\n",
       "      <th>Curve Class</th>\n",
       "      <th>Log IC50</th>\n",
       "      <th>IC50</th>\n",
       "      <th>R2</th>\n",
       "    </tr>\n",
       "  </thead>\n",
       "  <tbody>\n",
       "    <tr>\n",
       "      <th>count</th>\n",
       "      <td>8.290000e+02</td>\n",
       "      <td>829.000000</td>\n",
       "      <td>829.000000</td>\n",
       "      <td>829.000000</td>\n",
       "      <td>829.000000</td>\n",
       "    </tr>\n",
       "    <tr>\n",
       "      <th>mean</th>\n",
       "      <td>4.170085e+07</td>\n",
       "      <td>1.477443</td>\n",
       "      <td>-4.624427</td>\n",
       "      <td>27.828946</td>\n",
       "      <td>0.974062</td>\n",
       "    </tr>\n",
       "    <tr>\n",
       "      <th>std</th>\n",
       "      <td>2.642937e+07</td>\n",
       "      <td>0.475725</td>\n",
       "      <td>0.278188</td>\n",
       "      <td>12.781898</td>\n",
       "      <td>0.026871</td>\n",
       "    </tr>\n",
       "    <tr>\n",
       "      <th>min</th>\n",
       "      <td>8.448520e+05</td>\n",
       "      <td>1.100000</td>\n",
       "      <td>-5.650000</td>\n",
       "      <td>2.238721</td>\n",
       "      <td>0.814713</td>\n",
       "    </tr>\n",
       "    <tr>\n",
       "      <th>25%</th>\n",
       "      <td>2.478228e+07</td>\n",
       "      <td>1.100000</td>\n",
       "      <td>-4.800000</td>\n",
       "      <td>15.848932</td>\n",
       "      <td>0.966273</td>\n",
       "    </tr>\n",
       "    <tr>\n",
       "      <th>50%</th>\n",
       "      <td>2.672420e+07</td>\n",
       "      <td>1.200000</td>\n",
       "      <td>-4.550000</td>\n",
       "      <td>28.183829</td>\n",
       "      <td>0.982946</td>\n",
       "    </tr>\n",
       "    <tr>\n",
       "      <th>75%</th>\n",
       "      <td>4.972512e+07</td>\n",
       "      <td>2.100000</td>\n",
       "      <td>-4.400000</td>\n",
       "      <td>39.810717</td>\n",
       "      <td>0.991663</td>\n",
       "    </tr>\n",
       "    <tr>\n",
       "      <th>max</th>\n",
       "      <td>1.031636e+08</td>\n",
       "      <td>2.200000</td>\n",
       "      <td>-4.100000</td>\n",
       "      <td>79.432823</td>\n",
       "      <td>0.999892</td>\n",
       "    </tr>\n",
       "  </tbody>\n",
       "</table>\n",
       "</div>"
      ],
      "text/plain": [
       "        PUBCHEM_SID  Curve Class    Log IC50        IC50          R2\n",
       "count  8.290000e+02   829.000000  829.000000  829.000000  829.000000\n",
       "mean   4.170085e+07     1.477443   -4.624427   27.828946    0.974062\n",
       "std    2.642937e+07     0.475725    0.278188   12.781898    0.026871\n",
       "min    8.448520e+05     1.100000   -5.650000    2.238721    0.814713\n",
       "25%    2.478228e+07     1.100000   -4.800000   15.848932    0.966273\n",
       "50%    2.672420e+07     1.200000   -4.550000   28.183829    0.982946\n",
       "75%    4.972512e+07     2.100000   -4.400000   39.810717    0.991663\n",
       "max    1.031636e+08     2.200000   -4.100000   79.432823    0.999892"
      ]
     },
     "execution_count": 4,
     "metadata": {},
     "output_type": "execute_result"
    }
   ],
   "source": [
    "active.describe()"
   ]
  },
  {
   "cell_type": "code",
   "execution_count": 5,
   "metadata": {},
   "outputs": [],
   "source": [
    "# Prepare a DataFrame with only the data we need\n",
    "columns = ['PUBCHEM_SID', 'RDKit Fingerprints', 'Morgan Fingerprints','Log IC50']\n",
    "data = active.filter(columns,axis=1)\n",
    "data.reset_index(inplace=True)"
   ]
  },
  {
   "cell_type": "code",
   "execution_count": 6,
   "metadata": {},
   "outputs": [],
   "source": [
    "X_morgan = np.array(list(data['Morgan Fingerprints'])).astype(int)\n",
    "y_data = data['Log IC50'].values"
   ]
  },
  {
   "cell_type": "markdown",
   "metadata": {},
   "source": [
    "## Train - Test split"
   ]
  },
  {
   "cell_type": "markdown",
   "metadata": {},
   "source": [
    "We will just separate the indices. This is useful if we want to test with different fingerprints."
   ]
  },
  {
   "cell_type": "code",
   "execution_count": 7,
   "metadata": {},
   "outputs": [
    {
     "name": "stdout",
     "output_type": "stream",
     "text": [
      "X_train: 746 \t\ty_train: 746\n",
      "X_test:  83 \t\ty_test:  83\n",
      "------------------------------------\n",
      "TOTAL: 829\n"
     ]
    }
   ],
   "source": [
    "# This split will return the indices for X, and the y values\n",
    "X_data = data.index\n",
    "y_data = data['Log IC50'].values\n",
    "X_train_index, X_test_index, y_train, y_test = train_test_split(X_data, y_data, test_size=0.10, shuffle=True)\n",
    "\n",
    "print(\"X_train:\", len(X_train_index), \"\\t\\ty_train:\",len(y_train))\n",
    "print(\"X_test: \", len(X_test_index), \"\\t\\ty_test: \",len(y_test))\n",
    "print(\"-\"*36)\n",
    "print(\"TOTAL:\",len(X_train_index) + len(X_test_index))"
   ]
  },
  {
   "cell_type": "markdown",
   "metadata": {},
   "source": [
    "# Morgan Fingerprints"
   ]
  },
  {
   "cell_type": "code",
   "execution_count": 9,
   "metadata": {},
   "outputs": [
    {
     "data": {
      "text/plain": [
       "((746, 2048), (746,))"
      ]
     },
     "execution_count": 9,
     "metadata": {},
     "output_type": "execute_result"
    }
   ],
   "source": [
    "X_train_morgan = np.array(list(data.iloc[X_train_index]['Morgan Fingerprints'])).astype(int)\n",
    "X_test_morgan  = np.array(list(data.iloc[X_test_index]['Morgan Fingerprints'])).astype(int)\n",
    "X_train_morgan.shape, y_train.shape"
   ]
  },
  {
   "cell_type": "code",
   "execution_count": 27,
   "metadata": {},
   "outputs": [
    {
     "data": {
      "text/plain": [
       "RandomForestRegressor(bootstrap=True, criterion='mse', max_depth=None,\n",
       "           max_features='auto', max_leaf_nodes=None,\n",
       "           min_impurity_decrease=0.0, min_impurity_split=None,\n",
       "           min_samples_leaf=1, min_samples_split=2,\n",
       "           min_weight_fraction_leaf=0.0, n_estimators=100, n_jobs=None,\n",
       "           oob_score=False, random_state=None, verbose=0, warm_start=False)"
      ]
     },
     "execution_count": 27,
     "metadata": {},
     "output_type": "execute_result"
    }
   ],
   "source": [
    "testRF_morgan = RandomForestRegressor(n_estimators=100)\n",
    "testRF_morgan.fit(X_train_morgan,y_train)"
   ]
  },
  {
   "cell_type": "code",
   "execution_count": 28,
   "metadata": {},
   "outputs": [],
   "source": [
    "y_morgan = testRF_morgan.predict(X_test_morgan)"
   ]
  },
  {
   "cell_type": "code",
   "execution_count": 30,
   "metadata": {},
   "outputs": [
    {
     "name": "stdout",
     "output_type": "stream",
     "text": [
      "Explained Variance Score = -0.007539566748421933\n",
      "Mean Absolute Error      = 0.16142771084337268\n",
      "Mean SQUARED error       = 0.05440681626506012\n",
      "MEDIAN ansolute error    = 0.11750000000000238\n",
      "R^2 Score                = -0.02711195004315914\n"
     ]
    }
   ],
   "source": [
    "# Regression stats\n",
    "print(\"Explained Variance Score =\", explained_variance_score(y_test,y_morgan))\n",
    "print(\"Mean Absolute Error      =\", mean_absolute_error(y_test, y_morgan))\n",
    "print(\"Mean SQUARED error       =\", mean_squared_error(y_test, y_morgan))\n",
    "print(\"MEDIAN ansolute error    =\", median_absolute_error(y_test, y_morgan))\n",
    "print(\"R^2 Score                =\", r2_score(y_test, y_morgan))"
   ]
  },
  {
   "cell_type": "markdown",
   "metadata": {},
   "source": [
    "# RDKit Fingerprints"
   ]
  },
  {
   "cell_type": "code",
   "execution_count": 21,
   "metadata": {},
   "outputs": [
    {
     "data": {
      "text/plain": [
       "((746, 2048), (746,))"
      ]
     },
     "execution_count": 21,
     "metadata": {},
     "output_type": "execute_result"
    }
   ],
   "source": [
    "X_train_rdkit = np.array(list(data.iloc[X_train_index]['RDKit Fingerprints'])).astype(int)\n",
    "X_test_rdkit  = np.array(list(data.iloc[X_test_index]['RDKit Fingerprints'])).astype(int)\n",
    "X_train_rdkit.shape, y_train.shape"
   ]
  },
  {
   "cell_type": "code",
   "execution_count": 23,
   "metadata": {},
   "outputs": [
    {
     "data": {
      "text/plain": [
       "RandomForestRegressor(bootstrap=True, criterion='mse', max_depth=None,\n",
       "           max_features='auto', max_leaf_nodes=None,\n",
       "           min_impurity_decrease=0.0, min_impurity_split=None,\n",
       "           min_samples_leaf=1, min_samples_split=2,\n",
       "           min_weight_fraction_leaf=0.0, n_estimators=100, n_jobs=None,\n",
       "           oob_score=False, random_state=None, verbose=0, warm_start=False)"
      ]
     },
     "execution_count": 23,
     "metadata": {},
     "output_type": "execute_result"
    }
   ],
   "source": [
    "testRF_rdkit = RandomForestRegressor(n_estimators=100)\n",
    "testRF_rdkit.fit(X_train_rdkit,y_train)"
   ]
  },
  {
   "cell_type": "code",
   "execution_count": 24,
   "metadata": {},
   "outputs": [],
   "source": [
    "y_rdkit = testRF_rdkit.predict(X_test_rdkit)"
   ]
  },
  {
   "cell_type": "code",
   "execution_count": 48,
   "metadata": {},
   "outputs": [
    {
     "name": "stdout",
     "output_type": "stream",
     "text": [
      "Explained Variance Score = 0.25\n",
      "Mean Absolute Error      = 0.16\n",
      "Mean SQUARED error       = 0.04\n",
      "MEDIAN ansolute error    = 0.13\n",
      "R^2 Score                = 0.20\n"
     ]
    }
   ],
   "source": [
    "# Regression stats\n",
    "print(f\"Explained Variance Score = {explained_variance_score(y_test,y_rdkit):.2f}\")\n",
    "print(f\"Mean Absolute Error      = {mean_absolute_error(y_test, y_rdkit):.2f}\")\n",
    "print(f\"Mean SQUARED error       = {mean_squared_error(y_test, y_rdkit):.2f}\")\n",
    "print(f\"MEDIAN ansolute error    = {median_absolute_error(y_test, y_rdkit):.2f}\")\n",
    "print(f\"R^2 Score                = {r2_score(y_test, y_rdkit):.2f}\")"
   ]
  },
  {
   "cell_type": "code",
   "execution_count": null,
   "metadata": {},
   "outputs": [],
   "source": []
  },
  {
   "cell_type": "code",
   "execution_count": null,
   "metadata": {},
   "outputs": [],
   "source": []
  },
  {
   "cell_type": "code",
   "execution_count": 66,
   "metadata": {},
   "outputs": [
    {
     "name": "stdout",
     "output_type": "stream",
     "text": [
      "SPLIT: 0  [TRAIN: 596 \tTEST: 150] \t Training Time:9.247 seconds.\n",
      "\t  Explained Variance    = 0.3509\n",
      "\t  Mean Absolute Error   = 0.1718\n",
      "\t  Mean Squared Error    = 0.0487\n",
      "\t  Median Absolute Error = 0.1582\n",
      "\t  R^2 Score             = 0.3507 \n",
      "\n",
      "SPLIT: 1  [TRAIN: 597 \tTEST: 149] \t Training Time:9.145 seconds.\n",
      "\t  Explained Variance    = 0.2893\n",
      "\t  Mean Absolute Error   = 0.1987\n",
      "\t  Mean Squared Error    = 0.0620\n",
      "\t  Median Absolute Error = 0.1670\n",
      "\t  R^2 Score             = 0.2810 \n",
      "\n",
      "SPLIT: 2  [TRAIN: 597 \tTEST: 149] \t Training Time:9.304 seconds.\n",
      "\t  Explained Variance    = 0.4468\n",
      "\t  Mean Absolute Error   = 0.1668\n",
      "\t  Mean Squared Error    = 0.0429\n",
      "\t  Median Absolute Error = 0.1520\n",
      "\t  R^2 Score             = 0.4038 \n",
      "\n",
      "SPLIT: 3  [TRAIN: 597 \tTEST: 149] \t Training Time:9.906 seconds.\n",
      "\t  Explained Variance    = 0.3282\n",
      "\t  Mean Absolute Error   = 0.1641\n",
      "\t  Mean Squared Error    = 0.0545\n",
      "\t  Median Absolute Error = 0.1195\n",
      "\t  R^2 Score             = 0.3253 \n",
      "\n",
      "SPLIT: 4  [TRAIN: 597 \tTEST: 149] \t Training Time:9.662 seconds.\n",
      "\t  Explained Variance    = 0.2231\n",
      "\t  Mean Absolute Error   = 0.1988\n",
      "\t  Mean Squared Error    = 0.0661\n",
      "\t  Median Absolute Error = 0.1600\n",
      "\t  R^2 Score             = 0.2065 \n",
      "\n"
     ]
    },
    {
     "data": {
      "text/plain": [
       "<AverageRF.AverageRF at 0x29ad2c3d080>"
      ]
     },
     "execution_count": 66,
     "metadata": {},
     "output_type": "execute_result"
    }
   ],
   "source": [
    "avgRF_test = AverageRF(model_type=\"regressor\",n_forests=5,n_estimators=100, verbosity=1)\n",
    "avgRF_test.fit(X_train_rdkit,y_train)"
   ]
  },
  {
   "cell_type": "code",
   "execution_count": 67,
   "metadata": {},
   "outputs": [
    {
     "data": {
      "text/html": [
       "<div>\n",
       "<style scoped>\n",
       "    .dataframe tbody tr th:only-of-type {\n",
       "        vertical-align: middle;\n",
       "    }\n",
       "\n",
       "    .dataframe tbody tr th {\n",
       "        vertical-align: top;\n",
       "    }\n",
       "\n",
       "    .dataframe thead th {\n",
       "        text-align: right;\n",
       "    }\n",
       "</style>\n",
       "<table border=\"1\" class=\"dataframe\">\n",
       "  <thead>\n",
       "    <tr style=\"text-align: right;\">\n",
       "      <th></th>\n",
       "      <th>Training Time (s)</th>\n",
       "      <th>Explained Variance</th>\n",
       "      <th>Mean Absolute Error</th>\n",
       "      <th>Mean Squared Error</th>\n",
       "      <th>Median Absolute Error</th>\n",
       "      <th>R^2</th>\n",
       "    </tr>\n",
       "  </thead>\n",
       "  <tbody>\n",
       "    <tr>\n",
       "      <th>0</th>\n",
       "      <td>9.247281</td>\n",
       "      <td>0.350902</td>\n",
       "      <td>0.171849</td>\n",
       "      <td>0.048680</td>\n",
       "      <td>0.15825</td>\n",
       "      <td>0.350745</td>\n",
       "    </tr>\n",
       "    <tr>\n",
       "      <th>1</th>\n",
       "      <td>9.144572</td>\n",
       "      <td>0.289271</td>\n",
       "      <td>0.198666</td>\n",
       "      <td>0.062024</td>\n",
       "      <td>0.16700</td>\n",
       "      <td>0.280961</td>\n",
       "    </tr>\n",
       "    <tr>\n",
       "      <th>2</th>\n",
       "      <td>9.304140</td>\n",
       "      <td>0.446837</td>\n",
       "      <td>0.166818</td>\n",
       "      <td>0.042864</td>\n",
       "      <td>0.15200</td>\n",
       "      <td>0.403803</td>\n",
       "    </tr>\n",
       "    <tr>\n",
       "      <th>3</th>\n",
       "      <td>9.905856</td>\n",
       "      <td>0.328216</td>\n",
       "      <td>0.164125</td>\n",
       "      <td>0.054528</td>\n",
       "      <td>0.11950</td>\n",
       "      <td>0.325295</td>\n",
       "    </tr>\n",
       "    <tr>\n",
       "      <th>4</th>\n",
       "      <td>9.662188</td>\n",
       "      <td>0.223077</td>\n",
       "      <td>0.198819</td>\n",
       "      <td>0.066142</td>\n",
       "      <td>0.16000</td>\n",
       "      <td>0.206488</td>\n",
       "    </tr>\n",
       "  </tbody>\n",
       "</table>\n",
       "</div>"
      ],
      "text/plain": [
       "   Training Time (s)  Explained Variance  Mean Absolute Error  \\\n",
       "0           9.247281            0.350902             0.171849   \n",
       "1           9.144572            0.289271             0.198666   \n",
       "2           9.304140            0.446837             0.166818   \n",
       "3           9.905856            0.328216             0.164125   \n",
       "4           9.662188            0.223077             0.198819   \n",
       "\n",
       "   Mean Squared Error  Median Absolute Error       R^2  \n",
       "0            0.048680                0.15825  0.350745  \n",
       "1            0.062024                0.16700  0.280961  \n",
       "2            0.042864                0.15200  0.403803  \n",
       "3            0.054528                0.11950  0.325295  \n",
       "4            0.066142                0.16000  0.206488  "
      ]
     },
     "execution_count": 67,
     "metadata": {},
     "output_type": "execute_result"
    }
   ],
   "source": [
    "avgRF_test_df = pd.DataFrame(avgRF_test.stats)\n",
    "avgRF_test_df"
   ]
  },
  {
   "cell_type": "code",
   "execution_count": 68,
   "metadata": {},
   "outputs": [],
   "source": [
    "y_pred_avgRF = avgRF_test.predict(X_test_rdkit)"
   ]
  },
  {
   "cell_type": "code",
   "execution_count": 69,
   "metadata": {},
   "outputs": [
    {
     "name": "stdout",
     "output_type": "stream",
     "text": [
      "Explained Variance Score = 0.20\n",
      "Mean Absolute Error      = 0.17\n",
      "Mean SQUARED error       = 0.05\n",
      "MEDIAN ansolute error    = 0.13\n",
      "R^2 Score                = 0.14\n"
     ]
    }
   ],
   "source": [
    "# Regression stats\n",
    "print(f\"Explained Variance Score = {explained_variance_score(y_test,y_pred_avgRF):.2f}\")\n",
    "print(f\"Mean Absolute Error      = {mean_absolute_error(y_test, y_pred_avgRF):.2f}\")\n",
    "print(f\"Mean SQUARED error       = {mean_squared_error(y_test, y_pred_avgRF):.2f}\")\n",
    "print(f\"MEDIAN ansolute error    = {median_absolute_error(y_test, y_pred_avgRF):.2f}\")\n",
    "print(f\"R^2 Score                = {r2_score(y_test, y_pred_avgRF):.2f}\")"
   ]
  },
  {
   "cell_type": "code",
   "execution_count": 63,
   "metadata": {},
   "outputs": [
    {
     "name": "stdout",
     "output_type": "stream",
     "text": [
      "Explained Variance Score = 0.25\n",
      "Mean Absolute Error      = 0.16\n",
      "Mean SQUARED error       = 0.04\n",
      "MEDIAN ansolute error    = 0.13\n",
      "R^2 Score                = 0.20\n"
     ]
    }
   ],
   "source": [
    "# Regression stats\n",
    "print(f\"Explained Variance Score = {explained_variance_score(y_test,y_rdkit):.2f}\")\n",
    "print(f\"Mean Absolute Error      = {mean_absolute_error(y_test, y_rdkit):.2f}\")\n",
    "print(f\"Mean SQUARED error       = {mean_squared_error(y_test, y_rdkit):.2f}\")\n",
    "print(f\"MEDIAN ansolute error    = {median_absolute_error(y_test, y_rdkit):.2f}\")\n",
    "print(f\"R^2 Score                = {r2_score(y_test, y_rdkit):.2f}\")"
   ]
  },
  {
   "cell_type": "code",
   "execution_count": 65,
   "metadata": {},
   "outputs": [
    {
     "data": {
      "text/plain": [
       "array([-4.5545    , -4.73      , -4.445     , -4.9205    , -4.48275   ,\n",
       "       -4.4205    , -4.866     , -4.51725   , -4.546     , -4.6685    ,\n",
       "       -4.49      , -4.703     , -4.893     , -4.5195    , -4.7055    ,\n",
       "       -4.5585    , -4.4045    , -4.6475    , -4.628     , -4.67      ,\n",
       "       -4.6635    , -4.75      , -4.422     , -4.7985    , -4.6385    ,\n",
       "       -4.8825    , -4.562     , -4.789     , -4.5495    , -4.6125    ,\n",
       "       -4.5665    , -4.522     , -4.522     , -4.796     , -4.8605    ,\n",
       "       -4.578     , -4.956     , -4.643     , -4.4885    , -4.62      ,\n",
       "       -4.558     , -4.763     , -4.967     , -4.6485    , -4.5255    ,\n",
       "       -4.6395    , -4.63      , -4.6585    , -4.706     , -4.729     ,\n",
       "       -4.7525    , -4.48266667, -4.777     , -4.63      , -4.541     ,\n",
       "       -4.565     , -4.8495    , -4.4975    , -5.0665    , -4.48575   ,\n",
       "       -4.5465    , -4.455     , -4.4645    , -4.43883333, -4.758     ,\n",
       "       -4.775     , -4.493     , -4.5565    , -4.713     , -4.605     ,\n",
       "       -4.5755    , -4.579     , -4.518     , -4.6255    , -4.462     ,\n",
       "       -4.472     , -4.7705    , -4.62183333, -4.8375    , -4.6835    ,\n",
       "       -4.651     , -4.706     , -4.56725   ])"
      ]
     },
     "execution_count": 65,
     "metadata": {},
     "output_type": "execute_result"
    }
   ],
   "source": [
    "y_rdkit"
   ]
  },
  {
   "cell_type": "code",
   "execution_count": 114,
   "metadata": {},
   "outputs": [
    {
     "name": "stdout",
     "output_type": "stream",
     "text": [
      "Explained Variance Score = 0.23\n",
      "Mean Absolute Error      = 0.16\n",
      "Mean SQUARED error       = 0.04\n",
      "MEDIAN ansolute error    = 0.12\n",
      "R^2 Score                = 0.22\n"
     ]
    }
   ],
   "source": [
    "from sklearn.ensemble import GradientBoostingRegressor\n",
    "gboos_reg = GradientBoostingRegressor(n_estimators=250, max_features='sqrt')\n",
    "test_model(gboos_reg, X_train_rdkit, y_train, X_test_rdkit, y_test)"
   ]
  },
  {
   "cell_type": "code",
   "execution_count": 115,
   "metadata": {},
   "outputs": [
    {
     "name": "stdout",
     "output_type": "stream",
     "text": [
      "Explained Variance Score = -846508297461.99\n",
      "Mean Absolute Error      = 157814.48\n",
      "Mean SQUARED error       = 44840127319.62\n",
      "MEDIAN ansolute error    = 106774.01\n",
      "R^2 Score                = -846508466641.59\n"
     ]
    }
   ],
   "source": [
    "from sklearn.linear_model import SGDRegressor\n",
    "dgr_reg = SGDRegressor(max_iter=1000, tol=1e-3)\n",
    "test_model(dgr_reg, X_train_rdkit, y_train, X_test_rdkit, y_test)"
   ]
  },
  {
   "cell_type": "code",
   "execution_count": 177,
   "metadata": {},
   "outputs": [
    {
     "name": "stdout",
     "output_type": "stream",
     "text": [
      "Explained Variance Score = 0.27\n",
      "Mean Absolute Error      = 0.16\n",
      "Mean SQUARED error       = 0.04\n",
      "MEDIAN ansolute error    = 0.15\n",
      "R^2 Score                = 0.24\n"
     ]
    }
   ],
   "source": [
    "from sklearn.linear_model import BayesianRidge\n",
    "bay_reg = BayesianRidge(n_iter=1000, normalize=True)\n",
    "test_model(bay_reg, X_train_rdkit, y_train, X_test_rdkit, y_test)"
   ]
  },
  {
   "cell_type": "code",
   "execution_count": 127,
   "metadata": {},
   "outputs": [
    {
     "name": "stdout",
     "output_type": "stream",
     "text": [
      "Explained Variance Score = -1.10\n",
      "Mean Absolute Error      = 0.24\n",
      "Mean SQUARED error       = 0.11\n",
      "MEDIAN ansolute error    = 0.17\n",
      "R^2 Score                = -1.13\n"
     ]
    }
   ],
   "source": [
    "from sklearn.linear_model import ARDRegression\n",
    "ard_reg = ARDRegression(n_iter=2000)\n",
    "test_model(ard_reg, X_train_rdkit, y_train, X_test_rdkit, y_test)"
   ]
  },
  {
   "cell_type": "code",
   "execution_count": 176,
   "metadata": {},
   "outputs": [
    {
     "name": "stdout",
     "output_type": "stream",
     "text": [
      "Explained Variance Score = 0.33\n",
      "Mean Absolute Error      = 0.15\n",
      "Mean SQUARED error       = 0.04\n",
      "MEDIAN ansolute error    = 0.12\n",
      "R^2 Score                = 0.31\n"
     ]
    }
   ],
   "source": [
    "from sklearn.svm import SVR\n",
    "svr_reg = SVR(kernel=\"rbf\",gamma=\"scale\", epsilon=0.05)\n",
    "test_model(svr_reg, X_train_rdkit, y_train, X_test_rdkit, y_test)"
   ]
  },
  {
   "cell_type": "code",
   "execution_count": 215,
   "metadata": {},
   "outputs": [
    {
     "data": {
      "text/plain": [
       "Text(0.5, 1.0, 'Support Vector Regressor')"
      ]
     },
     "execution_count": 215,
     "metadata": {},
     "output_type": "execute_result"
    },
    {
     "data": {
      "image/png": "[encoded data removed]",
      "text/plain": [
       "<Figure size 432x288 with 1 Axes>"
      ]
     },
     "metadata": {
      "needs_background": "light"
     },
     "output_type": "display_data"
    }
   ],
   "source": [
    "svr_reg.fit(X_train_rdkit, y_train)\n",
    "y_svr = svr_reg.predict(X_test_rdkit)\n",
    "fit_fn = np.poly1d(np.polyfit(y_test,rf_pred,1))\n",
    "fit_lim = [min(y_test),max(y_test)]\n",
    "plt.plot(y_test,y_svr, \"b.\",fit_lim,fit_fn(fit_lim),\"r\")\n",
    "plt.xlabel(\"Exp. pIC50\")\n",
    "plt.ylabel(\"Calc. pIC50\")\n",
    "plt.title(\"Support Vector Regressor\")"
   ]
  },
  {
   "cell_type": "code",
   "execution_count": 190,
   "metadata": {},
   "outputs": [
    {
     "name": "stdout",
     "output_type": "stream",
     "text": [
      "Explained Variance Score = 0.24\n",
      "Mean Absolute Error      = 0.16\n",
      "Mean SQUARED error       = 0.04\n",
      "MEDIAN ansolute error    = 0.12\n",
      "R^2 Score                = 0.20\n"
     ]
    }
   ],
   "source": [
    "from sklearn.ensemble import RandomForestRegressor\n",
    "rf_reg = RandomForestRegressor(bootstrap=False, criterion='mse',\n",
    "           max_features=\"sqrt\", n_estimators=1000, n_jobs=4, warm_start=False, \n",
    "           random_state=42)\n",
    "test_model(rf_reg, X_train_rdkit, y_train, X_test_rdkit, y_test)"
   ]
  },
  {
   "cell_type": "code",
   "execution_count": 191,
   "metadata": {},
   "outputs": [],
   "source": [
    "rf_reg.fit(X_train_rdkit, y_train)\n",
    "rf_pred = rf_reg.predict(X_test_rdkit)"
   ]
  },
  {
   "cell_type": "code",
   "execution_count": 214,
   "metadata": {},
   "outputs": [
    {
     "data": {
      "text/plain": [
       "Text(0.5, 1.0, 'Random Forest')"
      ]
     },
     "execution_count": 214,
     "metadata": {},
     "output_type": "execute_result"
    },
    {
     "data": {
      "image/png": "[encoded data removed]",
      "text/plain": [
       "<Figure size 432x288 with 1 Axes>"
      ]
     },
     "metadata": {
      "needs_background": "light"
     },
     "output_type": "display_data"
    }
   ],
   "source": [
    "fit_fn = np.poly1d(np.polyfit(y_test,rf_pred,1))\n",
    "fit_lim = [min(y_test),max(y_test)]\n",
    "plt.plot(y_test,rf_pred, \"b.\",fit_lim,fit_fn(fit_lim),\"r\")\n",
    "plt.xlabel(\"Exp. pIC50\")\n",
    "plt.ylabel(\"Calc. pIC50\")\n",
    "plt.title(\"Random Forest\")"
   ]
  },
  {
   "cell_type": "code",
   "execution_count": null,
   "metadata": {},
   "outputs": [],
   "source": []
  },
  {
   "cell_type": "code",
   "execution_count": 155,
   "metadata": {},
   "outputs": [
    {
     "name": "stdout",
     "output_type": "stream",
     "text": [
      "Explained Variance Score = 0.33\n",
      "Mean Absolute Error      = 0.15\n",
      "Mean SQUARED error       = 0.04\n",
      "MEDIAN ansolute error    = 0.12\n",
      "R^2 Score                = 0.29\n"
     ]
    }
   ],
   "source": [
    "from sklearn.ensemble import AdaBoostRegressor\n",
    "adab_reg = AdaBoostRegressor(base_estimator=svr_reg, n_estimators=50, loss=\"linear\")\n",
    "test_model(adab_reg, X_train_rdkit, y_train, X_test_rdkit, y_test)"
   ]
  },
  {
   "cell_type": "code",
   "execution_count": 158,
   "metadata": {},
   "outputs": [
    {
     "name": "stdout",
     "output_type": "stream",
     "text": [
      "Explained Variance Score = 0.33\n",
      "Mean Absolute Error      = 0.15\n",
      "Mean SQUARED error       = 0.04\n",
      "MEDIAN ansolute error    = 0.12\n",
      "R^2 Score                = 0.29\n"
     ]
    }
   ],
   "source": [
    "from sklearn.ensemble import AdaBoostRegressor\n",
    "adab_reg = AdaBoostRegressor(base_estimator=svr_reg, n_estimators=50, loss=\"exponential\")\n",
    "test_model(adab_reg, X_train_rdkit, y_train, X_test_rdkit, y_test)"
   ]
  },
  {
   "cell_type": "code",
   "execution_count": 163,
   "metadata": {},
   "outputs": [
    {
     "name": "stdout",
     "output_type": "stream",
     "text": [
      "Explained Variance Score = 0.26\n",
      "Mean Absolute Error      = 0.16\n",
      "Mean SQUARED error       = 0.04\n",
      "MEDIAN ansolute error    = 0.13\n",
      "R^2 Score                = 0.21\n"
     ]
    }
   ],
   "source": [
    "from sklearn.ensemble import AdaBoostRegressor\n",
    "adab_reg = AdaBoostRegressor(base_estimator=rf_reg, n_estimators=50, loss=\"exponential\")\n",
    "test_model(adab_reg, X_train_rdkit, y_train, X_test_rdkit, y_test)"
   ]
  },
  {
   "cell_type": "code",
   "execution_count": 180,
   "metadata": {},
   "outputs": [
    {
     "name": "stdout",
     "output_type": "stream",
     "text": [
      "Explained Variance Score = 0.11\n",
      "Mean Absolute Error      = 0.17\n",
      "Mean SQUARED error       = 0.05\n",
      "MEDIAN ansolute error    = 0.12\n",
      "R^2 Score                = 0.08\n"
     ]
    }
   ],
   "source": [
    "from sklearn.ensemble import AdaBoostRegressor\n",
    "adab_reg = AdaBoostRegressor(base_estimator=bay_reg, n_estimators=50, loss=\"linear\", random_state=42)\n",
    "test_model(adab_reg, X_train_rdkit, y_train, X_test_rdkit, y_test)"
   ]
  },
  {
   "cell_type": "code",
   "execution_count": null,
   "metadata": {},
   "outputs": [],
   "source": []
  }
 ],
 "metadata": {
  "kernelspec": {
   "display_name": "UNC-ML (Python 3.7.1)",
   "language": "python",
   "name": "unc"
  },
  "language_info": {
   "codemirror_mode": {
    "name": "ipython",
    "version": 3
   },
   "file_extension": ".py",
   "mimetype": "text/x-python",
   "name": "python",
   "nbconvert_exporter": "python",
   "pygments_lexer": "ipython3",
   "version": "3.7.3"
  },
  "toc": {
   "base_numbering": 1,
   "nav_menu": {},
   "number_sections": true,
   "sideBar": true,
   "skip_h1_title": false,
   "title_cell": "Table of Contents",
   "title_sidebar": "Contents",
   "toc_cell": false,
   "toc_position": {},
   "toc_section_display": true,
   "toc_window_display": true
  }
 },
 "nbformat": 4,
 "nbformat_minor": 2
}
