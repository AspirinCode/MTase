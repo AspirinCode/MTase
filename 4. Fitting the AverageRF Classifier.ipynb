{
 "cells": [
  {
   "cell_type": "markdown",
   "metadata": {},
   "source": [
    "# Import modules"
   ]
  },
  {
   "cell_type": "code",
   "execution_count": 1,
   "metadata": {},
   "outputs": [],
   "source": [
    "%matplotlib inline\n",
    "#%matplotlib notebook\n",
    "\n",
    "#Basic stuff\n",
    "import pandas as pd\n",
    "import numpy as np\n",
    "import matplotlib.pyplot as plt\n",
    "import warnings\n",
    "\n",
    "# ML models\n",
    "from sklearn.model_selection import train_test_split, cross_val_score, cross_val_predict\n",
    "from sklearn.model_selection import GridSearchCV\n",
    "from sklearn.ensemble import RandomForestClassifier\n",
    "from sklearn.metrics import confusion_matrix, precision_score, recall_score, f1_score\n",
    "from sklearn.metrics import precision_recall_curve, roc_curve, roc_auc_score\n",
    "from sklearn.metrics import make_scorer\n",
    "\n",
    "# Initialize tqdm progress bar\n",
    "from tqdm import tqdm, tnrange, tqdm_notebook\n",
    "from tqdm.auto import tqdm\n",
    "tqdm.pandas(tqdm_notebook)"
   ]
  },
  {
   "cell_type": "code",
   "execution_count": 2,
   "metadata": {},
   "outputs": [],
   "source": [
    "%reload_ext autoreload\n",
    "%autoreload 2\n",
    "# The averaged random forest model\n",
    "from AverageRF import AverageRF\n",
    "from utils import train_test_split_data, evaluate_model"
   ]
  },
  {
   "cell_type": "markdown",
   "metadata": {},
   "source": [
    "# Data"
   ]
  },
  {
   "cell_type": "code",
   "execution_count": 6,
   "metadata": {},
   "outputs": [],
   "source": [
    "active = pd.read_pickle(\"./active.pkl.bz2\")\n",
    "inactive = pd.read_pickle(\"./inactive.pkl.bz2\")\n",
    "inconclusive = pd.read_pickle(\"./inconclusive.pkl.bz2\")"
   ]
  },
  {
   "cell_type": "code",
   "execution_count": 7,
   "metadata": {},
   "outputs": [
    {
     "name": "stdout",
     "output_type": "stream",
     "text": [
      "active       =  (829, 10)\n",
      "inactive     =  (50000, 7)\n",
      "Inconclusive =  (1526, 6)\n"
     ]
    }
   ],
   "source": [
    "# Results *should* be:\n",
    "# active       =  (829, 10)\n",
    "# inactive     =  (50000, 7)\n",
    "# Inconclusive =  (1526, 6)\n",
    "\n",
    "print(\"active       = \", active.shape)\n",
    "print(\"inactive     = \", inactive.shape)\n",
    "print(\"Inconclusive = \", inconclusive.shape)"
   ]
  },
  {
   "cell_type": "code",
   "execution_count": 8,
   "metadata": {},
   "outputs": [],
   "source": [
    "# Add active bit for classification tasks\n",
    "active['ActiveBit']   = True\n",
    "inactive['ActiveBit'] = False"
   ]
  },
  {
   "cell_type": "code",
   "execution_count": 9,
   "metadata": {},
   "outputs": [],
   "source": [
    "# Prepare a DataFrame with only the data we need\n",
    "columns = ['PUBCHEM_SID', 'RDKit Fingerprints', 'Morgan Fingerprints','ActiveBit']\n",
    "data = pd.concat([active.filter(columns,axis=1),inactive],\n",
    "                 axis=0,join='inner', ignore_index=True)"
   ]
  },
  {
   "cell_type": "code",
   "execution_count": 13,
   "metadata": {},
   "outputs": [],
   "source": [
    "X_rdkit  = np.array(list(data['RDKit Fingerprints'])).astype(int)\n",
    "y_data = data['ActiveBit'].values"
   ]
  },
  {
   "cell_type": "code",
   "execution_count": 15,
   "metadata": {},
   "outputs": [
    {
     "name": "stdout",
     "output_type": "stream",
     "text": [
      "X_train:  7461 \ty_train:  7461 \t( 746 actives and 6715 inactives)\n",
      "X_test:   829  \ty_test:   829  \t( 83 actives and 746 inactives)\n"
     ]
    }
   ],
   "source": [
    "X_train, X_test, y_train, y_test = train_test_split_data(X_rdkit, y_data, rate_inactives=0.90)"
   ]
  },
  {
   "cell_type": "markdown",
   "metadata": {},
   "source": [
    "# Fit to RDKit Fingerprints"
   ]
  },
  {
   "cell_type": "code",
   "execution_count": 19,
   "metadata": {},
   "outputs": [],
   "source": [
    "avgRF_cls_rdkit = AverageRF(model_type=\"classifier\", n_forests=5, n_estimators=10, verbosity=1)"
   ]
  },
  {
   "cell_type": "code",
   "execution_count": 20,
   "metadata": {},
   "outputs": [
    {
     "name": "stdout",
     "output_type": "stream",
     "text": [
      "SPLIT: 0  [TRAIN: 5968 \tTEST: 1493] \t Training Time:0.282 seconds.\n",
      "Confusion Matrix = \n",
      " [[1336    7]\n",
      " [  87   63]]\n",
      "\t  Precision = 0.9000\n",
      "\t  Recall    = 0.4200\n",
      "\t  F1-score  = 0.5727\n",
      "\t  ROC AUC   = 0.8441\n",
      "\t  Score     = 0.9370 \n",
      "\n",
      "SPLIT: 1  [TRAIN: 5969 \tTEST: 1492] \t Training Time:0.297 seconds.\n",
      "Confusion Matrix = \n",
      " [[1325   18]\n",
      " [  92   57]]\n",
      "\t  Precision = 0.7600\n",
      "\t  Recall    = 0.3826\n",
      "\t  F1-score  = 0.5089\n",
      "\t  ROC AUC   = 0.8401\n",
      "\t  Score     = 0.9263 \n",
      "\n",
      "SPLIT: 2  [TRAIN: 5969 \tTEST: 1492] \t Training Time:0.301 seconds.\n",
      "Confusion Matrix = \n",
      " [[1327   16]\n",
      " [ 103   46]]\n",
      "\t  Precision = 0.7419\n",
      "\t  Recall    = 0.3087\n",
      "\t  F1-score  = 0.4360\n",
      "\t  ROC AUC   = 0.8492\n",
      "\t  Score     = 0.9202 \n",
      "\n",
      "SPLIT: 3  [TRAIN: 5969 \tTEST: 1492] \t Training Time:0.304 seconds.\n",
      "Confusion Matrix = \n",
      " [[1322   21]\n",
      " [  91   58]]\n",
      "\t  Precision = 0.7342\n",
      "\t  Recall    = 0.3893\n",
      "\t  F1-score  = 0.5088\n",
      "\t  ROC AUC   = 0.8531\n",
      "\t  Score     = 0.9249 \n",
      "\n",
      "SPLIT: 4  [TRAIN: 5969 \tTEST: 1492] \t Training Time:0.342 seconds.\n",
      "Confusion Matrix = \n",
      " [[1329   14]\n",
      " [ 102   47]]\n",
      "\t  Precision = 0.7705\n",
      "\t  Recall    = 0.3154\n",
      "\t  F1-score  = 0.4476\n",
      "\t  ROC AUC   = 0.8242\n",
      "\t  Score     = 0.9223 \n",
      "\n"
     ]
    },
    {
     "data": {
      "text/plain": [
       "<AverageRF.AverageRF at 0x1b44a1e3a58>"
      ]
     },
     "execution_count": 20,
     "metadata": {},
     "output_type": "execute_result"
    }
   ],
   "source": [
    "avgRF_cls_rdkit.fit(X_train,y_train)"
   ]
  },
  {
   "cell_type": "code",
   "execution_count": null,
   "metadata": {},
   "outputs": [],
   "source": []
  }
 ],
 "metadata": {
  "kernelspec": {
   "display_name": "UNC-ML (Python 3.7.1)",
   "language": "python",
   "name": "unc"
  },
  "language_info": {
   "codemirror_mode": {
    "name": "ipython",
    "version": 3
   },
   "file_extension": ".py",
   "mimetype": "text/x-python",
   "name": "python",
   "nbconvert_exporter": "python",
   "pygments_lexer": "ipython3",
   "version": "3.7.3"
  },
  "toc": {
   "base_numbering": 1,
   "nav_menu": {},
   "number_sections": true,
   "sideBar": true,
   "skip_h1_title": false,
   "title_cell": "Table of Contents",
   "title_sidebar": "Contents",
   "toc_cell": false,
   "toc_position": {},
   "toc_section_display": true,
   "toc_window_display": false
  }
 },
 "nbformat": 4,
 "nbformat_minor": 2
}
